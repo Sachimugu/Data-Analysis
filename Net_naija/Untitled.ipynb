{
 "cells": [
  {
   "cell_type": "markdown",
   "metadata": {
    "heading_collapsed": true
   },
   "source": [
    "#### importing required package and inspecting data set"
   ]
  },
  {
   "cell_type": "code",
   "execution_count": 233,
   "metadata": {
    "hidden": true
   },
   "outputs": [],
   "source": [
    "#imports the required packages\n",
    "import pandas as pd \n",
    "from matplotlib import pyplot as plt\n",
    "import seaborn as sns\n"
   ]
  },
  {
   "cell_type": "code",
   "execution_count": 234,
   "metadata": {
    "hidden": true
   },
   "outputs": [],
   "source": [
    "df=pd.read_csv('../Data/netnaija_movie.csv') #loads the dataset"
   ]
  },
  {
   "cell_type": "code",
   "execution_count": 235,
   "metadata": {
    "hidden": true
   },
   "outputs": [
    {
     "data": {
      "text/html": [
       "<div>\n",
       "<style scoped>\n",
       "    .dataframe tbody tr th:only-of-type {\n",
       "        vertical-align: middle;\n",
       "    }\n",
       "\n",
       "    .dataframe tbody tr th {\n",
       "        vertical-align: top;\n",
       "    }\n",
       "\n",
       "    .dataframe thead th {\n",
       "        text-align: right;\n",
       "    }\n",
       "</style>\n",
       "<table border=\"1\" class=\"dataframe\">\n",
       "  <thead>\n",
       "    <tr style=\"text-align: right;\">\n",
       "      <th></th>\n",
       "      <th>Unnamed: 0</th>\n",
       "      <th>titles</th>\n",
       "      <th>movie_types</th>\n",
       "      <th>time_of_uplos</th>\n",
       "      <th>movie_lengths</th>\n",
       "      <th>num_of_comments</th>\n",
       "      <th>Genres</th>\n",
       "      <th>Release_Dates</th>\n",
       "      <th>Starss</th>\n",
       "      <th>Languages</th>\n",
       "      <th>Subtitles</th>\n",
       "      <th>movie_linkss</th>\n",
       "      <th>imdb_links</th>\n",
       "      <th>mo_summarys</th>\n",
       "    </tr>\n",
       "  </thead>\n",
       "  <tbody>\n",
       "    <tr>\n",
       "      <th>0</th>\n",
       "      <td>0</td>\n",
       "      <td>No Man of God (2021)</td>\n",
       "      <td>['Movies']</td>\n",
       "      <td>Aug 27</td>\n",
       "      <td>['01:43:34']</td>\n",
       "      <td>['14']</td>\n",
       "      <td>[' Biography, Crime, Drama, History']</td>\n",
       "      <td>Release Date: Aug 19, 2021</td>\n",
       "      <td>[' Elijah Wood, Luke Kirby, Robert Patrick']</td>\n",
       "      <td>[' English']</td>\n",
       "      <td>[' English']</td>\n",
       "      <td>https://www.thenetnaija.com/videos/movies</td>\n",
       "      <td>https://www.imdb.com/title/tt13507778/</td>\n",
       "      <td>&lt;em&gt;In 1980, Ted Bundy was sentenced to death ...</td>\n",
       "    </tr>\n",
       "    <tr>\n",
       "      <th>1</th>\n",
       "      <td>1</td>\n",
       "      <td>Boomika (2021) [Indian]</td>\n",
       "      <td>['Movies']</td>\n",
       "      <td>Aug 25</td>\n",
       "      <td>['02:02:11']</td>\n",
       "      <td>['52']</td>\n",
       "      <td>[' Horror, Mystery, Thriller']</td>\n",
       "      <td>Release Date: Aug 20, 2021</td>\n",
       "      <td>[' Avantika, Pavel Navageethan, Aishwarya Raje...</td>\n",
       "      <td>[' India [Hindi]']</td>\n",
       "      <td>[' English']</td>\n",
       "      <td>https://www.thenetnaija.com/videos/movies</td>\n",
       "      <td>https://www.imdb.com/title/tt11073148/</td>\n",
       "      <td>Samyuktha's husband Gautham acquires a contrac...</td>\n",
       "    </tr>\n",
       "    <tr>\n",
       "      <th>2</th>\n",
       "      <td>2</td>\n",
       "      <td>Really Love (2020)</td>\n",
       "      <td>['Movies']</td>\n",
       "      <td>Aug 25</td>\n",
       "      <td>['01:35:18']</td>\n",
       "      <td>['25']</td>\n",
       "      <td>[' Drama, Romance']</td>\n",
       "      <td>Release Date: May 20, 2020</td>\n",
       "      <td>[' Uzo Aduba, Michael Ealy, Jade Eshete']</td>\n",
       "      <td>[' English']</td>\n",
       "      <td>[' English']</td>\n",
       "      <td>https://www.thenetnaija.com/videos/movies</td>\n",
       "      <td>https://www.imdb.com/title/tt8722624/</td>\n",
       "      <td>A rising black painter tries to break into a c...</td>\n",
       "    </tr>\n",
       "  </tbody>\n",
       "</table>\n",
       "</div>"
      ],
      "text/plain": [
       "   Unnamed: 0                   titles movie_types time_of_uplos  \\\n",
       "0           0     No Man of God (2021)  ['Movies']        Aug 27   \n",
       "1           1  Boomika (2021) [Indian]  ['Movies']        Aug 25   \n",
       "2           2       Really Love (2020)  ['Movies']        Aug 25   \n",
       "\n",
       "  movie_lengths num_of_comments                                 Genres  \\\n",
       "0  ['01:43:34']          ['14']  [' Biography, Crime, Drama, History']   \n",
       "1  ['02:02:11']          ['52']         [' Horror, Mystery, Thriller']   \n",
       "2  ['01:35:18']          ['25']                    [' Drama, Romance']   \n",
       "\n",
       "                Release_Dates  \\\n",
       "0  Release Date: Aug 19, 2021   \n",
       "1  Release Date: Aug 20, 2021   \n",
       "2  Release Date: May 20, 2020   \n",
       "\n",
       "                                              Starss           Languages  \\\n",
       "0       [' Elijah Wood, Luke Kirby, Robert Patrick']        [' English']   \n",
       "1  [' Avantika, Pavel Navageethan, Aishwarya Raje...  [' India [Hindi]']   \n",
       "2          [' Uzo Aduba, Michael Ealy, Jade Eshete']        [' English']   \n",
       "\n",
       "      Subtitles                               movie_linkss  \\\n",
       "0  [' English']  https://www.thenetnaija.com/videos/movies   \n",
       "1  [' English']  https://www.thenetnaija.com/videos/movies   \n",
       "2  [' English']  https://www.thenetnaija.com/videos/movies   \n",
       "\n",
       "                               imdb_links  \\\n",
       "0  https://www.imdb.com/title/tt13507778/   \n",
       "1  https://www.imdb.com/title/tt11073148/   \n",
       "2   https://www.imdb.com/title/tt8722624/   \n",
       "\n",
       "                                         mo_summarys  \n",
       "0  <em>In 1980, Ted Bundy was sentenced to death ...  \n",
       "1  Samyuktha's husband Gautham acquires a contrac...  \n",
       "2  A rising black painter tries to break into a c...  "
      ]
     },
     "execution_count": 235,
     "metadata": {},
     "output_type": "execute_result"
    }
   ],
   "source": [
    "df.head(3) # checks the first 3 rows"
   ]
  },
  {
   "cell_type": "code",
   "execution_count": 236,
   "metadata": {
    "hidden": true
   },
   "outputs": [
    {
     "data": {
      "text/html": [
       "<div>\n",
       "<style scoped>\n",
       "    .dataframe tbody tr th:only-of-type {\n",
       "        vertical-align: middle;\n",
       "    }\n",
       "\n",
       "    .dataframe tbody tr th {\n",
       "        vertical-align: top;\n",
       "    }\n",
       "\n",
       "    .dataframe thead th {\n",
       "        text-align: right;\n",
       "    }\n",
       "</style>\n",
       "<table border=\"1\" class=\"dataframe\">\n",
       "  <thead>\n",
       "    <tr style=\"text-align: right;\">\n",
       "      <th></th>\n",
       "      <th>Unnamed: 0</th>\n",
       "      <th>titles</th>\n",
       "      <th>movie_types</th>\n",
       "      <th>time_of_uplos</th>\n",
       "      <th>movie_lengths</th>\n",
       "      <th>num_of_comments</th>\n",
       "      <th>Genres</th>\n",
       "      <th>Release_Dates</th>\n",
       "      <th>Starss</th>\n",
       "      <th>Languages</th>\n",
       "      <th>Subtitles</th>\n",
       "      <th>movie_linkss</th>\n",
       "      <th>imdb_links</th>\n",
       "      <th>mo_summarys</th>\n",
       "    </tr>\n",
       "  </thead>\n",
       "  <tbody>\n",
       "    <tr>\n",
       "      <th>2707</th>\n",
       "      <td>2707</td>\n",
       "      <td>London Has Fallen (2016)</td>\n",
       "      <td>['Movies']</td>\n",
       "      <td>May 15, 2016</td>\n",
       "      <td>['01:38:00']</td>\n",
       "      <td>0</td>\n",
       "      <td>missing</td>\n",
       "      <td>missing</td>\n",
       "      <td>missing</td>\n",
       "      <td>missing</td>\n",
       "      <td>missing</td>\n",
       "      <td>https://www.thenetnaija.com/videos/movies</td>\n",
       "      <td>missing</td>\n",
       "      <td>After the British Prime Minister has passed aw...</td>\n",
       "    </tr>\n",
       "    <tr>\n",
       "      <th>2708</th>\n",
       "      <td>2708</td>\n",
       "      <td>The Trust (2016) [Starr. Nicolas Cage]</td>\n",
       "      <td>['Movies']</td>\n",
       "      <td>Apr 08, 2016</td>\n",
       "      <td>['01:32:00']</td>\n",
       "      <td>0</td>\n",
       "      <td>missing</td>\n",
       "      <td>missing</td>\n",
       "      <td>missing</td>\n",
       "      <td>missing</td>\n",
       "      <td>missing</td>\n",
       "      <td>https://www.thenetnaija.com/videos/movies</td>\n",
       "      <td>missing</td>\n",
       "      <td>Waters and Stone are two nobody police officer...</td>\n",
       "    </tr>\n",
       "    <tr>\n",
       "      <th>2709</th>\n",
       "      <td>2709</td>\n",
       "      <td>Dance Camp (2016)</td>\n",
       "      <td>['Movies']</td>\n",
       "      <td>Mar 13, 2016</td>\n",
       "      <td>['01:23:43']</td>\n",
       "      <td>0</td>\n",
       "      <td>missing</td>\n",
       "      <td>missing</td>\n",
       "      <td>missing</td>\n",
       "      <td>missing</td>\n",
       "      <td>missing</td>\n",
       "      <td>https://www.thenetnaija.com/videos/movies</td>\n",
       "      <td>missing</td>\n",
       "      <td>When Hunter gets sent to a dance camp, he meet...</td>\n",
       "    </tr>\n",
       "  </tbody>\n",
       "</table>\n",
       "</div>"
      ],
      "text/plain": [
       "      Unnamed: 0                                  titles movie_types  \\\n",
       "2707        2707                London Has Fallen (2016)  ['Movies']   \n",
       "2708        2708  The Trust (2016) [Starr. Nicolas Cage]  ['Movies']   \n",
       "2709        2709                       Dance Camp (2016)  ['Movies']   \n",
       "\n",
       "     time_of_uplos movie_lengths num_of_comments   Genres Release_Dates  \\\n",
       "2707  May 15, 2016  ['01:38:00']               0  missing       missing   \n",
       "2708  Apr 08, 2016  ['01:32:00']               0  missing       missing   \n",
       "2709  Mar 13, 2016  ['01:23:43']               0  missing       missing   \n",
       "\n",
       "       Starss Languages Subtitles                               movie_linkss  \\\n",
       "2707  missing   missing   missing  https://www.thenetnaija.com/videos/movies   \n",
       "2708  missing   missing   missing  https://www.thenetnaija.com/videos/movies   \n",
       "2709  missing   missing   missing  https://www.thenetnaija.com/videos/movies   \n",
       "\n",
       "     imdb_links                                        mo_summarys  \n",
       "2707    missing  After the British Prime Minister has passed aw...  \n",
       "2708    missing  Waters and Stone are two nobody police officer...  \n",
       "2709    missing  When Hunter gets sent to a dance camp, he meet...  "
      ]
     },
     "execution_count": 236,
     "metadata": {},
     "output_type": "execute_result"
    }
   ],
   "source": [
    "df.tail(3) #checks the last 3 row"
   ]
  },
  {
   "cell_type": "code",
   "execution_count": 237,
   "metadata": {
    "hidden": true
   },
   "outputs": [
    {
     "name": "stdout",
     "output_type": "stream",
     "text": [
      "number of rows are: 2710\n",
      "number of columns are: 14\n"
     ]
    }
   ],
   "source": [
    "print('number of rows are:', df.shape[0]) #number of row\n",
    "print('number of columns are:', df.shape[1]) #number of columns"
   ]
  },
  {
   "cell_type": "code",
   "execution_count": 239,
   "metadata": {
    "hidden": true,
    "scrolled": false
   },
   "outputs": [
    {
     "name": "stdout",
     "output_type": "stream",
     "text": [
      "<class 'pandas.core.frame.DataFrame'>\n",
      "RangeIndex: 2710 entries, 0 to 2709\n",
      "Data columns (total 14 columns):\n",
      " #   Column           Non-Null Count  Dtype \n",
      "---  ------           --------------  ----- \n",
      " 0   Unnamed: 0       2710 non-null   int64 \n",
      " 1   titles           2710 non-null   object\n",
      " 2   movie_types      2710 non-null   object\n",
      " 3   time_of_uplos    2710 non-null   object\n",
      " 4   movie_lengths    2710 non-null   object\n",
      " 5   num_of_comments  2710 non-null   object\n",
      " 6   Genres           2710 non-null   object\n",
      " 7   Release_Dates    2710 non-null   object\n",
      " 8   Starss           2710 non-null   object\n",
      " 9   Languages        2710 non-null   object\n",
      " 10  Subtitles        2710 non-null   object\n",
      " 11  movie_linkss     2710 non-null   object\n",
      " 12  imdb_links       2710 non-null   object\n",
      " 13  mo_summarys      2710 non-null   object\n",
      "dtypes: int64(1), object(13)\n",
      "memory usage: 296.5+ KB\n"
     ]
    }
   ],
   "source": [
    "df.info() #dataframe information"
   ]
  },
  {
   "cell_type": "code",
   "execution_count": 300,
   "metadata": {
    "hidden": true
   },
   "outputs": [
    {
     "data": {
      "text/plain": [
       "Index(['title', 'movie_type', 'movie_length', 'num_of_comments', 'genres',\n",
       "       'release_date', 'stars', 'language', 'subtitle', 'movie_link',\n",
       "       'imdb_link', 'movie_summary'],\n",
       "      dtype='object')"
      ]
     },
     "execution_count": 300,
     "metadata": {},
     "output_type": "execute_result"
    }
   ],
   "source": [
    "df.columns # list of columns"
   ]
  },
  {
   "cell_type": "code",
   "execution_count": 243,
   "metadata": {
    "hidden": true
   },
   "outputs": [],
   "source": [
    "df=df.rename(columns={\n",
    "    'time_of_uplos':'upload_date',\n",
    "    'movie_lengths':'movie_length',\n",
    "    'titles':'title',\n",
    "    'movie_types':'movie_type',\n",
    "    'Genres':'genres',\n",
    "    'Release_Dates':'release_date',\n",
    "    'Starss':'stars',\n",
    "    'Languages':'language',\n",
    "    'Subtitles':'subtitle',\n",
    "    'movie_linkss':'movie_link',\n",
    "    'imdb_links':'imdb_link', \n",
    "    'mo_summarys':'movie_summary'\n",
    "    })"
   ]
  },
  {
   "cell_type": "code",
   "execution_count": 245,
   "metadata": {
    "hidden": true
   },
   "outputs": [],
   "source": [
    "#df=df.drop(columns={'Unnamed: 0'})"
   ]
  },
  {
   "cell_type": "code",
   "execution_count": 299,
   "metadata": {
    "hidden": true
   },
   "outputs": [
    {
     "data": {
      "text/html": [
       "<div>\n",
       "<style scoped>\n",
       "    .dataframe tbody tr th:only-of-type {\n",
       "        vertical-align: middle;\n",
       "    }\n",
       "\n",
       "    .dataframe tbody tr th {\n",
       "        vertical-align: top;\n",
       "    }\n",
       "\n",
       "    .dataframe thead th {\n",
       "        text-align: right;\n",
       "    }\n",
       "</style>\n",
       "<table border=\"1\" class=\"dataframe\">\n",
       "  <thead>\n",
       "    <tr style=\"text-align: right;\">\n",
       "      <th></th>\n",
       "      <th>title</th>\n",
       "      <th>movie_type</th>\n",
       "      <th>movie_length</th>\n",
       "      <th>num_of_comments</th>\n",
       "      <th>genres</th>\n",
       "      <th>release_date</th>\n",
       "      <th>stars</th>\n",
       "      <th>language</th>\n",
       "      <th>subtitle</th>\n",
       "      <th>movie_link</th>\n",
       "      <th>imdb_link</th>\n",
       "      <th>movie_summary</th>\n",
       "    </tr>\n",
       "    <tr>\n",
       "      <th>date_of_upload</th>\n",
       "      <th></th>\n",
       "      <th></th>\n",
       "      <th></th>\n",
       "      <th></th>\n",
       "      <th></th>\n",
       "      <th></th>\n",
       "      <th></th>\n",
       "      <th></th>\n",
       "      <th></th>\n",
       "      <th></th>\n",
       "      <th></th>\n",
       "      <th></th>\n",
       "    </tr>\n",
       "  </thead>\n",
       "  <tbody>\n",
       "    <tr>\n",
       "      <th>2021-08-27</th>\n",
       "      <td>No Man of God (2021)</td>\n",
       "      <td>Movies</td>\n",
       "      <td>01:43:34</td>\n",
       "      <td>14</td>\n",
       "      <td>Biography, Crime, Drama, History</td>\n",
       "      <td>2021-08-19</td>\n",
       "      <td>Elijah Wood, Luke Kirby, Robert Patrick</td>\n",
       "      <td>English</td>\n",
       "      <td>English</td>\n",
       "      <td>https://www.thenetnaija.com/videos/movies</td>\n",
       "      <td>https://www.imdb.com/title/tt13507778/</td>\n",
       "      <td>&lt;em&gt;In 1980, Ted Bundy was sentenced to death ...</td>\n",
       "    </tr>\n",
       "    <tr>\n",
       "      <th>2021-08-25</th>\n",
       "      <td>Boomika (2021) [Indian]</td>\n",
       "      <td>Movies</td>\n",
       "      <td>02:02:11</td>\n",
       "      <td>52</td>\n",
       "      <td>Horror, Mystery, Thriller</td>\n",
       "      <td>2021-08-20</td>\n",
       "      <td>Avantika, Pavel Navageethan, Aishwarya Raje...</td>\n",
       "      <td>India  Hindi</td>\n",
       "      <td>English</td>\n",
       "      <td>https://www.thenetnaija.com/videos/movies</td>\n",
       "      <td>https://www.imdb.com/title/tt11073148/</td>\n",
       "      <td>Samyuktha's husband Gautham acquires a contrac...</td>\n",
       "    </tr>\n",
       "    <tr>\n",
       "      <th>2020-08-25</th>\n",
       "      <td>Really Love (2020)</td>\n",
       "      <td>Movies</td>\n",
       "      <td>01:35:18</td>\n",
       "      <td>25</td>\n",
       "      <td>Drama, Romance</td>\n",
       "      <td>2020-05-20</td>\n",
       "      <td>Uzo Aduba, Michael Ealy, Jade Eshete</td>\n",
       "      <td>English</td>\n",
       "      <td>English</td>\n",
       "      <td>https://www.thenetnaija.com/videos/movies</td>\n",
       "      <td>https://www.imdb.com/title/tt8722624/</td>\n",
       "      <td>A rising black painter tries to break into a c...</td>\n",
       "    </tr>\n",
       "  </tbody>\n",
       "</table>\n",
       "</div>"
      ],
      "text/plain": [
       "                                  title movie_type  movie_length  \\\n",
       "date_of_upload                                                     \n",
       "2021-08-27         No Man of God (2021)     Movies    01:43:34     \n",
       "2021-08-25      Boomika (2021) [Indian]     Movies    02:02:11     \n",
       "2020-08-25           Really Love (2020)     Movies    01:35:18     \n",
       "\n",
       "                num_of_comments                                 genres  \\\n",
       "date_of_upload                                                           \n",
       "2021-08-27                   14     Biography, Crime, Drama, History     \n",
       "2021-08-25                   52            Horror, Mystery, Thriller     \n",
       "2020-08-25                   25                       Drama, Romance     \n",
       "\n",
       "               release_date  \\\n",
       "date_of_upload                \n",
       "2021-08-27       2021-08-19   \n",
       "2021-08-25       2021-08-20   \n",
       "2020-08-25       2020-05-20   \n",
       "\n",
       "                                                            stars  \\\n",
       "date_of_upload                                                      \n",
       "2021-08-27              Elijah Wood, Luke Kirby, Robert Patrick     \n",
       "2021-08-25         Avantika, Pavel Navageethan, Aishwarya Raje...   \n",
       "2020-08-25                 Uzo Aduba, Michael Ealy, Jade Eshete     \n",
       "\n",
       "                          language      subtitle  \\\n",
       "date_of_upload                                     \n",
       "2021-08-27               English       English     \n",
       "2021-08-25         India  Hindi        English     \n",
       "2020-08-25               English       English     \n",
       "\n",
       "                                               movie_link  \\\n",
       "date_of_upload                                              \n",
       "2021-08-27      https://www.thenetnaija.com/videos/movies   \n",
       "2021-08-25      https://www.thenetnaija.com/videos/movies   \n",
       "2020-08-25      https://www.thenetnaija.com/videos/movies   \n",
       "\n",
       "                                             imdb_link  \\\n",
       "date_of_upload                                           \n",
       "2021-08-27      https://www.imdb.com/title/tt13507778/   \n",
       "2021-08-25      https://www.imdb.com/title/tt11073148/   \n",
       "2020-08-25       https://www.imdb.com/title/tt8722624/   \n",
       "\n",
       "                                                    movie_summary  \n",
       "date_of_upload                                                     \n",
       "2021-08-27      <em>In 1980, Ted Bundy was sentenced to death ...  \n",
       "2021-08-25      Samyuktha's husband Gautham acquires a contrac...  \n",
       "2020-08-25      A rising black painter tries to break into a c...  "
      ]
     },
     "execution_count": 299,
     "metadata": {},
     "output_type": "execute_result"
    }
   ],
   "source": [
    "df.head(3)"
   ]
  },
  {
   "cell_type": "code",
   "execution_count": null,
   "metadata": {
    "hidden": true
   },
   "outputs": [],
   "source": []
  },
  {
   "cell_type": "markdown",
   "metadata": {
    "heading_collapsed": true
   },
   "source": [
    "####    cleaning the movie_type columns"
   ]
  },
  {
   "cell_type": "code",
   "execution_count": 247,
   "metadata": {
    "hidden": true
   },
   "outputs": [],
   "source": [
    "#cleaning the movie_type columns\n",
    "#removing [''] saurrounding the values\n",
    "df['movie_type']=df['movie_type'].str.replace('[', '')\n",
    "df['movie_type']=df['movie_type'].str.replace(']', '')\n",
    "df['movie_type']=df['movie_type'].str.replace('\\'', '')"
   ]
  },
  {
   "cell_type": "code",
   "execution_count": 248,
   "metadata": {
    "hidden": true
   },
   "outputs": [
    {
     "data": {
      "text/plain": [
       "dtype('O')"
      ]
     },
     "execution_count": 248,
     "metadata": {},
     "output_type": "execute_result"
    }
   ],
   "source": [
    "# movie_type datatype\n",
    "df['movie_type'].dtypes"
   ]
  },
  {
   "cell_type": "code",
   "execution_count": 249,
   "metadata": {
    "hidden": true
   },
   "outputs": [
    {
     "data": {
      "text/plain": [
       "Movies    2710\n",
       "Name: movie_type, dtype: int64"
      ]
     },
     "execution_count": 249,
     "metadata": {},
     "output_type": "execute_result"
    }
   ],
   "source": [
    "#movie_type unique value counts\n",
    "df['movie_type'].value_counts()"
   ]
  },
  {
   "cell_type": "code",
   "execution_count": 250,
   "metadata": {
    "hidden": true
   },
   "outputs": [
    {
     "data": {
      "text/plain": [
       "0"
      ]
     },
     "execution_count": 250,
     "metadata": {},
     "output_type": "execute_result"
    }
   ],
   "source": [
    "#check for empty or null values\n",
    "df['movie_type'].isnull().sum()"
   ]
  },
  {
   "cell_type": "code",
   "execution_count": 251,
   "metadata": {
    "hidden": true
   },
   "outputs": [],
   "source": [
    "# renaming the column\n",
    "df=df.rename(columns={'movie_types':'Movie_Type'})"
   ]
  },
  {
   "cell_type": "markdown",
   "metadata": {
    "heading_collapsed": true
   },
   "source": [
    "#### cleaning the date of upload column"
   ]
  },
  {
   "cell_type": "code",
   "execution_count": 252,
   "metadata": {
    "hidden": true
   },
   "outputs": [],
   "source": [
    "df['daynmonth']=df['upload_date'].str.split(',') #new columns from days\n",
    "df['daynmonth']=df['daynmonth'].apply(lambda x: x[0])\n",
    "df['year']=df['title'].str.extract('(\\d{4})') #new columns for year\n",
    "df['date_of_upload']=df['daynmonth']+' '+df['year']\n",
    "df['date_of_upload']=pd.to_datetime(df['date_of_upload'], errors='coerce') #covert to timeseries datatype\n",
    "df['date_of_upload'].isnull().sum() #sum of columns with invalid date\n",
    "df['date_of_upload'].dropna # remove columns with invalid date\n",
    "df=df.set_index('date_of_upload') #set date of uploaad as column\n",
    "df=df.drop(['Unnamed: 0', 'upload_date', 'daynmonth', 'year'], axis=1) # removing redundant columns"
   ]
  },
  {
   "cell_type": "markdown",
   "metadata": {
    "heading_collapsed": true
   },
   "source": [
    "#### cleaning the movie_length column"
   ]
  },
  {
   "cell_type": "code",
   "execution_count": 253,
   "metadata": {
    "hidden": true
   },
   "outputs": [
    {
     "data": {
      "text/plain": [
       "0"
      ]
     },
     "execution_count": 253,
     "metadata": {},
     "output_type": "execute_result"
    }
   ],
   "source": [
    "#removing [''] from the length of movie\n",
    "df['movie_length']=df['movie_length'].str.replace('[',' ')\n",
    "df['movie_length']=df['movie_length'].str.replace(']',' ')\n",
    "df['movie_length']=df['movie_length'].str.replace('\\'',' ')\n",
    "df['movie_length'].isnull().sum()#checking for missing value"
   ]
  },
  {
   "cell_type": "markdown",
   "metadata": {
    "heading_collapsed": true
   },
   "source": [
    "#### cleaning the num_of_comments column"
   ]
  },
  {
   "cell_type": "code",
   "execution_count": 254,
   "metadata": {
    "hidden": true
   },
   "outputs": [],
   "source": [
    "#removing [''] from the length of movie\n",
    "#seems we are going to be removing [''] from most columns, here is a function\n",
    "def rmbracket(columns): # defining a function\n",
    "    columns=columns.str.replace('[',' ')\n",
    "    columns=columns.str.replace(']',' ')\n",
    "    columns=columns.str.replace('\\'',' ')\n",
    "    return columns\n",
    "\n",
    "df['num_of_comments']=rmbracket(df['num_of_comments'])#calling a function\n",
    "\n",
    "df['num_of_comments'].isnull().sum() #check for invalid values\n",
    "df['num_of_comments']=df['num_of_comments'].astype(int) #changes the data type from object to integer type"
   ]
  },
  {
   "cell_type": "markdown",
   "metadata": {
    "heading_collapsed": true
   },
   "source": [
    "#### cleaning the genres column"
   ]
  },
  {
   "cell_type": "code",
   "execution_count": 255,
   "metadata": {
    "hidden": true
   },
   "outputs": [],
   "source": [
    "#removing [''] from the length of genres\n",
    "\n",
    "df['genres']=rmbracket(df['genres'])#calling a function"
   ]
  },
  {
   "cell_type": "markdown",
   "metadata": {
    "heading_collapsed": true
   },
   "source": [
    "#### cleaning the release_date column"
   ]
  },
  {
   "cell_type": "code",
   "execution_count": 256,
   "metadata": {
    "hidden": true
   },
   "outputs": [],
   "source": [
    "df['release_date']=df['release_date'].str.replace('Release Date:', ' ') #removes the comma"
   ]
  },
  {
   "cell_type": "code",
   "execution_count": 257,
   "metadata": {
    "hidden": true
   },
   "outputs": [],
   "source": [
    "df['release_date']=pd.to_datetime(df['release_date'], errors='coerce') #covert to time series data type"
   ]
  },
  {
   "cell_type": "code",
   "execution_count": 258,
   "metadata": {
    "hidden": true
   },
   "outputs": [],
   "source": [
    "df['release_date'].isnull().sum() #check for numbers of null values\n",
    "df=df.dropna() #removes null vlaues"
   ]
  },
  {
   "cell_type": "markdown",
   "metadata": {
    "heading_collapsed": true
   },
   "source": [
    "#### cleaning the stars column"
   ]
  },
  {
   "cell_type": "code",
   "execution_count": 259,
   "metadata": {
    "hidden": true
   },
   "outputs": [],
   "source": [
    "#removing [''] from the length of stars\n",
    "\n",
    "df['stars']=rmbracket(df['stars'])#calling a function"
   ]
  },
  {
   "cell_type": "markdown",
   "metadata": {
    "heading_collapsed": true
   },
   "source": [
    "#### cleaning the language​ column"
   ]
  },
  {
   "cell_type": "code",
   "execution_count": 260,
   "metadata": {
    "hidden": true
   },
   "outputs": [],
   "source": [
    "#removing [''] from the length of stars\n",
    "\n",
    "df['language']=rmbracket(df['language'])#calling a function\n",
    "df['language']=df['language'].str.replace('\\\\xa0', ' ')"
   ]
  },
  {
   "cell_type": "markdown",
   "metadata": {
    "heading_collapsed": true
   },
   "source": [
    "#### cleaning the subtitle column"
   ]
  },
  {
   "cell_type": "code",
   "execution_count": 261,
   "metadata": {
    "hidden": true
   },
   "outputs": [],
   "source": [
    "#removing [''] from the length of stars\n",
    "\n",
    "df['subtitle']=rmbracket(df['subtitle'])#calling a function"
   ]
  },
  {
   "cell_type": "markdown",
   "metadata": {},
   "source": [
    "#### cleaning summary"
   ]
  },
  {
   "cell_type": "code",
   "execution_count": 352,
   "metadata": {},
   "outputs": [],
   "source": [
    "#saving the new dataframe\n",
    "df.to_csv(\"../Data/netnaija_movie01.csv\")\n",
    "df.to_excel('../Data/netnaija_movie01.xlsx')"
   ]
  },
  {
   "cell_type": "code",
   "execution_count": 349,
   "metadata": {},
   "outputs": [
    {
     "data": {
      "text/html": [
       "<div>\n",
       "<style scoped>\n",
       "    .dataframe tbody tr th:only-of-type {\n",
       "        vertical-align: middle;\n",
       "    }\n",
       "\n",
       "    .dataframe tbody tr th {\n",
       "        vertical-align: top;\n",
       "    }\n",
       "\n",
       "    .dataframe thead th {\n",
       "        text-align: right;\n",
       "    }\n",
       "</style>\n",
       "<table border=\"1\" class=\"dataframe\">\n",
       "  <thead>\n",
       "    <tr style=\"text-align: right;\">\n",
       "      <th></th>\n",
       "      <th>title</th>\n",
       "      <th>movie_type</th>\n",
       "      <th>movie_length</th>\n",
       "      <th>num_of_comments</th>\n",
       "      <th>genres</th>\n",
       "      <th>release_date</th>\n",
       "      <th>stars</th>\n",
       "      <th>language</th>\n",
       "      <th>subtitle</th>\n",
       "      <th>movie_link</th>\n",
       "      <th>imdb_link</th>\n",
       "      <th>movie_summary</th>\n",
       "    </tr>\n",
       "    <tr>\n",
       "      <th>date_of_upload</th>\n",
       "      <th></th>\n",
       "      <th></th>\n",
       "      <th></th>\n",
       "      <th></th>\n",
       "      <th></th>\n",
       "      <th></th>\n",
       "      <th></th>\n",
       "      <th></th>\n",
       "      <th></th>\n",
       "      <th></th>\n",
       "      <th></th>\n",
       "      <th></th>\n",
       "    </tr>\n",
       "  </thead>\n",
       "  <tbody>\n",
       "    <tr>\n",
       "      <th>2021-08-27</th>\n",
       "      <td>No Man of God (2021)</td>\n",
       "      <td>Movies</td>\n",
       "      <td>01:43:34</td>\n",
       "      <td>14</td>\n",
       "      <td>Biography, Crime, Drama, History</td>\n",
       "      <td>2021-08-19</td>\n",
       "      <td>Elijah Wood, Luke Kirby, Robert Patrick</td>\n",
       "      <td>English</td>\n",
       "      <td>English</td>\n",
       "      <td>https://www.thenetnaija.com/videos/movies</td>\n",
       "      <td>https://www.imdb.com/title/tt13507778/</td>\n",
       "      <td>&lt;em&gt;In 1980, Ted Bundy was sentenced to death ...</td>\n",
       "    </tr>\n",
       "    <tr>\n",
       "      <th>2021-08-25</th>\n",
       "      <td>Boomika (2021) [Indian]</td>\n",
       "      <td>Movies</td>\n",
       "      <td>02:02:11</td>\n",
       "      <td>52</td>\n",
       "      <td>Horror, Mystery, Thriller</td>\n",
       "      <td>2021-08-20</td>\n",
       "      <td>Avantika, Pavel Navageethan, Aishwarya Raje...</td>\n",
       "      <td>India  Hindi</td>\n",
       "      <td>English</td>\n",
       "      <td>https://www.thenetnaija.com/videos/movies</td>\n",
       "      <td>https://www.imdb.com/title/tt11073148/</td>\n",
       "      <td>Samyuktha's husband Gautham acquires a contrac...</td>\n",
       "    </tr>\n",
       "    <tr>\n",
       "      <th>2020-08-25</th>\n",
       "      <td>Really Love (2020)</td>\n",
       "      <td>Movies</td>\n",
       "      <td>01:35:18</td>\n",
       "      <td>25</td>\n",
       "      <td>Drama, Romance</td>\n",
       "      <td>2020-05-20</td>\n",
       "      <td>Uzo Aduba, Michael Ealy, Jade Eshete</td>\n",
       "      <td>English</td>\n",
       "      <td>English</td>\n",
       "      <td>https://www.thenetnaija.com/videos/movies</td>\n",
       "      <td>https://www.imdb.com/title/tt8722624/</td>\n",
       "      <td>A rising black painter tries to break into a c...</td>\n",
       "    </tr>\n",
       "    <tr>\n",
       "      <th>2021-08-25</th>\n",
       "      <td>End Game (2021) [Chinese]</td>\n",
       "      <td>Movies</td>\n",
       "      <td>01:59:54</td>\n",
       "      <td>52</td>\n",
       "      <td>Action, Comedy, Crime</td>\n",
       "      <td>2021-02-12</td>\n",
       "      <td>Andy Lau, Yang Xiao, Regina Wan</td>\n",
       "      <td>Chinese</td>\n",
       "      <td>English</td>\n",
       "      <td>https://www.thenetnaija.com/videos/movies</td>\n",
       "      <td>https://www.imdb.com/title/tt11564214/</td>\n",
       "      <td>A world-class hitman ends up swapping identiti...</td>\n",
       "    </tr>\n",
       "    <tr>\n",
       "      <th>2021-08-23</th>\n",
       "      <td>Jurassic Hunt (2021)</td>\n",
       "      <td>Movies</td>\n",
       "      <td>01:23:34</td>\n",
       "      <td>171</td>\n",
       "      <td>Action, Sci-Fic, Thriller</td>\n",
       "      <td>2021-08-23</td>\n",
       "      <td>Joston Theney, Ruben Pla, Antuone Torbert</td>\n",
       "      <td>English</td>\n",
       "      <td>English</td>\n",
       "      <td>https://www.thenetnaija.com/videos/movies</td>\n",
       "      <td>https://www.imdb.com/title/tt14442328/</td>\n",
       "      <td>Female adventurer Parker joins a crew of male ...</td>\n",
       "    </tr>\n",
       "  </tbody>\n",
       "</table>\n",
       "</div>"
      ],
      "text/plain": [
       "                                    title movie_type  movie_length  \\\n",
       "date_of_upload                                                       \n",
       "2021-08-27           No Man of God (2021)     Movies    01:43:34     \n",
       "2021-08-25        Boomika (2021) [Indian]     Movies    02:02:11     \n",
       "2020-08-25             Really Love (2020)     Movies    01:35:18     \n",
       "2021-08-25      End Game (2021) [Chinese]     Movies    01:59:54     \n",
       "2021-08-23           Jurassic Hunt (2021)     Movies    01:23:34     \n",
       "\n",
       "                num_of_comments                                 genres  \\\n",
       "date_of_upload                                                           \n",
       "2021-08-27                   14     Biography, Crime, Drama, History     \n",
       "2021-08-25                   52            Horror, Mystery, Thriller     \n",
       "2020-08-25                   25                       Drama, Romance     \n",
       "2021-08-25                   52                Action, Comedy, Crime     \n",
       "2021-08-23                  171            Action, Sci-Fic, Thriller     \n",
       "\n",
       "               release_date  \\\n",
       "date_of_upload                \n",
       "2021-08-27       2021-08-19   \n",
       "2021-08-25       2021-08-20   \n",
       "2020-08-25       2020-05-20   \n",
       "2021-08-25       2021-02-12   \n",
       "2021-08-23       2021-08-23   \n",
       "\n",
       "                                                            stars  \\\n",
       "date_of_upload                                                      \n",
       "2021-08-27              Elijah Wood, Luke Kirby, Robert Patrick     \n",
       "2021-08-25         Avantika, Pavel Navageethan, Aishwarya Raje...   \n",
       "2020-08-25                 Uzo Aduba, Michael Ealy, Jade Eshete     \n",
       "2021-08-25                      Andy Lau, Yang Xiao, Regina Wan     \n",
       "2021-08-23            Joston Theney, Ruben Pla, Antuone Torbert     \n",
       "\n",
       "                          language      subtitle  \\\n",
       "date_of_upload                                     \n",
       "2021-08-27               English       English     \n",
       "2021-08-25         India  Hindi        English     \n",
       "2020-08-25               English       English     \n",
       "2021-08-25               Chinese       English     \n",
       "2021-08-23               English       English     \n",
       "\n",
       "                                               movie_link  \\\n",
       "date_of_upload                                              \n",
       "2021-08-27      https://www.thenetnaija.com/videos/movies   \n",
       "2021-08-25      https://www.thenetnaija.com/videos/movies   \n",
       "2020-08-25      https://www.thenetnaija.com/videos/movies   \n",
       "2021-08-25      https://www.thenetnaija.com/videos/movies   \n",
       "2021-08-23      https://www.thenetnaija.com/videos/movies   \n",
       "\n",
       "                                             imdb_link  \\\n",
       "date_of_upload                                           \n",
       "2021-08-27      https://www.imdb.com/title/tt13507778/   \n",
       "2021-08-25      https://www.imdb.com/title/tt11073148/   \n",
       "2020-08-25       https://www.imdb.com/title/tt8722624/   \n",
       "2021-08-25      https://www.imdb.com/title/tt11564214/   \n",
       "2021-08-23      https://www.imdb.com/title/tt14442328/   \n",
       "\n",
       "                                                    movie_summary  \n",
       "date_of_upload                                                     \n",
       "2021-08-27      <em>In 1980, Ted Bundy was sentenced to death ...  \n",
       "2021-08-25      Samyuktha's husband Gautham acquires a contrac...  \n",
       "2020-08-25      A rising black painter tries to break into a c...  \n",
       "2021-08-25      A world-class hitman ends up swapping identiti...  \n",
       "2021-08-23      Female adventurer Parker joins a crew of male ...  "
      ]
     },
     "execution_count": 349,
     "metadata": {},
     "output_type": "execute_result"
    }
   ],
   "source": [
    "df.head(5)"
   ]
  },
  {
   "cell_type": "code",
   "execution_count": 301,
   "metadata": {},
   "outputs": [
    {
     "name": "stdout",
     "output_type": "stream",
     "text": [
      "number of rows are: 2567\n",
      "number of columns are: 12\n"
     ]
    }
   ],
   "source": [
    "#number of roows and columns after cleaning\n",
    "\n",
    "print('number of rows are:', df.shape[0]) #number of row\n",
    "print('number of columns are:', df.shape[1]) #number of columns"
   ]
  },
  {
   "cell_type": "code",
   "execution_count": 306,
   "metadata": {},
   "outputs": [
    {
     "name": "stdout",
     "output_type": "stream",
     "text": [
      "<class 'pandas.core.frame.DataFrame'>\n",
      "DatetimeIndex: 2567 entries, 2021-08-27 to 2017-07-10\n",
      "Data columns (total 12 columns):\n",
      " #   Column           Non-Null Count  Dtype         \n",
      "---  ------           --------------  -----         \n",
      " 0   title            2567 non-null   object        \n",
      " 1   movie_type       2567 non-null   object        \n",
      " 2   movie_length     2567 non-null   object        \n",
      " 3   num_of_comments  2567 non-null   int32         \n",
      " 4   genres           2567 non-null   object        \n",
      " 5   release_date     2567 non-null   datetime64[ns]\n",
      " 6   stars            2567 non-null   object        \n",
      " 7   language         2567 non-null   object        \n",
      " 8   subtitle         2567 non-null   object        \n",
      " 9   movie_link       2567 non-null   object        \n",
      " 10  imdb_link        2567 non-null   object        \n",
      " 11  movie_summary    2567 non-null   object        \n",
      "dtypes: datetime64[ns](1), int32(1), object(10)\n",
      "memory usage: 330.7+ KB\n"
     ]
    }
   ],
   "source": [
    "df.info()"
   ]
  },
  {
   "cell_type": "code",
   "execution_count": 297,
   "metadata": {},
   "outputs": [
    {
     "data": {
      "text/plain": [
       "   English              1900\n",
       "missing                   86\n",
       "   Korean                 77\n",
       "   Chinese                64\n",
       "   Indian (Hindi)         61\n",
       "   English\\n              46\n",
       "   Indian (Tamil)         29\n",
       "   Indian (Telugu)        25\n",
       "   Spanish                23\n",
       "   Indian                 22\n",
       "Name: language, dtype: int64"
      ]
     },
     "execution_count": 297,
     "metadata": {},
     "output_type": "execute_result"
    }
   ],
   "source": [
    "#TOP 10 MOVIE LANGUAGE\n",
    "lang=df['language'].value_counts().nlargest(10)\n",
    "lang"
   ]
  },
  {
   "cell_type": "code",
   "execution_count": 298,
   "metadata": {},
   "outputs": [
    {
     "data": {
      "image/png": "[encoded data removed]",
      "text/plain": [
       "<Figure size 1296x720 with 1 Axes>"
      ]
     },
     "metadata": {},
     "output_type": "display_data"
    }
   ],
   "source": [
    "%matplotlib inline\n",
    "\n",
    "#values\n",
    "counts = lang\n",
    "language = lang.index\n",
    "\n",
    "#styling\n",
    "plt.style.use('fivethirtyeight')\n",
    "\n",
    "fig=plt.figure(figsize=(18,10))\n",
    "#labeling\n",
    "plt.xlabel('language', fontsize=20)\n",
    "plt.ylabel('counts',fontsize=20)\n",
    "plt.title('language counts',fontsize=38)\n",
    "plt.xticks(rotation=90)\n",
    "\n",
    "#to change the color of the highest and smallest\n",
    "color=['maroon' if (bar==min(counts) or bar==max(counts)) else 'grey' for bar in counts]\n",
    "\n",
    "#ploting\n",
    "plt.barh(language,counts, color=color)\n",
    "\n",
    "#to save file\n",
    "#plt.savefig('plot.png')\n",
    "\n",
    "#show graph\n",
    "plt.show()\n",
    "\n",
    "\n"
   ]
  },
  {
   "cell_type": "code",
   "execution_count": 330,
   "metadata": {},
   "outputs": [
    {
     "name": "stdout",
     "output_type": "stream",
     "text": [
      "74.01636151149201\n",
      "3.3502142578885863\n",
      "25.983638488507992\n"
     ]
    }
   ],
   "source": [
    "\n",
    "English=(1900/2567)*100\n",
    "Unknown_lang=(86/2567)*100\n",
    "Others=(100-English)\n",
    "print(English)\n",
    "print(Unknown_lang)\n",
    "print(Others)"
   ]
  },
  {
   "cell_type": "code",
   "execution_count": 348,
   "metadata": {},
   "outputs": [
    {
     "name": "stdout",
     "output_type": "stream",
     "text": [
      "English:  74.01636151149201\n",
      "Unknown_lang:  3.3502142578885863\n",
      "Others : 25.983638488507992\n"
     ]
    },
    {
     "data": {
      "image/png": "[encoded data removed]",
      "text/plain": [
       "<Figure size 504x504 with 1 Axes>"
      ]
     },
     "metadata": {},
     "output_type": "display_data"
    }
   ],
   "source": [
    "%matplotlib inline\n",
    "\n",
    "fig = plt.figure(figsize=(7,7))\n",
    "#values\n",
    "values= [English,Unknown_lang, Others]\n",
    "\n",
    "#styling\n",
    "plt.style.use('fivethirtyeight')\n",
    "\n",
    "#labeling\n",
    "color=['#003f5c', '#ffa600', '#bc5090']\n",
    "label = ['English', 'Unknown_lang', 'Others']\n",
    "explode= [0,0.05,0]\n",
    "plt.title('language in percentage')\n",
    "\n",
    "\n",
    "#plotting\n",
    "plt.pie(values, labels=label, colors=color, explode=explode, shadow=True)\n",
    "\n",
    "\n",
    "print('English: ', English)\n",
    "print(\"Unknown_lang: \", Unknown_lang)\n",
    "print('Others :', Others)\n",
    "#to save file\n",
    "#plt.savefig('plot.png')\n",
    "\n",
    "#show graph\n",
    "plt.show()"
   ]
  },
  {
   "cell_type": "markdown",
   "metadata": {},
   "source": [
    "---"
   ]
  },
  {
   "cell_type": "markdown",
   "metadata": {},
   "source": [
    "## Project Details\n",
    "---\n",
    " \n",
    "1. webscraping\n",
    "2. data cleaning\n",
    "\n",
    "### Webscaping\n",
    "---\n",
    "scraped  <a href=\"https://www.thenetnaija.com/videos/movies\"> Netnaija</a> using python beautiful soup libary.<br/> scraped data in the data folder while notebook in notebook folder\n",
    "\n",
    "### Data cleaning\n",
    "---\n",
    "cleaned the scraped data.<br/> cleaned data in data folder in both csv and xlxs format\n"
   ]
  },
  {
   "cell_type": "code",
   "execution_count": null,
   "metadata": {},
   "outputs": [],
   "source": []
  }
 ],
 "metadata": {
  "kernelspec": {
   "display_name": "Python 3",
   "language": "python",
   "name": "python3"
  },
  "language_info": {
   "codemirror_mode": {
    "name": "ipython",
    "version": 3
   },
   "file_extension": ".py",
   "mimetype": "text/x-python",
   "name": "python",
   "nbconvert_exporter": "python",
   "pygments_lexer": "ipython3",
   "version": "3.7.6"
  }
 },
 "nbformat": 4,
 "nbformat_minor": 4
}
