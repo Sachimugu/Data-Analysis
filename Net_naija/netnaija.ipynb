{
 "cells": [
  {
   "cell_type": "markdown",
   "metadata": {
    "heading_collapsed": true
   },
   "source": [
    "### Author: Sachimugu \n",
    "Email: <a href=\"mailto:sachimugu@outlook.com\"> Email</a>"
   ]
  },
  {
   "cell_type": "markdown",
   "metadata": {},
   "source": [
    "### Data cleaning"
   ]
  },
  {
   "cell_type": "markdown",
   "metadata": {},
   "source": [
    "#### importing required package and inspecting data set"
   ]
  },
  {
   "cell_type": "code",
   "execution_count": 1,
   "metadata": {},
   "outputs": [],
   "source": [
    "#imports the required packages\n",
    "import pandas as pd \n",
    "from matplotlib import pyplot as plt\n",
    "import seaborn as sns\n",
    "#%matplotlib inline\n"
   ]
  },
  {
   "cell_type": "code",
   "execution_count": 2,
   "metadata": {},
   "outputs": [],
   "source": [
    "df=pd.read_csv('./Data/netnaija_movie.csv') #loads the dataset"
   ]
  },
  {
   "cell_type": "code",
   "execution_count": 3,
   "metadata": {},
   "outputs": [
    {
     "data": {
      "text/html": [
       "<div>\n",
       "<style scoped>\n",
       "    .dataframe tbody tr th:only-of-type {\n",
       "        vertical-align: middle;\n",
       "    }\n",
       "\n",
       "    .dataframe tbody tr th {\n",
       "        vertical-align: top;\n",
       "    }\n",
       "\n",
       "    .dataframe thead th {\n",
       "        text-align: right;\n",
       "    }\n",
       "</style>\n",
       "<table border=\"1\" class=\"dataframe\">\n",
       "  <thead>\n",
       "    <tr style=\"text-align: right;\">\n",
       "      <th></th>\n",
       "      <th>Unnamed: 0</th>\n",
       "      <th>titles</th>\n",
       "      <th>movie_types</th>\n",
       "      <th>time_of_uplos</th>\n",
       "      <th>movie_lengths</th>\n",
       "      <th>num_of_comments</th>\n",
       "      <th>Genres</th>\n",
       "      <th>Release_Dates</th>\n",
       "      <th>Starss</th>\n",
       "      <th>Languages</th>\n",
       "      <th>Subtitles</th>\n",
       "      <th>movie_linkss</th>\n",
       "      <th>imdb_links</th>\n",
       "      <th>mo_summarys</th>\n",
       "    </tr>\n",
       "  </thead>\n",
       "  <tbody>\n",
       "    <tr>\n",
       "      <th>0</th>\n",
       "      <td>0</td>\n",
       "      <td>Sweet Carolina (2021)</td>\n",
       "      <td>['Movies']</td>\n",
       "      <td>Sep 07</td>\n",
       "      <td>['01:24:40']</td>\n",
       "      <td>['25']</td>\n",
       "      <td>[' Comedy, Family, Romance']</td>\n",
       "      <td>Release Date: May 15, 2021</td>\n",
       "      <td>[' Lacey Chabert, Tyler Hynes, Gregory Harrison']</td>\n",
       "      <td>[' English']</td>\n",
       "      <td>[' English']</td>\n",
       "      <td>https://www.thenetnaija.com/videos/movies</td>\n",
       "      <td>https://www.imdb.com/title/tt14477372/</td>\n",
       "      <td>&lt;em&gt;A family's loss becomes an unexpected gift...</td>\n",
       "    </tr>\n",
       "    <tr>\n",
       "      <th>1</th>\n",
       "      <td>1</td>\n",
       "      <td>Grace &amp; Saleem (2019)</td>\n",
       "      <td>['Movies']</td>\n",
       "      <td>Sep 06</td>\n",
       "      <td>['01:24:01']</td>\n",
       "      <td>['15']</td>\n",
       "      <td>[' Comedy, Drama, Romance']</td>\n",
       "      <td>Release Date: Aug 19, 2019</td>\n",
       "      <td>[' Dru Castiglione, Kyle Daniel Hernandez, She...</td>\n",
       "      <td>[' English']</td>\n",
       "      <td>[' English']</td>\n",
       "      <td>https://www.thenetnaija.com/videos/movies</td>\n",
       "      <td>https://www.imdb.com/title/tt10649220/</td>\n",
       "      <td>An unintended road trip, a comical first dinne...</td>\n",
       "    </tr>\n",
       "    <tr>\n",
       "      <th>2</th>\n",
       "      <td>2</td>\n",
       "      <td>Barbie: Big City, Big Dreams (2021)</td>\n",
       "      <td>['Movies']</td>\n",
       "      <td>Sep 06</td>\n",
       "      <td>['01:03:00']</td>\n",
       "      <td>['37']</td>\n",
       "      <td>[' Animation, Family, Musical']</td>\n",
       "      <td>Release Date: Aug 20, 2021</td>\n",
       "      <td>[' America Young, Amber Eliese May, Greg Chun']</td>\n",
       "      <td>[' English']</td>\n",
       "      <td>[' English']</td>\n",
       "      <td>https://www.thenetnaija.com/videos/movies</td>\n",
       "      <td>https://www.imdb.com/title/tt15053428/</td>\n",
       "      <td>Barbie swaps the sunny shores of Malibu for th...</td>\n",
       "    </tr>\n",
       "  </tbody>\n",
       "</table>\n",
       "</div>"
      ],
      "text/plain": [
       "   Unnamed: 0                               titles movie_types time_of_uplos  \\\n",
       "0           0                Sweet Carolina (2021)  ['Movies']        Sep 07   \n",
       "1           1                Grace & Saleem (2019)  ['Movies']        Sep 06   \n",
       "2           2  Barbie: Big City, Big Dreams (2021)  ['Movies']        Sep 06   \n",
       "\n",
       "  movie_lengths num_of_comments                           Genres  \\\n",
       "0  ['01:24:40']          ['25']     [' Comedy, Family, Romance']   \n",
       "1  ['01:24:01']          ['15']      [' Comedy, Drama, Romance']   \n",
       "2  ['01:03:00']          ['37']  [' Animation, Family, Musical']   \n",
       "\n",
       "                Release_Dates  \\\n",
       "0  Release Date: May 15, 2021   \n",
       "1  Release Date: Aug 19, 2019   \n",
       "2  Release Date: Aug 20, 2021   \n",
       "\n",
       "                                              Starss     Languages  \\\n",
       "0  [' Lacey Chabert, Tyler Hynes, Gregory Harrison']  [' English']   \n",
       "1  [' Dru Castiglione, Kyle Daniel Hernandez, She...  [' English']   \n",
       "2    [' America Young, Amber Eliese May, Greg Chun']  [' English']   \n",
       "\n",
       "      Subtitles                               movie_linkss  \\\n",
       "0  [' English']  https://www.thenetnaija.com/videos/movies   \n",
       "1  [' English']  https://www.thenetnaija.com/videos/movies   \n",
       "2  [' English']  https://www.thenetnaija.com/videos/movies   \n",
       "\n",
       "                               imdb_links  \\\n",
       "0  https://www.imdb.com/title/tt14477372/   \n",
       "1  https://www.imdb.com/title/tt10649220/   \n",
       "2  https://www.imdb.com/title/tt15053428/   \n",
       "\n",
       "                                         mo_summarys  \n",
       "0  <em>A family's loss becomes an unexpected gift...  \n",
       "1  An unintended road trip, a comical first dinne...  \n",
       "2  Barbie swaps the sunny shores of Malibu for th...  "
      ]
     },
     "execution_count": 3,
     "metadata": {},
     "output_type": "execute_result"
    }
   ],
   "source": [
    "df.head(3) # checks the first 3 rows"
   ]
  },
  {
   "cell_type": "code",
   "execution_count": 4,
   "metadata": {},
   "outputs": [
    {
     "data": {
      "text/html": [
       "<div>\n",
       "<style scoped>\n",
       "    .dataframe tbody tr th:only-of-type {\n",
       "        vertical-align: middle;\n",
       "    }\n",
       "\n",
       "    .dataframe tbody tr th {\n",
       "        vertical-align: top;\n",
       "    }\n",
       "\n",
       "    .dataframe thead th {\n",
       "        text-align: right;\n",
       "    }\n",
       "</style>\n",
       "<table border=\"1\" class=\"dataframe\">\n",
       "  <thead>\n",
       "    <tr style=\"text-align: right;\">\n",
       "      <th></th>\n",
       "      <th>Unnamed: 0</th>\n",
       "      <th>titles</th>\n",
       "      <th>movie_types</th>\n",
       "      <th>time_of_uplos</th>\n",
       "      <th>movie_lengths</th>\n",
       "      <th>num_of_comments</th>\n",
       "      <th>Genres</th>\n",
       "      <th>Release_Dates</th>\n",
       "      <th>Starss</th>\n",
       "      <th>Languages</th>\n",
       "      <th>Subtitles</th>\n",
       "      <th>movie_linkss</th>\n",
       "      <th>imdb_links</th>\n",
       "      <th>mo_summarys</th>\n",
       "    </tr>\n",
       "  </thead>\n",
       "  <tbody>\n",
       "    <tr>\n",
       "      <th>2728</th>\n",
       "      <td>2728</td>\n",
       "      <td>London Has Fallen (2016)</td>\n",
       "      <td>['Movies']</td>\n",
       "      <td>May 15, 2016</td>\n",
       "      <td>['01:38:00']</td>\n",
       "      <td>0</td>\n",
       "      <td>missing</td>\n",
       "      <td>missing</td>\n",
       "      <td>missing</td>\n",
       "      <td>missing</td>\n",
       "      <td>missing</td>\n",
       "      <td>https://www.thenetnaija.com/videos/movies</td>\n",
       "      <td>missing</td>\n",
       "      <td>After the British Prime Minister has passed aw...</td>\n",
       "    </tr>\n",
       "    <tr>\n",
       "      <th>2729</th>\n",
       "      <td>2729</td>\n",
       "      <td>The Trust (2016) [Starr. Nicolas Cage]</td>\n",
       "      <td>['Movies']</td>\n",
       "      <td>Apr 08, 2016</td>\n",
       "      <td>['01:32:00']</td>\n",
       "      <td>0</td>\n",
       "      <td>missing</td>\n",
       "      <td>missing</td>\n",
       "      <td>missing</td>\n",
       "      <td>missing</td>\n",
       "      <td>missing</td>\n",
       "      <td>https://www.thenetnaija.com/videos/movies</td>\n",
       "      <td>missing</td>\n",
       "      <td>Waters and Stone are two nobody police officer...</td>\n",
       "    </tr>\n",
       "    <tr>\n",
       "      <th>2730</th>\n",
       "      <td>2730</td>\n",
       "      <td>Dance Camp (2016)</td>\n",
       "      <td>['Movies']</td>\n",
       "      <td>Mar 13, 2016</td>\n",
       "      <td>['01:23:43']</td>\n",
       "      <td>0</td>\n",
       "      <td>missing</td>\n",
       "      <td>missing</td>\n",
       "      <td>missing</td>\n",
       "      <td>missing</td>\n",
       "      <td>missing</td>\n",
       "      <td>https://www.thenetnaija.com/videos/movies</td>\n",
       "      <td>missing</td>\n",
       "      <td>When Hunter gets sent to a dance camp, he meet...</td>\n",
       "    </tr>\n",
       "  </tbody>\n",
       "</table>\n",
       "</div>"
      ],
      "text/plain": [
       "      Unnamed: 0                                  titles movie_types  \\\n",
       "2728        2728                London Has Fallen (2016)  ['Movies']   \n",
       "2729        2729  The Trust (2016) [Starr. Nicolas Cage]  ['Movies']   \n",
       "2730        2730                       Dance Camp (2016)  ['Movies']   \n",
       "\n",
       "     time_of_uplos movie_lengths num_of_comments   Genres Release_Dates  \\\n",
       "2728  May 15, 2016  ['01:38:00']               0  missing       missing   \n",
       "2729  Apr 08, 2016  ['01:32:00']               0  missing       missing   \n",
       "2730  Mar 13, 2016  ['01:23:43']               0  missing       missing   \n",
       "\n",
       "       Starss Languages Subtitles                               movie_linkss  \\\n",
       "2728  missing   missing   missing  https://www.thenetnaija.com/videos/movies   \n",
       "2729  missing   missing   missing  https://www.thenetnaija.com/videos/movies   \n",
       "2730  missing   missing   missing  https://www.thenetnaija.com/videos/movies   \n",
       "\n",
       "     imdb_links                                        mo_summarys  \n",
       "2728    missing  After the British Prime Minister has passed aw...  \n",
       "2729    missing  Waters and Stone are two nobody police officer...  \n",
       "2730    missing  When Hunter gets sent to a dance camp, he meet...  "
      ]
     },
     "execution_count": 4,
     "metadata": {},
     "output_type": "execute_result"
    }
   ],
   "source": [
    "df.tail(3) #checks the last 3 row"
   ]
  },
  {
   "cell_type": "code",
   "execution_count": 5,
   "metadata": {},
   "outputs": [
    {
     "name": "stdout",
     "output_type": "stream",
     "text": [
      "number of rows are: 2731\n",
      "number of columns are: 14\n"
     ]
    }
   ],
   "source": [
    "print('number of rows are:', df.shape[0]) #number of row\n",
    "print('number of columns are:', df.shape[1]) #number of columns"
   ]
  },
  {
   "cell_type": "code",
   "execution_count": 6,
   "metadata": {
    "scrolled": false
   },
   "outputs": [
    {
     "name": "stdout",
     "output_type": "stream",
     "text": [
      "<class 'pandas.core.frame.DataFrame'>\n",
      "RangeIndex: 2731 entries, 0 to 2730\n",
      "Data columns (total 14 columns):\n",
      " #   Column           Non-Null Count  Dtype \n",
      "---  ------           --------------  ----- \n",
      " 0   Unnamed: 0       2731 non-null   int64 \n",
      " 1   titles           2731 non-null   object\n",
      " 2   movie_types      2731 non-null   object\n",
      " 3   time_of_uplos    2731 non-null   object\n",
      " 4   movie_lengths    2731 non-null   object\n",
      " 5   num_of_comments  2731 non-null   object\n",
      " 6   Genres           2731 non-null   object\n",
      " 7   Release_Dates    2731 non-null   object\n",
      " 8   Starss           2731 non-null   object\n",
      " 9   Languages        2731 non-null   object\n",
      " 10  Subtitles        2731 non-null   object\n",
      " 11  movie_linkss     2731 non-null   object\n",
      " 12  imdb_links       2731 non-null   object\n",
      " 13  mo_summarys      2731 non-null   object\n",
      "dtypes: int64(1), object(13)\n",
      "memory usage: 298.8+ KB\n"
     ]
    }
   ],
   "source": [
    "df.info() #dataframe information"
   ]
  },
  {
   "cell_type": "code",
   "execution_count": 7,
   "metadata": {},
   "outputs": [
    {
     "data": {
      "text/plain": [
       "Index(['Unnamed: 0', 'titles', 'movie_types', 'time_of_uplos', 'movie_lengths',\n",
       "       'num_of_comments', 'Genres', 'Release_Dates', 'Starss', 'Languages',\n",
       "       'Subtitles', 'movie_linkss', 'imdb_links', 'mo_summarys'],\n",
       "      dtype='object')"
      ]
     },
     "execution_count": 7,
     "metadata": {},
     "output_type": "execute_result"
    }
   ],
   "source": [
    "df.columns # list of columns"
   ]
  },
  {
   "cell_type": "code",
   "execution_count": 8,
   "metadata": {},
   "outputs": [],
   "source": [
    "df=df.rename(columns={\n",
    "    'time_of_uplos':'upload_date',\n",
    "    'movie_lengths':'movie_length',\n",
    "    'titles':'title',\n",
    "    'movie_types':'movie_type',\n",
    "    'Genres':'genres',\n",
    "    'Release_Dates':'release_date',\n",
    "    'Starss':'stars',\n",
    "    'Languages':'language',\n",
    "    'Subtitles':'subtitle',\n",
    "    'movie_linkss':'movie_link',\n",
    "    'imdb_links':'imdb_link', \n",
    "    'mo_summarys':'movie_summary'\n",
    "    })"
   ]
  },
  {
   "cell_type": "code",
   "execution_count": 9,
   "metadata": {},
   "outputs": [],
   "source": [
    "#df=df.drop(columns={'Unnamed: 0'})"
   ]
  },
  {
   "cell_type": "code",
   "execution_count": 10,
   "metadata": {},
   "outputs": [
    {
     "data": {
      "text/html": [
       "<div>\n",
       "<style scoped>\n",
       "    .dataframe tbody tr th:only-of-type {\n",
       "        vertical-align: middle;\n",
       "    }\n",
       "\n",
       "    .dataframe tbody tr th {\n",
       "        vertical-align: top;\n",
       "    }\n",
       "\n",
       "    .dataframe thead th {\n",
       "        text-align: right;\n",
       "    }\n",
       "</style>\n",
       "<table border=\"1\" class=\"dataframe\">\n",
       "  <thead>\n",
       "    <tr style=\"text-align: right;\">\n",
       "      <th></th>\n",
       "      <th>Unnamed: 0</th>\n",
       "      <th>title</th>\n",
       "      <th>movie_type</th>\n",
       "      <th>upload_date</th>\n",
       "      <th>movie_length</th>\n",
       "      <th>num_of_comments</th>\n",
       "      <th>genres</th>\n",
       "      <th>release_date</th>\n",
       "      <th>stars</th>\n",
       "      <th>language</th>\n",
       "      <th>subtitle</th>\n",
       "      <th>movie_link</th>\n",
       "      <th>imdb_link</th>\n",
       "      <th>movie_summary</th>\n",
       "    </tr>\n",
       "  </thead>\n",
       "  <tbody>\n",
       "    <tr>\n",
       "      <th>0</th>\n",
       "      <td>0</td>\n",
       "      <td>Sweet Carolina (2021)</td>\n",
       "      <td>['Movies']</td>\n",
       "      <td>Sep 07</td>\n",
       "      <td>['01:24:40']</td>\n",
       "      <td>['25']</td>\n",
       "      <td>[' Comedy, Family, Romance']</td>\n",
       "      <td>Release Date: May 15, 2021</td>\n",
       "      <td>[' Lacey Chabert, Tyler Hynes, Gregory Harrison']</td>\n",
       "      <td>[' English']</td>\n",
       "      <td>[' English']</td>\n",
       "      <td>https://www.thenetnaija.com/videos/movies</td>\n",
       "      <td>https://www.imdb.com/title/tt14477372/</td>\n",
       "      <td>&lt;em&gt;A family's loss becomes an unexpected gift...</td>\n",
       "    </tr>\n",
       "    <tr>\n",
       "      <th>1</th>\n",
       "      <td>1</td>\n",
       "      <td>Grace &amp; Saleem (2019)</td>\n",
       "      <td>['Movies']</td>\n",
       "      <td>Sep 06</td>\n",
       "      <td>['01:24:01']</td>\n",
       "      <td>['15']</td>\n",
       "      <td>[' Comedy, Drama, Romance']</td>\n",
       "      <td>Release Date: Aug 19, 2019</td>\n",
       "      <td>[' Dru Castiglione, Kyle Daniel Hernandez, She...</td>\n",
       "      <td>[' English']</td>\n",
       "      <td>[' English']</td>\n",
       "      <td>https://www.thenetnaija.com/videos/movies</td>\n",
       "      <td>https://www.imdb.com/title/tt10649220/</td>\n",
       "      <td>An unintended road trip, a comical first dinne...</td>\n",
       "    </tr>\n",
       "    <tr>\n",
       "      <th>2</th>\n",
       "      <td>2</td>\n",
       "      <td>Barbie: Big City, Big Dreams (2021)</td>\n",
       "      <td>['Movies']</td>\n",
       "      <td>Sep 06</td>\n",
       "      <td>['01:03:00']</td>\n",
       "      <td>['37']</td>\n",
       "      <td>[' Animation, Family, Musical']</td>\n",
       "      <td>Release Date: Aug 20, 2021</td>\n",
       "      <td>[' America Young, Amber Eliese May, Greg Chun']</td>\n",
       "      <td>[' English']</td>\n",
       "      <td>[' English']</td>\n",
       "      <td>https://www.thenetnaija.com/videos/movies</td>\n",
       "      <td>https://www.imdb.com/title/tt15053428/</td>\n",
       "      <td>Barbie swaps the sunny shores of Malibu for th...</td>\n",
       "    </tr>\n",
       "  </tbody>\n",
       "</table>\n",
       "</div>"
      ],
      "text/plain": [
       "   Unnamed: 0                                title  movie_type upload_date  \\\n",
       "0           0                Sweet Carolina (2021)  ['Movies']      Sep 07   \n",
       "1           1                Grace & Saleem (2019)  ['Movies']      Sep 06   \n",
       "2           2  Barbie: Big City, Big Dreams (2021)  ['Movies']      Sep 06   \n",
       "\n",
       "   movie_length num_of_comments                           genres  \\\n",
       "0  ['01:24:40']          ['25']     [' Comedy, Family, Romance']   \n",
       "1  ['01:24:01']          ['15']      [' Comedy, Drama, Romance']   \n",
       "2  ['01:03:00']          ['37']  [' Animation, Family, Musical']   \n",
       "\n",
       "                 release_date  \\\n",
       "0  Release Date: May 15, 2021   \n",
       "1  Release Date: Aug 19, 2019   \n",
       "2  Release Date: Aug 20, 2021   \n",
       "\n",
       "                                               stars      language  \\\n",
       "0  [' Lacey Chabert, Tyler Hynes, Gregory Harrison']  [' English']   \n",
       "1  [' Dru Castiglione, Kyle Daniel Hernandez, She...  [' English']   \n",
       "2    [' America Young, Amber Eliese May, Greg Chun']  [' English']   \n",
       "\n",
       "       subtitle                                 movie_link  \\\n",
       "0  [' English']  https://www.thenetnaija.com/videos/movies   \n",
       "1  [' English']  https://www.thenetnaija.com/videos/movies   \n",
       "2  [' English']  https://www.thenetnaija.com/videos/movies   \n",
       "\n",
       "                                imdb_link  \\\n",
       "0  https://www.imdb.com/title/tt14477372/   \n",
       "1  https://www.imdb.com/title/tt10649220/   \n",
       "2  https://www.imdb.com/title/tt15053428/   \n",
       "\n",
       "                                       movie_summary  \n",
       "0  <em>A family's loss becomes an unexpected gift...  \n",
       "1  An unintended road trip, a comical first dinne...  \n",
       "2  Barbie swaps the sunny shores of Malibu for th...  "
      ]
     },
     "execution_count": 10,
     "metadata": {},
     "output_type": "execute_result"
    }
   ],
   "source": [
    "df.head(3)"
   ]
  },
  {
   "cell_type": "code",
   "execution_count": null,
   "metadata": {},
   "outputs": [],
   "source": []
  },
  {
   "cell_type": "markdown",
   "metadata": {
    "heading_collapsed": true
   },
   "source": [
    "####    cleaning the movie_type columns"
   ]
  },
  {
   "cell_type": "code",
   "execution_count": 11,
   "metadata": {
    "hidden": true
   },
   "outputs": [],
   "source": [
    "#cleaning the movie_type columns\n",
    "#removing [''] saurrounding the values\n",
    "df['movie_type']=df['movie_type'].str.replace('[', '')\n",
    "df['movie_type']=df['movie_type'].str.replace(']', '')\n",
    "df['movie_type']=df['movie_type'].str.replace('\\'', '')"
   ]
  },
  {
   "cell_type": "code",
   "execution_count": 12,
   "metadata": {
    "hidden": true
   },
   "outputs": [
    {
     "data": {
      "text/plain": [
       "dtype('O')"
      ]
     },
     "execution_count": 12,
     "metadata": {},
     "output_type": "execute_result"
    }
   ],
   "source": [
    "# movie_type datatype\n",
    "df['movie_type'].dtypes"
   ]
  },
  {
   "cell_type": "code",
   "execution_count": 13,
   "metadata": {
    "hidden": true
   },
   "outputs": [
    {
     "data": {
      "text/plain": [
       "Movies    2731\n",
       "Name: movie_type, dtype: int64"
      ]
     },
     "execution_count": 13,
     "metadata": {},
     "output_type": "execute_result"
    }
   ],
   "source": [
    "#movie_type unique value counts\n",
    "df['movie_type'].value_counts()"
   ]
  },
  {
   "cell_type": "code",
   "execution_count": 14,
   "metadata": {
    "hidden": true
   },
   "outputs": [
    {
     "data": {
      "text/plain": [
       "0"
      ]
     },
     "execution_count": 14,
     "metadata": {},
     "output_type": "execute_result"
    }
   ],
   "source": [
    "#check for empty or null values\n",
    "df['movie_type'].isnull().sum()"
   ]
  },
  {
   "cell_type": "code",
   "execution_count": 15,
   "metadata": {
    "hidden": true
   },
   "outputs": [],
   "source": [
    "# renaming the column\n",
    "df=df.rename(columns={'movie_types':'Movie_Type'})"
   ]
  },
  {
   "cell_type": "markdown",
   "metadata": {
    "heading_collapsed": true
   },
   "source": [
    "#### cleaning the date of upload column"
   ]
  },
  {
   "cell_type": "code",
   "execution_count": 16,
   "metadata": {
    "hidden": true
   },
   "outputs": [],
   "source": [
    "df['daynmonth']=df['upload_date'].str.split(',') #new columns from days\n",
    "df['daynmonth']=df['daynmonth'].apply(lambda x: x[0])\n",
    "df['year']=df['title'].str.extract('(\\d{4})') #new columns for year\n",
    "df['date_of_upload']=df['daynmonth']+' '+df['year']\n",
    "df['date_of_upload']=pd.to_datetime(df['date_of_upload'], errors='coerce') #covert to timeseries datatype\n",
    "df['date_of_upload'].isnull().sum() #sum of columns with invalid date\n",
    "df['date_of_upload'].dropna # remove columns with invalid date\n",
    "df=df.set_index('date_of_upload') #set date of uploaad as column\n",
    "df=df.drop(['Unnamed: 0', 'upload_date', 'daynmonth', 'year'], axis=1) # removing redundant columns"
   ]
  },
  {
   "cell_type": "markdown",
   "metadata": {
    "heading_collapsed": true
   },
   "source": [
    "#### cleaning the movie_length column"
   ]
  },
  {
   "cell_type": "code",
   "execution_count": 17,
   "metadata": {
    "hidden": true
   },
   "outputs": [
    {
     "data": {
      "text/plain": [
       "0"
      ]
     },
     "execution_count": 17,
     "metadata": {},
     "output_type": "execute_result"
    }
   ],
   "source": [
    "#removing [''] from the length of movie\n",
    "df['movie_length']=df['movie_length'].str.replace('[',' ')\n",
    "df['movie_length']=df['movie_length'].str.replace(']',' ')\n",
    "df['movie_length']=df['movie_length'].str.replace('\\'',' ')\n",
    "df['movie_length'].isnull().sum()#checking for missing value"
   ]
  },
  {
   "cell_type": "markdown",
   "metadata": {
    "heading_collapsed": true
   },
   "source": [
    "#### cleaning the num_of_comments column"
   ]
  },
  {
   "cell_type": "code",
   "execution_count": 18,
   "metadata": {
    "hidden": true
   },
   "outputs": [],
   "source": [
    "#removing [''] from the length of movie\n",
    "#seems we are going to be removing [''] from most columns, here is a function\n",
    "def rmbracket(columns): # defining a function\n",
    "    columns=columns.str.replace('[',' ')\n",
    "    columns=columns.str.replace(']',' ')\n",
    "    columns=columns.str.replace('\\'',' ')\n",
    "    return columns\n",
    "\n",
    "df['num_of_comments']=rmbracket(df['num_of_comments'])#calling a function\n",
    "\n",
    "df['num_of_comments'].isnull().sum() #check for invalid values\n",
    "df['num_of_comments']=df['num_of_comments'].astype(int) #changes the data type from object to integer type\n",
    "\n",
    "\n"
   ]
  },
  {
   "cell_type": "markdown",
   "metadata": {
    "heading_collapsed": true
   },
   "source": [
    "#### cleaning the genres column"
   ]
  },
  {
   "cell_type": "code",
   "execution_count": 19,
   "metadata": {
    "hidden": true
   },
   "outputs": [],
   "source": [
    "df['genres']=rmbracket(df['genres'])#calling a function removing [''] from the length of genres\n"
   ]
  },
  {
   "cell_type": "markdown",
   "metadata": {
    "heading_collapsed": true
   },
   "source": [
    "#### cleaning the release_date column"
   ]
  },
  {
   "cell_type": "code",
   "execution_count": 20,
   "metadata": {
    "hidden": true
   },
   "outputs": [],
   "source": [
    "df['release_date']=df['release_date'].str.replace('Release Date:', ' ') #removes the comma\n",
    "\n"
   ]
  },
  {
   "cell_type": "code",
   "execution_count": 21,
   "metadata": {
    "hidden": true
   },
   "outputs": [],
   "source": [
    "df['release_date']=pd.to_datetime(df['release_date'], errors='coerce') #covert to time series data type"
   ]
  },
  {
   "cell_type": "code",
   "execution_count": 22,
   "metadata": {
    "hidden": true
   },
   "outputs": [],
   "source": [
    "df['release_date'].isnull().sum() #check for numbers of null values\n",
    "df=df.dropna() #removes null vlaues"
   ]
  },
  {
   "cell_type": "markdown",
   "metadata": {
    "heading_collapsed": true
   },
   "source": [
    "#### cleaning the stars column"
   ]
  },
  {
   "cell_type": "code",
   "execution_count": 23,
   "metadata": {
    "hidden": true
   },
   "outputs": [],
   "source": [
    "#removing [''] from the length of stars\n",
    "\n",
    "df['stars']=rmbracket(df['stars'])#calling a function\n"
   ]
  },
  {
   "cell_type": "markdown",
   "metadata": {
    "heading_collapsed": true
   },
   "source": [
    "#### cleaning the language​ column"
   ]
  },
  {
   "cell_type": "code",
   "execution_count": 24,
   "metadata": {
    "hidden": true
   },
   "outputs": [],
   "source": [
    "#removing [''] from the length of stars\n",
    "\n",
    "df['language']=rmbracket(df['language'])#calling a function\n",
    "df['language']=df['language'].str.replace('\\\\xa0', ' ')\n",
    "\n",
    "\n",
    "df['language']= df['language'].str.strip()\n",
    "df['language']=df['language'].str.replace('missing', 'English') # replacing the missing value with the mode "
   ]
  },
  {
   "cell_type": "code",
   "execution_count": null,
   "metadata": {
    "hidden": true
   },
   "outputs": [],
   "source": []
  },
  {
   "cell_type": "markdown",
   "metadata": {
    "heading_collapsed": true
   },
   "source": [
    "#### cleaning the subtitle column"
   ]
  },
  {
   "cell_type": "code",
   "execution_count": 25,
   "metadata": {
    "hidden": true
   },
   "outputs": [],
   "source": [
    "#\n",
    "\n",
    "df['subtitle']=rmbracket(df['subtitle'])#calling a function toremove [''] from the length of stars\n"
   ]
  },
  {
   "cell_type": "markdown",
   "metadata": {
    "heading_collapsed": true
   },
   "source": [
    "#### summary"
   ]
  },
  {
   "cell_type": "code",
   "execution_count": 26,
   "metadata": {
    "hidden": true
   },
   "outputs": [],
   "source": [
    "#saving the new dataframe\n",
    "df.to_csv(\"./Data/cleaned_netnaija_movie.csv\")\n",
    "df.to_excel('./Data/cleaned_netnaija_movie.xlsx')"
   ]
  },
  {
   "cell_type": "markdown",
   "metadata": {},
   "source": [
    "### Data Exploratoration\n",
    "- Which year has the highest number of upload?\n",
    "- Find the number of movies by month in the year 2019\n",
    "- What movies has highest movie length?\n",
    "- Find movies which Jason Statham acted\n",
    "- compared number of movies with gnere horror and animation using a Piechart\n",
    "- show the distribution of comment using a Histograph\n",
    "\n"
   ]
  },
  {
   "cell_type": "markdown",
   "metadata": {},
   "source": [
    "#### movie with the highest length"
   ]
  },
  {
   "cell_type": "code",
   "execution_count": 27,
   "metadata": {},
   "outputs": [
    {
     "data": {
      "text/html": [
       "<div>\n",
       "<style scoped>\n",
       "    .dataframe tbody tr th:only-of-type {\n",
       "        vertical-align: middle;\n",
       "    }\n",
       "\n",
       "    .dataframe tbody tr th {\n",
       "        vertical-align: top;\n",
       "    }\n",
       "\n",
       "    .dataframe thead th {\n",
       "        text-align: right;\n",
       "    }\n",
       "</style>\n",
       "<table border=\"1\" class=\"dataframe\">\n",
       "  <thead>\n",
       "    <tr style=\"text-align: right;\">\n",
       "      <th></th>\n",
       "      <th>title</th>\n",
       "      <th>movie_type</th>\n",
       "      <th>movie_length</th>\n",
       "      <th>num_of_comments</th>\n",
       "      <th>genres</th>\n",
       "      <th>release_date</th>\n",
       "      <th>stars</th>\n",
       "      <th>language</th>\n",
       "      <th>subtitle</th>\n",
       "      <th>movie_link</th>\n",
       "      <th>imdb_link</th>\n",
       "      <th>movie_summary</th>\n",
       "    </tr>\n",
       "    <tr>\n",
       "      <th>date_of_upload</th>\n",
       "      <th></th>\n",
       "      <th></th>\n",
       "      <th></th>\n",
       "      <th></th>\n",
       "      <th></th>\n",
       "      <th></th>\n",
       "      <th></th>\n",
       "      <th></th>\n",
       "      <th></th>\n",
       "      <th></th>\n",
       "      <th></th>\n",
       "      <th></th>\n",
       "    </tr>\n",
       "  </thead>\n",
       "  <tbody>\n",
       "    <tr>\n",
       "      <th>2021-03-18</th>\n",
       "      <td>Zack Snyder's Justice League (2021)</td>\n",
       "      <td>Movies</td>\n",
       "      <td>04:02:03</td>\n",
       "      <td>20</td>\n",
       "      <td>Action, Adventure, Fantasy, Sci-Fi</td>\n",
       "      <td>2021-03-18</td>\n",
       "      <td>Henry Cavill, Ben Affleck, Gal Gadot</td>\n",
       "      <td>English</td>\n",
       "      <td>English</td>\n",
       "      <td>https://www.thenetnaija.com/videos/movies</td>\n",
       "      <td>https://www.imdb.com/title/tt12361974/</td>\n",
       "      <td>Determined to ensure Superman's ultimate sacri...</td>\n",
       "    </tr>\n",
       "  </tbody>\n",
       "</table>\n",
       "</div>"
      ],
      "text/plain": [
       "                                              title movie_type movie_length  \\\n",
       "date_of_upload                                                                \n",
       "2021-03-18      Zack Snyder's Justice League (2021)     Movies     04:02:03   \n",
       "\n",
       "                num_of_comments                                   genres  \\\n",
       "date_of_upload                                                             \n",
       "2021-03-18                   20     Action, Adventure, Fantasy, Sci-Fi     \n",
       "\n",
       "               release_date                                      stars  \\\n",
       "date_of_upload                                                           \n",
       "2021-03-18       2021-03-18     Henry Cavill, Ben Affleck, Gal Gadot     \n",
       "\n",
       "               language      subtitle  \\\n",
       "date_of_upload                          \n",
       "2021-03-18      English     English     \n",
       "\n",
       "                                               movie_link  \\\n",
       "date_of_upload                                              \n",
       "2021-03-18      https://www.thenetnaija.com/videos/movies   \n",
       "\n",
       "                                             imdb_link  \\\n",
       "date_of_upload                                           \n",
       "2021-03-18      https://www.imdb.com/title/tt12361974/   \n",
       "\n",
       "                                                    movie_summary  \n",
       "date_of_upload                                                     \n",
       "2021-03-18      Determined to ensure Superman's ultimate sacri...  "
      ]
     },
     "execution_count": 27,
     "metadata": {},
     "output_type": "execute_result"
    }
   ],
   "source": [
    "df['movie_length']=pd.to_timedelta(df['movie_length']) # convert the object type to a timedelta type\n",
    "\n",
    "df[df['movie_length']==df['movie_length'].max()]"
   ]
  },
  {
   "cell_type": "markdown",
   "metadata": {},
   "source": [
    "#### which year has the highest number of upload"
   ]
  },
  {
   "cell_type": "code",
   "execution_count": 28,
   "metadata": {
    "scrolled": true
   },
   "outputs": [
    {
     "data": {
      "image/png": "[encoded data removed]",
      "text/plain": [
       "<Figure size 720x360 with 1 Axes>"
      ]
     },
     "metadata": {
      "needs_background": "light"
     },
     "output_type": "display_data"
    }
   ],
   "source": [
    "y=pd.to_datetime(df['release_date']).dt.year.value_counts()\n",
    "#%matplotlib inline\n",
    "fig= plt.figure(figsize=(10,5))\n",
    "sns.barplot(y.index, y)\n",
    "plt.ylabel('Numbers of movie')\n",
    "plt.xlabel('Year')\n",
    "plt.title('Total Release Summary',  fontdict={'fontsize':25})\n",
    "plt.show()\n"
   ]
  },
  {
   "cell_type": "markdown",
   "metadata": {},
   "source": [
    "#### number of movies by month in the year 2019"
   ]
  },
  {
   "cell_type": "code",
   "execution_count": 29,
   "metadata": {
    "scrolled": true
   },
   "outputs": [],
   "source": [
    "df['release_year']=pd.to_datetime(df['release_date']).dt.year\n",
    "df['release_month']=pd.to_datetime(df['release_date']).dt.month_name()"
   ]
  },
  {
   "cell_type": "code",
   "execution_count": 30,
   "metadata": {},
   "outputs": [],
   "source": [
    "x=df[df['release_year']==2019]"
   ]
  },
  {
   "cell_type": "code",
   "execution_count": 31,
   "metadata": {
    "scrolled": true
   },
   "outputs": [],
   "source": [
    "x=x['release_month'].value_counts()\n",
    "new_order = ['January', 'February', 'March', 'April', 'June', 'July', 'August', 'September', 'October', 'November', 'December' ]\n",
    "x=x.reindex(new_order, axis=0)\n"
   ]
  },
  {
   "cell_type": "code",
   "execution_count": 32,
   "metadata": {},
   "outputs": [
    {
     "data": {
      "image/png": "[encoded data removed]",
      "text/plain": [
       "<Figure size 720x360 with 1 Axes>"
      ]
     },
     "metadata": {
      "needs_background": "light"
     },
     "output_type": "display_data"
    }
   ],
   "source": [
    "fig= plt.figure(figsize=(10,5))\n",
    "sns.barplot(x.index, x)\n",
    "plt.xticks(rotation=60)\n",
    "plt.ylabel('Numbers of movie')\n",
    "plt.xlabel('Month')\n",
    "plt.title('2019 Release Summary', fontdict={'fontsize':25})\n",
    "plt.show()\n"
   ]
  },
  {
   "cell_type": "markdown",
   "metadata": {},
   "source": [
    "#### movies which Jason Statham acted"
   ]
  },
  {
   "cell_type": "code",
   "execution_count": 33,
   "metadata": {},
   "outputs": [
    {
     "data": {
      "text/html": [
       "<div>\n",
       "<style scoped>\n",
       "    .dataframe tbody tr th:only-of-type {\n",
       "        vertical-align: middle;\n",
       "    }\n",
       "\n",
       "    .dataframe tbody tr th {\n",
       "        vertical-align: top;\n",
       "    }\n",
       "\n",
       "    .dataframe thead th {\n",
       "        text-align: right;\n",
       "    }\n",
       "</style>\n",
       "<table border=\"1\" class=\"dataframe\">\n",
       "  <thead>\n",
       "    <tr style=\"text-align: right;\">\n",
       "      <th></th>\n",
       "      <th>title</th>\n",
       "      <th>movie_type</th>\n",
       "      <th>movie_length</th>\n",
       "      <th>num_of_comments</th>\n",
       "      <th>genres</th>\n",
       "      <th>release_date</th>\n",
       "      <th>stars</th>\n",
       "      <th>language</th>\n",
       "      <th>subtitle</th>\n",
       "      <th>movie_link</th>\n",
       "      <th>imdb_link</th>\n",
       "      <th>movie_summary</th>\n",
       "      <th>release_year</th>\n",
       "      <th>release_month</th>\n",
       "    </tr>\n",
       "    <tr>\n",
       "      <th>date_of_upload</th>\n",
       "      <th></th>\n",
       "      <th></th>\n",
       "      <th></th>\n",
       "      <th></th>\n",
       "      <th></th>\n",
       "      <th></th>\n",
       "      <th></th>\n",
       "      <th></th>\n",
       "      <th></th>\n",
       "      <th></th>\n",
       "      <th></th>\n",
       "      <th></th>\n",
       "      <th></th>\n",
       "      <th></th>\n",
       "    </tr>\n",
       "  </thead>\n",
       "  <tbody>\n",
       "    <tr>\n",
       "      <th>2021-05-25</th>\n",
       "      <td>Wrath of Man (2021)</td>\n",
       "      <td>Movies</td>\n",
       "      <td>01:58:56</td>\n",
       "      <td>157</td>\n",
       "      <td>Action, Crime, Thriller</td>\n",
       "      <td>2021-05-07</td>\n",
       "      <td>Jason Statham, Holt McCallany, Josh Hartnett</td>\n",
       "      <td>English</td>\n",
       "      <td>English</td>\n",
       "      <td>https://www.thenetnaija.com/videos/movies</td>\n",
       "      <td>https://www.imdb.com/title/tt11083552/</td>\n",
       "      <td>&lt;em&gt;A one-man army.&lt;/em&gt;</td>\n",
       "      <td>2021</td>\n",
       "      <td>May</td>\n",
       "    </tr>\n",
       "    <tr>\n",
       "      <th>2019-08-06</th>\n",
       "      <td>Fast &amp; Furious Presents: Hobbs &amp; Shaw (2019)</td>\n",
       "      <td>Movies</td>\n",
       "      <td>02:16:00</td>\n",
       "      <td>0</td>\n",
       "      <td>Action, Adventure</td>\n",
       "      <td>2019-07-31</td>\n",
       "      <td>Dwayne Johnson, Jason Statham, Idris Elba</td>\n",
       "      <td>English</td>\n",
       "      <td>English</td>\n",
       "      <td>https://www.thenetnaija.com/videos/movies</td>\n",
       "      <td>https://www.imdb.com/title/tt6806448/</td>\n",
       "      <td>Lawman Luke Hobbs and outcast Deckard Shaw for...</td>\n",
       "      <td>2019</td>\n",
       "      <td>July</td>\n",
       "    </tr>\n",
       "    <tr>\n",
       "      <th>2018-09-16</th>\n",
       "      <td>The Meg (2018)</td>\n",
       "      <td>Movies</td>\n",
       "      <td>01:53:00</td>\n",
       "      <td>0</td>\n",
       "      <td>Action, Horror, Sci-Fi, Thriller</td>\n",
       "      <td>2018-08-10</td>\n",
       "      <td>Jason Statham, Bingbing Li, Rainn Wilson</td>\n",
       "      <td>English</td>\n",
       "      <td>English\\n</td>\n",
       "      <td>https://www.thenetnaija.com/videos/movies</td>\n",
       "      <td>missing</td>\n",
       "      <td>Previously thought to be extinct, a massive cr...</td>\n",
       "      <td>2018</td>\n",
       "      <td>August</td>\n",
       "    </tr>\n",
       "  </tbody>\n",
       "</table>\n",
       "</div>"
      ],
      "text/plain": [
       "                                                       title movie_type  \\\n",
       "date_of_upload                                                            \n",
       "2021-05-25                               Wrath of Man (2021)     Movies   \n",
       "2019-08-06      Fast & Furious Presents: Hobbs & Shaw (2019)     Movies   \n",
       "2018-09-16                                    The Meg (2018)     Movies   \n",
       "\n",
       "               movie_length  num_of_comments  \\\n",
       "date_of_upload                                 \n",
       "2021-05-25         01:58:56              157   \n",
       "2019-08-06         02:16:00                0   \n",
       "2018-09-16         01:53:00                0   \n",
       "\n",
       "                                               genres release_date  \\\n",
       "date_of_upload                                                       \n",
       "2021-05-25                 Action, Crime, Thriller      2021-05-07   \n",
       "2019-08-06                        Action, Adventure     2019-07-31   \n",
       "2018-09-16         Action, Horror, Sci-Fi, Thriller     2018-08-10   \n",
       "\n",
       "                                                            stars language  \\\n",
       "date_of_upload                                                               \n",
       "2021-05-25         Jason Statham, Holt McCallany, Josh Hartnett    English   \n",
       "2019-08-06            Dwayne Johnson, Jason Statham, Idris Elba    English   \n",
       "2018-09-16             Jason Statham, Bingbing Li, Rainn Wilson    English   \n",
       "\n",
       "                      subtitle                                 movie_link  \\\n",
       "date_of_upload                                                              \n",
       "2021-05-25           English    https://www.thenetnaija.com/videos/movies   \n",
       "2019-08-06           English    https://www.thenetnaija.com/videos/movies   \n",
       "2018-09-16         English\\n    https://www.thenetnaija.com/videos/movies   \n",
       "\n",
       "                                             imdb_link  \\\n",
       "date_of_upload                                           \n",
       "2021-05-25      https://www.imdb.com/title/tt11083552/   \n",
       "2019-08-06       https://www.imdb.com/title/tt6806448/   \n",
       "2018-09-16                                     missing   \n",
       "\n",
       "                                                    movie_summary  \\\n",
       "date_of_upload                                                      \n",
       "2021-05-25                               <em>A one-man army.</em>   \n",
       "2019-08-06      Lawman Luke Hobbs and outcast Deckard Shaw for...   \n",
       "2018-09-16      Previously thought to be extinct, a massive cr...   \n",
       "\n",
       "                release_year release_month  \n",
       "date_of_upload                              \n",
       "2021-05-25              2021           May  \n",
       "2019-08-06              2019          July  \n",
       "2018-09-16              2018        August  "
      ]
     },
     "execution_count": 33,
     "metadata": {},
     "output_type": "execute_result"
    }
   ],
   "source": [
    "df[df['stars'].str.contains('Jason Statham')]"
   ]
  },
  {
   "cell_type": "markdown",
   "metadata": {},
   "source": [
    "#### compared number of movies genre that's  horror, action, Comedy and animation in a pie chat"
   ]
  },
  {
   "cell_type": "code",
   "execution_count": 34,
   "metadata": {},
   "outputs": [
    {
     "data": {
      "image/png": "[encoded data removed]",
      "text/plain": [
       "<Figure size 576x576 with 1 Axes>"
      ]
     },
     "metadata": {},
     "output_type": "display_data"
    }
   ],
   "source": [
    "Action=df['genres'].str.contains('Action').sum()\n",
    "Horror=df['genres'].str.contains('Horror').sum()\n",
    "Animation=df['genres'].str.contains('Animation').sum()\n",
    "Comedy=Animation=df['genres'].str.contains('Comedy').sum()\n",
    "Thriller=Animation=df['genres'].str.contains('Thriller').sum()\n",
    "\n",
    "#values\n",
    "values=[Horror,Action,Animation,Comedy,Thriller ]\n",
    "fig= plt.figure(figsize=(8,8))\n",
    "\n",
    "#labeling\n",
    "color=['#05baae', '#b4ef86', '#efef86','#e47474', '#e4749c']\n",
    "label = ['Horror', 'Action', 'Animation', 'Comedy', 'Thriller' ]\n",
    "plt.title('Genre',  fontdict={'fontsize':25})\n",
    "\n",
    "#plotting\n",
    "plt.pie(values, labels=label, colors=color)\n",
    "plt.legend()\n",
    "\n",
    "plt.show()"
   ]
  },
  {
   "cell_type": "markdown",
   "metadata": {},
   "source": [
    "#### Show the distribution of comment using a histogram"
   ]
  },
  {
   "cell_type": "code",
   "execution_count": 35,
   "metadata": {},
   "outputs": [
    {
     "data": {
      "image/png": "[encoded data removed]",
      "text/plain": [
       "<Figure size 720x360 with 1 Axes>"
      ]
     },
     "metadata": {
      "needs_background": "light"
     },
     "output_type": "display_data"
    }
   ],
   "source": [
    "#values\n",
    "value= df['num_of_comments']\n",
    "bins=[10, 20, 30, 40, 50, 60, 70,  80, 90, 100]\n",
    "\n",
    "#median\n",
    "x=df['num_of_comments']\n",
    "s=sorted(x)\n",
    "median=s[int(len(s)/2)]\n",
    "\n",
    "fig= plt.figure(figsize=(10,5))\n",
    "\n",
    "#styling\n",
    "#plt.style.use('fivethirtyeight')\n",
    "color2='#e47474'\n",
    "color='#05baae'\n",
    "\n",
    "#plotting\n",
    "plt.hist(value, bins=bins, color=color, edgecolor='black')\n",
    "plt.axvline(median, color=color2, label='median', linewidth=2)\n",
    "plt.title('Comment Distribution', fontdict={'fontsize':25})\n",
    "plt.ylabel('Numbers of comment')\n",
    "plt.legend()\n",
    "\n",
    "plt.show()\n"
   ]
  },
  {
   "cell_type": "code",
   "execution_count": null,
   "metadata": {},
   "outputs": [],
   "source": []
  },
  {
   "cell_type": "markdown",
   "metadata": {},
   "source": [
    "## Project Details\n",
    "\n",
    "This repo cointain data anlysis project\n",
    "\n",
    "---\n",
    "### project 1: Data Cleaning And Data Exploration\n",
    "This contain the cleaning and preperation of the data scraped from <a href=\"https://www.thenetnaija.com/videos/movies\"> Netnaija</a>, project 1 of webscraping repo contains all the code used.</br>\n",
    "- Exploratory analysis and visualisation using matplotlib and seaborn."
   ]
  },
  {
   "cell_type": "code",
   "execution_count": null,
   "metadata": {},
   "outputs": [],
   "source": []
  }
 ],
 "metadata": {
  "kernelspec": {
   "display_name": "Python 3",
   "language": "python",
   "name": "python3"
  },
  "language_info": {
   "codemirror_mode": {
    "name": "ipython",
    "version": 3
   },
   "file_extension": ".py",
   "mimetype": "text/x-python",
   "name": "python",
   "nbconvert_exporter": "python",
   "pygments_lexer": "ipython3",
   "version": "3.7.6"
  }
 },
 "nbformat": 4,
 "nbformat_minor": 4
}
