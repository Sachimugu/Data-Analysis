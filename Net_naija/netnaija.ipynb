{
 "cells": [
  {
   "cell_type": "markdown",
   "metadata": {},
   "source": [
    "#### importing required package and inspecting data set"
   ]
  },
  {
   "cell_type": "code",
   "execution_count": 16,
   "metadata": {},
   "outputs": [],
   "source": [
    "#imports the required packages\n",
    "import pandas as pd \n",
    "from matplotlib import pyplot as plt\n",
    "import seaborn as sns\n"
   ]
  },
  {
   "cell_type": "code",
   "execution_count": 17,
   "metadata": {},
   "outputs": [],
   "source": [
    "df=pd.read_csv('./Data/netnaija_movie.csv') #loads the dataset"
   ]
  },
  {
   "cell_type": "code",
   "execution_count": 18,
   "metadata": {},
   "outputs": [
    {
     "data": {
      "text/html": [
       "<div>\n",
       "<style scoped>\n",
       "    .dataframe tbody tr th:only-of-type {\n",
       "        vertical-align: middle;\n",
       "    }\n",
       "\n",
       "    .dataframe tbody tr th {\n",
       "        vertical-align: top;\n",
       "    }\n",
       "\n",
       "    .dataframe thead th {\n",
       "        text-align: right;\n",
       "    }\n",
       "</style>\n",
       "<table border=\"1\" class=\"dataframe\">\n",
       "  <thead>\n",
       "    <tr style=\"text-align: right;\">\n",
       "      <th></th>\n",
       "      <th>Unnamed: 0</th>\n",
       "      <th>titles</th>\n",
       "      <th>movie_types</th>\n",
       "      <th>time_of_uplos</th>\n",
       "      <th>movie_lengths</th>\n",
       "      <th>num_of_comments</th>\n",
       "      <th>Genres</th>\n",
       "      <th>Release_Dates</th>\n",
       "      <th>Starss</th>\n",
       "      <th>Languages</th>\n",
       "      <th>Subtitles</th>\n",
       "      <th>movie_linkss</th>\n",
       "      <th>imdb_links</th>\n",
       "      <th>mo_summarys</th>\n",
       "    </tr>\n",
       "  </thead>\n",
       "  <tbody>\n",
       "    <tr>\n",
       "      <th>0</th>\n",
       "      <td>0</td>\n",
       "      <td>Sweet Carolina (2021)</td>\n",
       "      <td>['Movies']</td>\n",
       "      <td>Sep 07</td>\n",
       "      <td>['01:24:40']</td>\n",
       "      <td>['25']</td>\n",
       "      <td>[' Comedy, Family, Romance']</td>\n",
       "      <td>Release Date: May 15, 2021</td>\n",
       "      <td>[' Lacey Chabert, Tyler Hynes, Gregory Harrison']</td>\n",
       "      <td>[' English']</td>\n",
       "      <td>[' English']</td>\n",
       "      <td>https://www.thenetnaija.com/videos/movies</td>\n",
       "      <td>https://www.imdb.com/title/tt14477372/</td>\n",
       "      <td>&lt;em&gt;A family's loss becomes an unexpected gift...</td>\n",
       "    </tr>\n",
       "    <tr>\n",
       "      <th>1</th>\n",
       "      <td>1</td>\n",
       "      <td>Grace &amp; Saleem (2019)</td>\n",
       "      <td>['Movies']</td>\n",
       "      <td>Sep 06</td>\n",
       "      <td>['01:24:01']</td>\n",
       "      <td>['15']</td>\n",
       "      <td>[' Comedy, Drama, Romance']</td>\n",
       "      <td>Release Date: Aug 19, 2019</td>\n",
       "      <td>[' Dru Castiglione, Kyle Daniel Hernandez, She...</td>\n",
       "      <td>[' English']</td>\n",
       "      <td>[' English']</td>\n",
       "      <td>https://www.thenetnaija.com/videos/movies</td>\n",
       "      <td>https://www.imdb.com/title/tt10649220/</td>\n",
       "      <td>An unintended road trip, a comical first dinne...</td>\n",
       "    </tr>\n",
       "    <tr>\n",
       "      <th>2</th>\n",
       "      <td>2</td>\n",
       "      <td>Barbie: Big City, Big Dreams (2021)</td>\n",
       "      <td>['Movies']</td>\n",
       "      <td>Sep 06</td>\n",
       "      <td>['01:03:00']</td>\n",
       "      <td>['37']</td>\n",
       "      <td>[' Animation, Family, Musical']</td>\n",
       "      <td>Release Date: Aug 20, 2021</td>\n",
       "      <td>[' America Young, Amber Eliese May, Greg Chun']</td>\n",
       "      <td>[' English']</td>\n",
       "      <td>[' English']</td>\n",
       "      <td>https://www.thenetnaija.com/videos/movies</td>\n",
       "      <td>https://www.imdb.com/title/tt15053428/</td>\n",
       "      <td>Barbie swaps the sunny shores of Malibu for th...</td>\n",
       "    </tr>\n",
       "  </tbody>\n",
       "</table>\n",
       "</div>"
      ],
      "text/plain": [
       "   Unnamed: 0                               titles movie_types time_of_uplos  \\\n",
       "0           0                Sweet Carolina (2021)  ['Movies']        Sep 07   \n",
       "1           1                Grace & Saleem (2019)  ['Movies']        Sep 06   \n",
       "2           2  Barbie: Big City, Big Dreams (2021)  ['Movies']        Sep 06   \n",
       "\n",
       "  movie_lengths num_of_comments                           Genres  \\\n",
       "0  ['01:24:40']          ['25']     [' Comedy, Family, Romance']   \n",
       "1  ['01:24:01']          ['15']      [' Comedy, Drama, Romance']   \n",
       "2  ['01:03:00']          ['37']  [' Animation, Family, Musical']   \n",
       "\n",
       "                Release_Dates  \\\n",
       "0  Release Date: May 15, 2021   \n",
       "1  Release Date: Aug 19, 2019   \n",
       "2  Release Date: Aug 20, 2021   \n",
       "\n",
       "                                              Starss     Languages  \\\n",
       "0  [' Lacey Chabert, Tyler Hynes, Gregory Harrison']  [' English']   \n",
       "1  [' Dru Castiglione, Kyle Daniel Hernandez, She...  [' English']   \n",
       "2    [' America Young, Amber Eliese May, Greg Chun']  [' English']   \n",
       "\n",
       "      Subtitles                               movie_linkss  \\\n",
       "0  [' English']  https://www.thenetnaija.com/videos/movies   \n",
       "1  [' English']  https://www.thenetnaija.com/videos/movies   \n",
       "2  [' English']  https://www.thenetnaija.com/videos/movies   \n",
       "\n",
       "                               imdb_links  \\\n",
       "0  https://www.imdb.com/title/tt14477372/   \n",
       "1  https://www.imdb.com/title/tt10649220/   \n",
       "2  https://www.imdb.com/title/tt15053428/   \n",
       "\n",
       "                                         mo_summarys  \n",
       "0  <em>A family's loss becomes an unexpected gift...  \n",
       "1  An unintended road trip, a comical first dinne...  \n",
       "2  Barbie swaps the sunny shores of Malibu for th...  "
      ]
     },
     "execution_count": 18,
     "metadata": {},
     "output_type": "execute_result"
    }
   ],
   "source": [
    "df.head(3) # checks the first 3 rows"
   ]
  },
  {
   "cell_type": "code",
   "execution_count": 19,
   "metadata": {},
   "outputs": [
    {
     "data": {
      "text/html": [
       "<div>\n",
       "<style scoped>\n",
       "    .dataframe tbody tr th:only-of-type {\n",
       "        vertical-align: middle;\n",
       "    }\n",
       "\n",
       "    .dataframe tbody tr th {\n",
       "        vertical-align: top;\n",
       "    }\n",
       "\n",
       "    .dataframe thead th {\n",
       "        text-align: right;\n",
       "    }\n",
       "</style>\n",
       "<table border=\"1\" class=\"dataframe\">\n",
       "  <thead>\n",
       "    <tr style=\"text-align: right;\">\n",
       "      <th></th>\n",
       "      <th>Unnamed: 0</th>\n",
       "      <th>titles</th>\n",
       "      <th>movie_types</th>\n",
       "      <th>time_of_uplos</th>\n",
       "      <th>movie_lengths</th>\n",
       "      <th>num_of_comments</th>\n",
       "      <th>Genres</th>\n",
       "      <th>Release_Dates</th>\n",
       "      <th>Starss</th>\n",
       "      <th>Languages</th>\n",
       "      <th>Subtitles</th>\n",
       "      <th>movie_linkss</th>\n",
       "      <th>imdb_links</th>\n",
       "      <th>mo_summarys</th>\n",
       "    </tr>\n",
       "  </thead>\n",
       "  <tbody>\n",
       "    <tr>\n",
       "      <th>2728</th>\n",
       "      <td>2728</td>\n",
       "      <td>London Has Fallen (2016)</td>\n",
       "      <td>['Movies']</td>\n",
       "      <td>May 15, 2016</td>\n",
       "      <td>['01:38:00']</td>\n",
       "      <td>0</td>\n",
       "      <td>missing</td>\n",
       "      <td>missing</td>\n",
       "      <td>missing</td>\n",
       "      <td>missing</td>\n",
       "      <td>missing</td>\n",
       "      <td>https://www.thenetnaija.com/videos/movies</td>\n",
       "      <td>missing</td>\n",
       "      <td>After the British Prime Minister has passed aw...</td>\n",
       "    </tr>\n",
       "    <tr>\n",
       "      <th>2729</th>\n",
       "      <td>2729</td>\n",
       "      <td>The Trust (2016) [Starr. Nicolas Cage]</td>\n",
       "      <td>['Movies']</td>\n",
       "      <td>Apr 08, 2016</td>\n",
       "      <td>['01:32:00']</td>\n",
       "      <td>0</td>\n",
       "      <td>missing</td>\n",
       "      <td>missing</td>\n",
       "      <td>missing</td>\n",
       "      <td>missing</td>\n",
       "      <td>missing</td>\n",
       "      <td>https://www.thenetnaija.com/videos/movies</td>\n",
       "      <td>missing</td>\n",
       "      <td>Waters and Stone are two nobody police officer...</td>\n",
       "    </tr>\n",
       "    <tr>\n",
       "      <th>2730</th>\n",
       "      <td>2730</td>\n",
       "      <td>Dance Camp (2016)</td>\n",
       "      <td>['Movies']</td>\n",
       "      <td>Mar 13, 2016</td>\n",
       "      <td>['01:23:43']</td>\n",
       "      <td>0</td>\n",
       "      <td>missing</td>\n",
       "      <td>missing</td>\n",
       "      <td>missing</td>\n",
       "      <td>missing</td>\n",
       "      <td>missing</td>\n",
       "      <td>https://www.thenetnaija.com/videos/movies</td>\n",
       "      <td>missing</td>\n",
       "      <td>When Hunter gets sent to a dance camp, he meet...</td>\n",
       "    </tr>\n",
       "  </tbody>\n",
       "</table>\n",
       "</div>"
      ],
      "text/plain": [
       "      Unnamed: 0                                  titles movie_types  \\\n",
       "2728        2728                London Has Fallen (2016)  ['Movies']   \n",
       "2729        2729  The Trust (2016) [Starr. Nicolas Cage]  ['Movies']   \n",
       "2730        2730                       Dance Camp (2016)  ['Movies']   \n",
       "\n",
       "     time_of_uplos movie_lengths num_of_comments   Genres Release_Dates  \\\n",
       "2728  May 15, 2016  ['01:38:00']               0  missing       missing   \n",
       "2729  Apr 08, 2016  ['01:32:00']               0  missing       missing   \n",
       "2730  Mar 13, 2016  ['01:23:43']               0  missing       missing   \n",
       "\n",
       "       Starss Languages Subtitles                               movie_linkss  \\\n",
       "2728  missing   missing   missing  https://www.thenetnaija.com/videos/movies   \n",
       "2729  missing   missing   missing  https://www.thenetnaija.com/videos/movies   \n",
       "2730  missing   missing   missing  https://www.thenetnaija.com/videos/movies   \n",
       "\n",
       "     imdb_links                                        mo_summarys  \n",
       "2728    missing  After the British Prime Minister has passed aw...  \n",
       "2729    missing  Waters and Stone are two nobody police officer...  \n",
       "2730    missing  When Hunter gets sent to a dance camp, he meet...  "
      ]
     },
     "execution_count": 19,
     "metadata": {},
     "output_type": "execute_result"
    }
   ],
   "source": [
    "df.tail(3) #checks the last 3 row"
   ]
  },
  {
   "cell_type": "code",
   "execution_count": 20,
   "metadata": {},
   "outputs": [
    {
     "name": "stdout",
     "output_type": "stream",
     "text": [
      "number of rows are: 2731\n",
      "number of columns are: 14\n"
     ]
    }
   ],
   "source": [
    "print('number of rows are:', df.shape[0]) #number of row\n",
    "print('number of columns are:', df.shape[1]) #number of columns"
   ]
  },
  {
   "cell_type": "code",
   "execution_count": 21,
   "metadata": {
    "scrolled": false
   },
   "outputs": [
    {
     "name": "stdout",
     "output_type": "stream",
     "text": [
      "<class 'pandas.core.frame.DataFrame'>\n",
      "RangeIndex: 2731 entries, 0 to 2730\n",
      "Data columns (total 14 columns):\n",
      " #   Column           Non-Null Count  Dtype \n",
      "---  ------           --------------  ----- \n",
      " 0   Unnamed: 0       2731 non-null   int64 \n",
      " 1   titles           2731 non-null   object\n",
      " 2   movie_types      2731 non-null   object\n",
      " 3   time_of_uplos    2731 non-null   object\n",
      " 4   movie_lengths    2731 non-null   object\n",
      " 5   num_of_comments  2731 non-null   object\n",
      " 6   Genres           2731 non-null   object\n",
      " 7   Release_Dates    2731 non-null   object\n",
      " 8   Starss           2731 non-null   object\n",
      " 9   Languages        2731 non-null   object\n",
      " 10  Subtitles        2731 non-null   object\n",
      " 11  movie_linkss     2731 non-null   object\n",
      " 12  imdb_links       2731 non-null   object\n",
      " 13  mo_summarys      2731 non-null   object\n",
      "dtypes: int64(1), object(13)\n",
      "memory usage: 298.8+ KB\n"
     ]
    }
   ],
   "source": [
    "df.info() #dataframe information"
   ]
  },
  {
   "cell_type": "code",
   "execution_count": 22,
   "metadata": {},
   "outputs": [
    {
     "data": {
      "text/plain": [
       "Index(['Unnamed: 0', 'titles', 'movie_types', 'time_of_uplos', 'movie_lengths',\n",
       "       'num_of_comments', 'Genres', 'Release_Dates', 'Starss', 'Languages',\n",
       "       'Subtitles', 'movie_linkss', 'imdb_links', 'mo_summarys'],\n",
       "      dtype='object')"
      ]
     },
     "execution_count": 22,
     "metadata": {},
     "output_type": "execute_result"
    }
   ],
   "source": [
    "df.columns # list of columns"
   ]
  },
  {
   "cell_type": "code",
   "execution_count": 23,
   "metadata": {},
   "outputs": [],
   "source": [
    "df=df.rename(columns={\n",
    "    'time_of_uplos':'upload_date',\n",
    "    'movie_lengths':'movie_length',\n",
    "    'titles':'title',\n",
    "    'movie_types':'movie_type',\n",
    "    'Genres':'genres',\n",
    "    'Release_Dates':'release_date',\n",
    "    'Starss':'stars',\n",
    "    'Languages':'language',\n",
    "    'Subtitles':'subtitle',\n",
    "    'movie_linkss':'movie_link',\n",
    "    'imdb_links':'imdb_link', \n",
    "    'mo_summarys':'movie_summary'\n",
    "    })"
   ]
  },
  {
   "cell_type": "code",
   "execution_count": 24,
   "metadata": {},
   "outputs": [],
   "source": [
    "#df=df.drop(columns={'Unnamed: 0'})"
   ]
  },
  {
   "cell_type": "code",
   "execution_count": 25,
   "metadata": {},
   "outputs": [
    {
     "data": {
      "text/html": [
       "<div>\n",
       "<style scoped>\n",
       "    .dataframe tbody tr th:only-of-type {\n",
       "        vertical-align: middle;\n",
       "    }\n",
       "\n",
       "    .dataframe tbody tr th {\n",
       "        vertical-align: top;\n",
       "    }\n",
       "\n",
       "    .dataframe thead th {\n",
       "        text-align: right;\n",
       "    }\n",
       "</style>\n",
       "<table border=\"1\" class=\"dataframe\">\n",
       "  <thead>\n",
       "    <tr style=\"text-align: right;\">\n",
       "      <th></th>\n",
       "      <th>Unnamed: 0</th>\n",
       "      <th>title</th>\n",
       "      <th>movie_type</th>\n",
       "      <th>upload_date</th>\n",
       "      <th>movie_length</th>\n",
       "      <th>num_of_comments</th>\n",
       "      <th>genres</th>\n",
       "      <th>release_date</th>\n",
       "      <th>stars</th>\n",
       "      <th>language</th>\n",
       "      <th>subtitle</th>\n",
       "      <th>movie_link</th>\n",
       "      <th>imdb_link</th>\n",
       "      <th>movie_summary</th>\n",
       "    </tr>\n",
       "  </thead>\n",
       "  <tbody>\n",
       "    <tr>\n",
       "      <th>0</th>\n",
       "      <td>0</td>\n",
       "      <td>Sweet Carolina (2021)</td>\n",
       "      <td>['Movies']</td>\n",
       "      <td>Sep 07</td>\n",
       "      <td>['01:24:40']</td>\n",
       "      <td>['25']</td>\n",
       "      <td>[' Comedy, Family, Romance']</td>\n",
       "      <td>Release Date: May 15, 2021</td>\n",
       "      <td>[' Lacey Chabert, Tyler Hynes, Gregory Harrison']</td>\n",
       "      <td>[' English']</td>\n",
       "      <td>[' English']</td>\n",
       "      <td>https://www.thenetnaija.com/videos/movies</td>\n",
       "      <td>https://www.imdb.com/title/tt14477372/</td>\n",
       "      <td>&lt;em&gt;A family's loss becomes an unexpected gift...</td>\n",
       "    </tr>\n",
       "    <tr>\n",
       "      <th>1</th>\n",
       "      <td>1</td>\n",
       "      <td>Grace &amp; Saleem (2019)</td>\n",
       "      <td>['Movies']</td>\n",
       "      <td>Sep 06</td>\n",
       "      <td>['01:24:01']</td>\n",
       "      <td>['15']</td>\n",
       "      <td>[' Comedy, Drama, Romance']</td>\n",
       "      <td>Release Date: Aug 19, 2019</td>\n",
       "      <td>[' Dru Castiglione, Kyle Daniel Hernandez, She...</td>\n",
       "      <td>[' English']</td>\n",
       "      <td>[' English']</td>\n",
       "      <td>https://www.thenetnaija.com/videos/movies</td>\n",
       "      <td>https://www.imdb.com/title/tt10649220/</td>\n",
       "      <td>An unintended road trip, a comical first dinne...</td>\n",
       "    </tr>\n",
       "    <tr>\n",
       "      <th>2</th>\n",
       "      <td>2</td>\n",
       "      <td>Barbie: Big City, Big Dreams (2021)</td>\n",
       "      <td>['Movies']</td>\n",
       "      <td>Sep 06</td>\n",
       "      <td>['01:03:00']</td>\n",
       "      <td>['37']</td>\n",
       "      <td>[' Animation, Family, Musical']</td>\n",
       "      <td>Release Date: Aug 20, 2021</td>\n",
       "      <td>[' America Young, Amber Eliese May, Greg Chun']</td>\n",
       "      <td>[' English']</td>\n",
       "      <td>[' English']</td>\n",
       "      <td>https://www.thenetnaija.com/videos/movies</td>\n",
       "      <td>https://www.imdb.com/title/tt15053428/</td>\n",
       "      <td>Barbie swaps the sunny shores of Malibu for th...</td>\n",
       "    </tr>\n",
       "  </tbody>\n",
       "</table>\n",
       "</div>"
      ],
      "text/plain": [
       "   Unnamed: 0                                title  movie_type upload_date  \\\n",
       "0           0                Sweet Carolina (2021)  ['Movies']      Sep 07   \n",
       "1           1                Grace & Saleem (2019)  ['Movies']      Sep 06   \n",
       "2           2  Barbie: Big City, Big Dreams (2021)  ['Movies']      Sep 06   \n",
       "\n",
       "   movie_length num_of_comments                           genres  \\\n",
       "0  ['01:24:40']          ['25']     [' Comedy, Family, Romance']   \n",
       "1  ['01:24:01']          ['15']      [' Comedy, Drama, Romance']   \n",
       "2  ['01:03:00']          ['37']  [' Animation, Family, Musical']   \n",
       "\n",
       "                 release_date  \\\n",
       "0  Release Date: May 15, 2021   \n",
       "1  Release Date: Aug 19, 2019   \n",
       "2  Release Date: Aug 20, 2021   \n",
       "\n",
       "                                               stars      language  \\\n",
       "0  [' Lacey Chabert, Tyler Hynes, Gregory Harrison']  [' English']   \n",
       "1  [' Dru Castiglione, Kyle Daniel Hernandez, She...  [' English']   \n",
       "2    [' America Young, Amber Eliese May, Greg Chun']  [' English']   \n",
       "\n",
       "       subtitle                                 movie_link  \\\n",
       "0  [' English']  https://www.thenetnaija.com/videos/movies   \n",
       "1  [' English']  https://www.thenetnaija.com/videos/movies   \n",
       "2  [' English']  https://www.thenetnaija.com/videos/movies   \n",
       "\n",
       "                                imdb_link  \\\n",
       "0  https://www.imdb.com/title/tt14477372/   \n",
       "1  https://www.imdb.com/title/tt10649220/   \n",
       "2  https://www.imdb.com/title/tt15053428/   \n",
       "\n",
       "                                       movie_summary  \n",
       "0  <em>A family's loss becomes an unexpected gift...  \n",
       "1  An unintended road trip, a comical first dinne...  \n",
       "2  Barbie swaps the sunny shores of Malibu for th...  "
      ]
     },
     "execution_count": 25,
     "metadata": {},
     "output_type": "execute_result"
    }
   ],
   "source": [
    "df.head(3)"
   ]
  },
  {
   "cell_type": "code",
   "execution_count": null,
   "metadata": {},
   "outputs": [],
   "source": []
  },
  {
   "cell_type": "markdown",
   "metadata": {},
   "source": [
    "####    cleaning the movie_type columns"
   ]
  },
  {
   "cell_type": "code",
   "execution_count": 26,
   "metadata": {},
   "outputs": [],
   "source": [
    "#cleaning the movie_type columns\n",
    "#removing [''] saurrounding the values\n",
    "df['movie_type']=df['movie_type'].str.replace('[', '')\n",
    "df['movie_type']=df['movie_type'].str.replace(']', '')\n",
    "df['movie_type']=df['movie_type'].str.replace('\\'', '')"
   ]
  },
  {
   "cell_type": "code",
   "execution_count": 27,
   "metadata": {},
   "outputs": [
    {
     "data": {
      "text/plain": [
       "dtype('O')"
      ]
     },
     "execution_count": 27,
     "metadata": {},
     "output_type": "execute_result"
    }
   ],
   "source": [
    "# movie_type datatype\n",
    "df['movie_type'].dtypes"
   ]
  },
  {
   "cell_type": "code",
   "execution_count": 28,
   "metadata": {},
   "outputs": [
    {
     "data": {
      "text/plain": [
       "Movies    2731\n",
       "Name: movie_type, dtype: int64"
      ]
     },
     "execution_count": 28,
     "metadata": {},
     "output_type": "execute_result"
    }
   ],
   "source": [
    "#movie_type unique value counts\n",
    "df['movie_type'].value_counts()"
   ]
  },
  {
   "cell_type": "code",
   "execution_count": 29,
   "metadata": {},
   "outputs": [
    {
     "data": {
      "text/plain": [
       "0"
      ]
     },
     "execution_count": 29,
     "metadata": {},
     "output_type": "execute_result"
    }
   ],
   "source": [
    "#check for empty or null values\n",
    "df['movie_type'].isnull().sum()"
   ]
  },
  {
   "cell_type": "code",
   "execution_count": 30,
   "metadata": {},
   "outputs": [],
   "source": [
    "# renaming the column\n",
    "df=df.rename(columns={'movie_types':'Movie_Type'})"
   ]
  },
  {
   "cell_type": "markdown",
   "metadata": {
    "heading_collapsed": true
   },
   "source": [
    "#### cleaning the date of upload column"
   ]
  },
  {
   "cell_type": "code",
   "execution_count": 31,
   "metadata": {
    "hidden": true
   },
   "outputs": [],
   "source": [
    "df['daynmonth']=df['upload_date'].str.split(',') #new columns from days\n",
    "df['daynmonth']=df['daynmonth'].apply(lambda x: x[0])\n",
    "df['year']=df['title'].str.extract('(\\d{4})') #new columns for year\n",
    "df['date_of_upload']=df['daynmonth']+' '+df['year']\n",
    "df['date_of_upload']=pd.to_datetime(df['date_of_upload'], errors='coerce') #covert to timeseries datatype\n",
    "df['date_of_upload'].isnull().sum() #sum of columns with invalid date\n",
    "df['date_of_upload'].dropna # remove columns with invalid date\n",
    "df=df.set_index('date_of_upload') #set date of uploaad as column\n",
    "df=df.drop(['Unnamed: 0', 'upload_date', 'daynmonth', 'year'], axis=1) # removing redundant columns"
   ]
  },
  {
   "cell_type": "markdown",
   "metadata": {
    "heading_collapsed": true
   },
   "source": [
    "#### cleaning the movie_length column"
   ]
  },
  {
   "cell_type": "code",
   "execution_count": 32,
   "metadata": {
    "hidden": true
   },
   "outputs": [
    {
     "data": {
      "text/plain": [
       "0"
      ]
     },
     "execution_count": 32,
     "metadata": {},
     "output_type": "execute_result"
    }
   ],
   "source": [
    "#removing [''] from the length of movie\n",
    "df['movie_length']=df['movie_length'].str.replace('[',' ')\n",
    "df['movie_length']=df['movie_length'].str.replace(']',' ')\n",
    "df['movie_length']=df['movie_length'].str.replace('\\'',' ')\n",
    "df['movie_length'].isnull().sum()#checking for missing value"
   ]
  },
  {
   "cell_type": "markdown",
   "metadata": {
    "heading_collapsed": true
   },
   "source": [
    "#### cleaning the num_of_comments column"
   ]
  },
  {
   "cell_type": "code",
   "execution_count": 33,
   "metadata": {
    "hidden": true
   },
   "outputs": [],
   "source": [
    "#removing [''] from the length of movie\n",
    "#seems we are going to be removing [''] from most columns, here is a function\n",
    "def rmbracket(columns): # defining a function\n",
    "    columns=columns.str.replace('[',' ')\n",
    "    columns=columns.str.replace(']',' ')\n",
    "    columns=columns.str.replace('\\'',' ')\n",
    "    return columns\n",
    "\n",
    "df['num_of_comments']=rmbracket(df['num_of_comments'])#calling a function\n",
    "\n",
    "df['num_of_comments'].isnull().sum() #check for invalid values\n",
    "df['num_of_comments']=df['num_of_comments'].astype(int) #changes the data type from object to integer type"
   ]
  },
  {
   "cell_type": "markdown",
   "metadata": {
    "heading_collapsed": true
   },
   "source": [
    "#### cleaning the genres column"
   ]
  },
  {
   "cell_type": "code",
   "execution_count": 34,
   "metadata": {
    "hidden": true
   },
   "outputs": [],
   "source": [
    "#removing [''] from the length of genres\n",
    "\n",
    "df['genres']=rmbracket(df['genres'])#calling a function"
   ]
  },
  {
   "cell_type": "markdown",
   "metadata": {
    "heading_collapsed": true
   },
   "source": [
    "#### cleaning the release_date column"
   ]
  },
  {
   "cell_type": "code",
   "execution_count": 35,
   "metadata": {
    "hidden": true
   },
   "outputs": [],
   "source": [
    "df['release_date']=df['release_date'].str.replace('Release Date:', ' ') #removes the comma"
   ]
  },
  {
   "cell_type": "code",
   "execution_count": 36,
   "metadata": {
    "hidden": true
   },
   "outputs": [],
   "source": [
    "df['release_date']=pd.to_datetime(df['release_date'], errors='coerce') #covert to time series data type"
   ]
  },
  {
   "cell_type": "code",
   "execution_count": 37,
   "metadata": {
    "hidden": true
   },
   "outputs": [],
   "source": [
    "df['release_date'].isnull().sum() #check for numbers of null values\n",
    "df=df.dropna() #removes null vlaues"
   ]
  },
  {
   "cell_type": "markdown",
   "metadata": {
    "heading_collapsed": true
   },
   "source": [
    "#### cleaning the stars column"
   ]
  },
  {
   "cell_type": "code",
   "execution_count": 38,
   "metadata": {
    "hidden": true
   },
   "outputs": [],
   "source": [
    "#removing [''] from the length of stars\n",
    "\n",
    "df['stars']=rmbracket(df['stars'])#calling a function"
   ]
  },
  {
   "cell_type": "markdown",
   "metadata": {
    "heading_collapsed": true
   },
   "source": [
    "#### cleaning the language​ column"
   ]
  },
  {
   "cell_type": "code",
   "execution_count": 39,
   "metadata": {
    "hidden": true
   },
   "outputs": [],
   "source": [
    "#removing [''] from the length of stars\n",
    "\n",
    "df['language']=rmbracket(df['language'])#calling a function\n",
    "df['language']=df['language'].str.replace('\\\\xa0', ' ')"
   ]
  },
  {
   "cell_type": "markdown",
   "metadata": {
    "heading_collapsed": true
   },
   "source": [
    "#### cleaning the subtitle column"
   ]
  },
  {
   "cell_type": "code",
   "execution_count": 40,
   "metadata": {
    "hidden": true
   },
   "outputs": [],
   "source": [
    "#removing [''] from the length of stars\n",
    "\n",
    "df['subtitle']=rmbracket(df['subtitle'])#calling a function"
   ]
  },
  {
   "cell_type": "markdown",
   "metadata": {},
   "source": [
    "#### cleaning summary"
   ]
  },
  {
   "cell_type": "code",
   "execution_count": 41,
   "metadata": {},
   "outputs": [],
   "source": [
    "#saving the new dataframe\n",
    "df.to_csv(\"./Data/cleaned_netnaija_movie.csv\")\n",
    "df.to_excel('./Data/cleaned_netnaija_movie.xlsx')"
   ]
  },
  {
   "cell_type": "code",
   "execution_count": 42,
   "metadata": {},
   "outputs": [
    {
     "data": {
      "text/html": [
       "<div>\n",
       "<style scoped>\n",
       "    .dataframe tbody tr th:only-of-type {\n",
       "        vertical-align: middle;\n",
       "    }\n",
       "\n",
       "    .dataframe tbody tr th {\n",
       "        vertical-align: top;\n",
       "    }\n",
       "\n",
       "    .dataframe thead th {\n",
       "        text-align: right;\n",
       "    }\n",
       "</style>\n",
       "<table border=\"1\" class=\"dataframe\">\n",
       "  <thead>\n",
       "    <tr style=\"text-align: right;\">\n",
       "      <th></th>\n",
       "      <th>title</th>\n",
       "      <th>movie_type</th>\n",
       "      <th>movie_length</th>\n",
       "      <th>num_of_comments</th>\n",
       "      <th>genres</th>\n",
       "      <th>release_date</th>\n",
       "      <th>stars</th>\n",
       "      <th>language</th>\n",
       "      <th>subtitle</th>\n",
       "      <th>movie_link</th>\n",
       "      <th>imdb_link</th>\n",
       "      <th>movie_summary</th>\n",
       "    </tr>\n",
       "    <tr>\n",
       "      <th>date_of_upload</th>\n",
       "      <th></th>\n",
       "      <th></th>\n",
       "      <th></th>\n",
       "      <th></th>\n",
       "      <th></th>\n",
       "      <th></th>\n",
       "      <th></th>\n",
       "      <th></th>\n",
       "      <th></th>\n",
       "      <th></th>\n",
       "      <th></th>\n",
       "      <th></th>\n",
       "    </tr>\n",
       "  </thead>\n",
       "  <tbody>\n",
       "    <tr>\n",
       "      <th>2021-09-07</th>\n",
       "      <td>Sweet Carolina (2021)</td>\n",
       "      <td>Movies</td>\n",
       "      <td>01:24:40</td>\n",
       "      <td>25</td>\n",
       "      <td>Comedy, Family, Romance</td>\n",
       "      <td>2021-05-15</td>\n",
       "      <td>Lacey Chabert, Tyler Hynes, Gregory Harrison</td>\n",
       "      <td>English</td>\n",
       "      <td>English</td>\n",
       "      <td>https://www.thenetnaija.com/videos/movies</td>\n",
       "      <td>https://www.imdb.com/title/tt14477372/</td>\n",
       "      <td>&lt;em&gt;A family's loss becomes an unexpected gift...</td>\n",
       "    </tr>\n",
       "    <tr>\n",
       "      <th>2019-09-06</th>\n",
       "      <td>Grace &amp; Saleem (2019)</td>\n",
       "      <td>Movies</td>\n",
       "      <td>01:24:01</td>\n",
       "      <td>15</td>\n",
       "      <td>Comedy, Drama, Romance</td>\n",
       "      <td>2019-08-19</td>\n",
       "      <td>Dru Castiglione, Kyle Daniel Hernandez, She...</td>\n",
       "      <td>English</td>\n",
       "      <td>English</td>\n",
       "      <td>https://www.thenetnaija.com/videos/movies</td>\n",
       "      <td>https://www.imdb.com/title/tt10649220/</td>\n",
       "      <td>An unintended road trip, a comical first dinne...</td>\n",
       "    </tr>\n",
       "    <tr>\n",
       "      <th>2021-09-06</th>\n",
       "      <td>Barbie: Big City, Big Dreams (2021)</td>\n",
       "      <td>Movies</td>\n",
       "      <td>01:03:00</td>\n",
       "      <td>37</td>\n",
       "      <td>Animation, Family, Musical</td>\n",
       "      <td>2021-08-20</td>\n",
       "      <td>America Young, Amber Eliese May, Greg Chun</td>\n",
       "      <td>English</td>\n",
       "      <td>English</td>\n",
       "      <td>https://www.thenetnaija.com/videos/movies</td>\n",
       "      <td>https://www.imdb.com/title/tt15053428/</td>\n",
       "      <td>Barbie swaps the sunny shores of Malibu for th...</td>\n",
       "    </tr>\n",
       "    <tr>\n",
       "      <th>2021-09-04</th>\n",
       "      <td>The J Team (2021)</td>\n",
       "      <td>Movies</td>\n",
       "      <td>01:24:53</td>\n",
       "      <td>38</td>\n",
       "      <td>Comedy, Family, Musical</td>\n",
       "      <td>2021-09-03</td>\n",
       "      <td>JoJo Siwa, Tisha Campbell, Laura Soltis, Ki...</td>\n",
       "      <td>English</td>\n",
       "      <td>English</td>\n",
       "      <td>https://www.thenetnaija.com/videos/movies</td>\n",
       "      <td>https://www.imdb.com/title/tt14006530/</td>\n",
       "      <td>The story follows a young girl named JoJo whos...</td>\n",
       "    </tr>\n",
       "    <tr>\n",
       "      <th>2021-09-03</th>\n",
       "      <td>Karen (2021)</td>\n",
       "      <td>Movies</td>\n",
       "      <td>40</td>\n",
       "      <td>0</td>\n",
       "      <td>Horro, Thriller</td>\n",
       "      <td>2021-09-03</td>\n",
       "      <td>Taryn Manning, Cory Hardrict, Gregory Alan ...</td>\n",
       "      <td>English</td>\n",
       "      <td>English</td>\n",
       "      <td>https://www.thenetnaija.com/videos/movies</td>\n",
       "      <td>https://www.imdb.com/title/tt12636872/</td>\n",
       "      <td>&lt;em&gt;Not all neighbors are friendly.&lt;/em&gt;</td>\n",
       "    </tr>\n",
       "  </tbody>\n",
       "</table>\n",
       "</div>"
      ],
      "text/plain": [
       "                                              title movie_type  movie_length  \\\n",
       "date_of_upload                                                                 \n",
       "2021-09-07                    Sweet Carolina (2021)     Movies    01:24:40     \n",
       "2019-09-06                    Grace & Saleem (2019)     Movies    01:24:01     \n",
       "2021-09-06      Barbie: Big City, Big Dreams (2021)     Movies    01:03:00     \n",
       "2021-09-04                        The J Team (2021)     Movies    01:24:53     \n",
       "2021-09-03                             Karen (2021)     Movies          40     \n",
       "\n",
       "                num_of_comments                           genres release_date  \\\n",
       "date_of_upload                                                                  \n",
       "2021-09-07                   25        Comedy, Family, Romance     2021-05-15   \n",
       "2019-09-06                   15         Comedy, Drama, Romance     2019-08-19   \n",
       "2021-09-06                   37     Animation, Family, Musical     2021-08-20   \n",
       "2021-09-04                   38        Comedy, Family, Musical     2021-09-03   \n",
       "2021-09-03                    0                Horro, Thriller     2021-09-03   \n",
       "\n",
       "                                                            stars  \\\n",
       "date_of_upload                                                      \n",
       "2021-09-07         Lacey Chabert, Tyler Hynes, Gregory Harrison     \n",
       "2019-09-06         Dru Castiglione, Kyle Daniel Hernandez, She...   \n",
       "2021-09-06           America Young, Amber Eliese May, Greg Chun     \n",
       "2021-09-04         JoJo Siwa, Tisha Campbell, Laura Soltis, Ki...   \n",
       "2021-09-03         Taryn Manning, Cory Hardrict, Gregory Alan ...   \n",
       "\n",
       "                    language      subtitle  \\\n",
       "date_of_upload                               \n",
       "2021-09-07         English       English     \n",
       "2019-09-06         English       English     \n",
       "2021-09-06         English       English     \n",
       "2021-09-04         English       English     \n",
       "2021-09-03         English       English     \n",
       "\n",
       "                                               movie_link  \\\n",
       "date_of_upload                                              \n",
       "2021-09-07      https://www.thenetnaija.com/videos/movies   \n",
       "2019-09-06      https://www.thenetnaija.com/videos/movies   \n",
       "2021-09-06      https://www.thenetnaija.com/videos/movies   \n",
       "2021-09-04      https://www.thenetnaija.com/videos/movies   \n",
       "2021-09-03      https://www.thenetnaija.com/videos/movies   \n",
       "\n",
       "                                             imdb_link  \\\n",
       "date_of_upload                                           \n",
       "2021-09-07      https://www.imdb.com/title/tt14477372/   \n",
       "2019-09-06      https://www.imdb.com/title/tt10649220/   \n",
       "2021-09-06      https://www.imdb.com/title/tt15053428/   \n",
       "2021-09-04      https://www.imdb.com/title/tt14006530/   \n",
       "2021-09-03      https://www.imdb.com/title/tt12636872/   \n",
       "\n",
       "                                                    movie_summary  \n",
       "date_of_upload                                                     \n",
       "2021-09-07      <em>A family's loss becomes an unexpected gift...  \n",
       "2019-09-06      An unintended road trip, a comical first dinne...  \n",
       "2021-09-06      Barbie swaps the sunny shores of Malibu for th...  \n",
       "2021-09-04      The story follows a young girl named JoJo whos...  \n",
       "2021-09-03               <em>Not all neighbors are friendly.</em>  "
      ]
     },
     "execution_count": 42,
     "metadata": {},
     "output_type": "execute_result"
    }
   ],
   "source": [
    "df.head(5)"
   ]
  },
  {
   "cell_type": "code",
   "execution_count": 43,
   "metadata": {},
   "outputs": [
    {
     "name": "stdout",
     "output_type": "stream",
     "text": [
      "number of rows are: 2587\n",
      "number of columns are: 12\n"
     ]
    }
   ],
   "source": [
    "#number of roows and columns after cleaning\n",
    "\n",
    "print('number of rows are:', df.shape[0]) #number of row\n",
    "print('number of columns are:', df.shape[1]) #number of columns"
   ]
  },
  {
   "cell_type": "code",
   "execution_count": 44,
   "metadata": {},
   "outputs": [
    {
     "name": "stdout",
     "output_type": "stream",
     "text": [
      "<class 'pandas.core.frame.DataFrame'>\n",
      "DatetimeIndex: 2587 entries, 2021-09-07 to 2017-07-10\n",
      "Data columns (total 12 columns):\n",
      " #   Column           Non-Null Count  Dtype         \n",
      "---  ------           --------------  -----         \n",
      " 0   title            2587 non-null   object        \n",
      " 1   movie_type       2587 non-null   object        \n",
      " 2   movie_length     2587 non-null   object        \n",
      " 3   num_of_comments  2587 non-null   int32         \n",
      " 4   genres           2587 non-null   object        \n",
      " 5   release_date     2587 non-null   datetime64[ns]\n",
      " 6   stars            2587 non-null   object        \n",
      " 7   language         2587 non-null   object        \n",
      " 8   subtitle         2587 non-null   object        \n",
      " 9   movie_link       2587 non-null   object        \n",
      " 10  imdb_link        2587 non-null   object        \n",
      " 11  movie_summary    2587 non-null   object        \n",
      "dtypes: datetime64[ns](1), int32(1), object(10)\n",
      "memory usage: 252.6+ KB\n"
     ]
    }
   ],
   "source": [
    "df.info()"
   ]
  },
  {
   "cell_type": "code",
   "execution_count": 45,
   "metadata": {},
   "outputs": [
    {
     "data": {
      "text/plain": [
       "   English              1919\n",
       "missing                   86\n",
       "   Korean                 77\n",
       "   Chinese                64\n",
       "   Indian (Hindi)         61\n",
       "   English\\n              46\n",
       "   Indian (Tamil)         29\n",
       "   Indian (Telugu)        25\n",
       "   Spanish                23\n",
       "   Indian                 22\n",
       "Name: language, dtype: int64"
      ]
     },
     "execution_count": 45,
     "metadata": {},
     "output_type": "execute_result"
    }
   ],
   "source": [
    "#TOP 10 MOVIE LANGUAGE\n",
    "lang=df['language'].value_counts().nlargest(10)\n",
    "lang"
   ]
  },
  {
   "cell_type": "code",
   "execution_count": 46,
   "metadata": {},
   "outputs": [
    {
     "data": {
      "image/png": "[encoded data removed]",
      "text/plain": [
       "<Figure size 1296x720 with 1 Axes>"
      ]
     },
     "metadata": {},
     "output_type": "display_data"
    }
   ],
   "source": [
    "%matplotlib inline\n",
    "\n",
    "#values\n",
    "counts = lang\n",
    "language = lang.index\n",
    "\n",
    "#styling\n",
    "plt.style.use('fivethirtyeight')\n",
    "\n",
    "fig=plt.figure(figsize=(18,10))\n",
    "#labeling\n",
    "plt.xlabel('language', fontsize=20)\n",
    "plt.ylabel('counts',fontsize=20)\n",
    "plt.title('language counts',fontsize=38)\n",
    "plt.xticks(rotation=90)\n",
    "\n",
    "#to change the color of the highest and smallest\n",
    "color=['maroon' if (bar==min(counts) or bar==max(counts)) else 'grey' for bar in counts]\n",
    "\n",
    "#ploting\n",
    "plt.barh(language,counts, color=color)\n",
    "\n",
    "#to save file\n",
    "#plt.savefig('plot.png')\n",
    "\n",
    "#show graph\n",
    "plt.show()\n",
    "\n",
    "\n"
   ]
  },
  {
   "cell_type": "code",
   "execution_count": 47,
   "metadata": {},
   "outputs": [
    {
     "name": "stdout",
     "output_type": "stream",
     "text": [
      "74.01636151149201\n",
      "3.3502142578885863\n",
      "25.983638488507992\n"
     ]
    }
   ],
   "source": [
    "\n",
    "English=(1900/2567)*100\n",
    "Unknown_lang=(86/2567)*100\n",
    "Others=(100-English)\n",
    "print(English)\n",
    "print(Unknown_lang)\n",
    "print(Others)"
   ]
  },
  {
   "cell_type": "code",
   "execution_count": 48,
   "metadata": {},
   "outputs": [
    {
     "name": "stdout",
     "output_type": "stream",
     "text": [
      "English:  74.01636151149201\n",
      "Unknown_lang:  3.3502142578885863\n",
      "Others : 25.983638488507992\n"
     ]
    },
    {
     "data": {
      "image/png": "[encoded data removed]",
      "text/plain": [
       "<Figure size 504x504 with 1 Axes>"
      ]
     },
     "metadata": {},
     "output_type": "display_data"
    }
   ],
   "source": [
    "%matplotlib inline\n",
    "\n",
    "fig = plt.figure(figsize=(7,7))\n",
    "#values\n",
    "values= [English,Unknown_lang, Others]\n",
    "\n",
    "#styling\n",
    "plt.style.use('fivethirtyeight')\n",
    "\n",
    "#labeling\n",
    "color=['#003f5c', '#ffa600', '#bc5090']\n",
    "label = ['English', 'Unknown_lang', 'Others']\n",
    "explode= [0,0.05,0]\n",
    "plt.title('language in percentage')\n",
    "\n",
    "\n",
    "#plotting\n",
    "plt.pie(values, labels=label, colors=color, explode=explode)\n",
    "\n",
    "\n",
    "print('English: ', English)\n",
    "print(\"Unknown_lang: \", Unknown_lang)\n",
    "print('Others :', Others)\n",
    "#to save file\n",
    "#plt.savefig('plot.png')\n",
    "\n",
    "#show graph\n",
    "plt.show()"
   ]
  },
  {
   "cell_type": "markdown",
   "metadata": {},
   "source": [
    "---"
   ]
  },
  {
   "cell_type": "markdown",
   "metadata": {},
   "source": [
    "\n"
   ]
  },
  {
   "cell_type": "code",
   "execution_count": null,
   "metadata": {},
   "outputs": [],
   "source": []
  }
 ],
 "metadata": {
  "kernelspec": {
   "display_name": "Python 3",
   "language": "python",
   "name": "python3"
  },
  "language_info": {
   "codemirror_mode": {
    "name": "ipython",
    "version": 3
   },
   "file_extension": ".py",
   "mimetype": "text/x-python",
   "name": "python",
   "nbconvert_exporter": "python",
   "pygments_lexer": "ipython3",
   "version": "3.7.6"
  }
 },
 "nbformat": 4,
 "nbformat_minor": 4
}
