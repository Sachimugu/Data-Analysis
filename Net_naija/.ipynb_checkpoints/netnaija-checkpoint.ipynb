{
 "cells": [
  {
   "cell_type": "markdown",
   "metadata": {},
   "source": [
    "#### importing required package and inspecting data set"
   ]
  },
  {
   "cell_type": "code",
   "execution_count": 9,
   "metadata": {},
   "outputs": [],
   "source": [
    "#imports the required packages\n",
    "import pandas as pd \n",
    "from matplotlib import pyplot as plt\n",
    "import seaborn as sns\n"
   ]
  },
  {
   "cell_type": "code",
   "execution_count": 15,
   "metadata": {},
   "outputs": [],
   "source": [
    "df=pd.read_csv('./Data/netnaija_movie.csv') #loads the dataset"
   ]
  },
  {
   "cell_type": "code",
   "execution_count": 11,
   "metadata": {},
   "outputs": [
    {
     "ename": "NameError",
     "evalue": "name 'df' is not defined",
     "output_type": "error",
     "traceback": [
      "\u001b[1;31m---------------------------------------------------------------------------\u001b[0m",
      "\u001b[1;31mNameError\u001b[0m                                 Traceback (most recent call last)",
      "\u001b[1;32m<ipython-input-11-7386890eb43f>\u001b[0m in \u001b[0;36m<module>\u001b[1;34m\u001b[0m\n\u001b[1;32m----> 1\u001b[1;33m \u001b[0mdf\u001b[0m\u001b[1;33m.\u001b[0m\u001b[0mhead\u001b[0m\u001b[1;33m(\u001b[0m\u001b[1;36m3\u001b[0m\u001b[1;33m)\u001b[0m \u001b[1;31m# checks the first 3 rows\u001b[0m\u001b[1;33m\u001b[0m\u001b[1;33m\u001b[0m\u001b[0m\n\u001b[0m",
      "\u001b[1;31mNameError\u001b[0m: name 'df' is not defined"
     ]
    }
   ],
   "source": [
    "df.head(3) # checks the first 3 rows"
   ]
  },
  {
   "cell_type": "code",
   "execution_count": 12,
   "metadata": {},
   "outputs": [
    {
     "ename": "NameError",
     "evalue": "name 'df' is not defined",
     "output_type": "error",
     "traceback": [
      "\u001b[1;31m---------------------------------------------------------------------------\u001b[0m",
      "\u001b[1;31mNameError\u001b[0m                                 Traceback (most recent call last)",
      "\u001b[1;32m<ipython-input-12-0dd133db6d0c>\u001b[0m in \u001b[0;36m<module>\u001b[1;34m\u001b[0m\n\u001b[1;32m----> 1\u001b[1;33m \u001b[0mdf\u001b[0m\u001b[1;33m.\u001b[0m\u001b[0mtail\u001b[0m\u001b[1;33m(\u001b[0m\u001b[1;36m3\u001b[0m\u001b[1;33m)\u001b[0m \u001b[1;31m#checks the last 3 row\u001b[0m\u001b[1;33m\u001b[0m\u001b[1;33m\u001b[0m\u001b[0m\n\u001b[0m",
      "\u001b[1;31mNameError\u001b[0m: name 'df' is not defined"
     ]
    }
   ],
   "source": [
    "df.tail(3) #checks the last 3 row"
   ]
  },
  {
   "cell_type": "code",
   "execution_count": 13,
   "metadata": {},
   "outputs": [
    {
     "ename": "NameError",
     "evalue": "name 'df' is not defined",
     "output_type": "error",
     "traceback": [
      "\u001b[1;31m---------------------------------------------------------------------------\u001b[0m",
      "\u001b[1;31mNameError\u001b[0m                                 Traceback (most recent call last)",
      "\u001b[1;32m<ipython-input-13-dc3885b64f8c>\u001b[0m in \u001b[0;36m<module>\u001b[1;34m\u001b[0m\n\u001b[1;32m----> 1\u001b[1;33m \u001b[0mprint\u001b[0m\u001b[1;33m(\u001b[0m\u001b[1;34m'number of rows are:'\u001b[0m\u001b[1;33m,\u001b[0m \u001b[0mdf\u001b[0m\u001b[1;33m.\u001b[0m\u001b[0mshape\u001b[0m\u001b[1;33m[\u001b[0m\u001b[1;36m0\u001b[0m\u001b[1;33m]\u001b[0m\u001b[1;33m)\u001b[0m \u001b[1;31m#number of row\u001b[0m\u001b[1;33m\u001b[0m\u001b[1;33m\u001b[0m\u001b[0m\n\u001b[0m\u001b[0;32m      2\u001b[0m \u001b[0mprint\u001b[0m\u001b[1;33m(\u001b[0m\u001b[1;34m'number of columns are:'\u001b[0m\u001b[1;33m,\u001b[0m \u001b[0mdf\u001b[0m\u001b[1;33m.\u001b[0m\u001b[0mshape\u001b[0m\u001b[1;33m[\u001b[0m\u001b[1;36m1\u001b[0m\u001b[1;33m]\u001b[0m\u001b[1;33m)\u001b[0m \u001b[1;31m#number of columns\u001b[0m\u001b[1;33m\u001b[0m\u001b[1;33m\u001b[0m\u001b[0m\n",
      "\u001b[1;31mNameError\u001b[0m: name 'df' is not defined"
     ]
    }
   ],
   "source": [
    "print('number of rows are:', df.shape[0]) #number of row\n",
    "print('number of columns are:', df.shape[1]) #number of columns"
   ]
  },
  {
   "cell_type": "code",
   "execution_count": 14,
   "metadata": {
    "scrolled": false
   },
   "outputs": [
    {
     "ename": "NameError",
     "evalue": "name 'df' is not defined",
     "output_type": "error",
     "traceback": [
      "\u001b[1;31m---------------------------------------------------------------------------\u001b[0m",
      "\u001b[1;31mNameError\u001b[0m                                 Traceback (most recent call last)",
      "\u001b[1;32m<ipython-input-14-5a3c98cfca08>\u001b[0m in \u001b[0;36m<module>\u001b[1;34m\u001b[0m\n\u001b[1;32m----> 1\u001b[1;33m \u001b[0mdf\u001b[0m\u001b[1;33m.\u001b[0m\u001b[0minfo\u001b[0m\u001b[1;33m(\u001b[0m\u001b[1;33m)\u001b[0m \u001b[1;31m#dataframe information\u001b[0m\u001b[1;33m\u001b[0m\u001b[1;33m\u001b[0m\u001b[0m\n\u001b[0m",
      "\u001b[1;31mNameError\u001b[0m: name 'df' is not defined"
     ]
    }
   ],
   "source": [
    "df.info() #dataframe information"
   ]
  },
  {
   "cell_type": "code",
   "execution_count": null,
   "metadata": {},
   "outputs": [],
   "source": [
    "df.columns # list of columns"
   ]
  },
  {
   "cell_type": "code",
   "execution_count": null,
   "metadata": {},
   "outputs": [],
   "source": [
    "df=df.rename(columns={\n",
    "    'time_of_uplos':'upload_date',\n",
    "    'movie_lengths':'movie_length',\n",
    "    'titles':'title',\n",
    "    'movie_types':'movie_type',\n",
    "    'Genres':'genres',\n",
    "    'Release_Dates':'release_date',\n",
    "    'Starss':'stars',\n",
    "    'Languages':'language',\n",
    "    'Subtitles':'subtitle',\n",
    "    'movie_linkss':'movie_link',\n",
    "    'imdb_links':'imdb_link', \n",
    "    'mo_summarys':'movie_summary'\n",
    "    })"
   ]
  },
  {
   "cell_type": "code",
   "execution_count": null,
   "metadata": {},
   "outputs": [],
   "source": [
    "#df=df.drop(columns={'Unnamed: 0'})"
   ]
  },
  {
   "cell_type": "code",
   "execution_count": null,
   "metadata": {},
   "outputs": [],
   "source": [
    "df.head(3)"
   ]
  },
  {
   "cell_type": "code",
   "execution_count": null,
   "metadata": {},
   "outputs": [],
   "source": []
  },
  {
   "cell_type": "markdown",
   "metadata": {},
   "source": [
    "####    cleaning the movie_type columns"
   ]
  },
  {
   "cell_type": "code",
   "execution_count": null,
   "metadata": {},
   "outputs": [],
   "source": [
    "#cleaning the movie_type columns\n",
    "#removing [''] saurrounding the values\n",
    "df['movie_type']=df['movie_type'].str.replace('[', '')\n",
    "df['movie_type']=df['movie_type'].str.replace(']', '')\n",
    "df['movie_type']=df['movie_type'].str.replace('\\'', '')"
   ]
  },
  {
   "cell_type": "code",
   "execution_count": null,
   "metadata": {},
   "outputs": [],
   "source": [
    "# movie_type datatype\n",
    "df['movie_type'].dtypes"
   ]
  },
  {
   "cell_type": "code",
   "execution_count": null,
   "metadata": {},
   "outputs": [],
   "source": [
    "#movie_type unique value counts\n",
    "df['movie_type'].value_counts()"
   ]
  },
  {
   "cell_type": "code",
   "execution_count": null,
   "metadata": {},
   "outputs": [],
   "source": [
    "#check for empty or null values\n",
    "df['movie_type'].isnull().sum()"
   ]
  },
  {
   "cell_type": "code",
   "execution_count": null,
   "metadata": {},
   "outputs": [],
   "source": [
    "# renaming the column\n",
    "df=df.rename(columns={'movie_types':'Movie_Type'})"
   ]
  },
  {
   "cell_type": "markdown",
   "metadata": {
    "heading_collapsed": true
   },
   "source": [
    "#### cleaning the date of upload column"
   ]
  },
  {
   "cell_type": "code",
   "execution_count": null,
   "metadata": {
    "hidden": true
   },
   "outputs": [],
   "source": [
    "df['daynmonth']=df['upload_date'].str.split(',') #new columns from days\n",
    "df['daynmonth']=df['daynmonth'].apply(lambda x: x[0])\n",
    "df['year']=df['title'].str.extract('(\\d{4})') #new columns for year\n",
    "df['date_of_upload']=df['daynmonth']+' '+df['year']\n",
    "df['date_of_upload']=pd.to_datetime(df['date_of_upload'], errors='coerce') #covert to timeseries datatype\n",
    "df['date_of_upload'].isnull().sum() #sum of columns with invalid date\n",
    "df['date_of_upload'].dropna # remove columns with invalid date\n",
    "df=df.set_index('date_of_upload') #set date of uploaad as column\n",
    "df=df.drop(['Unnamed: 0', 'upload_date', 'daynmonth', 'year'], axis=1) # removing redundant columns"
   ]
  },
  {
   "cell_type": "markdown",
   "metadata": {
    "heading_collapsed": true
   },
   "source": [
    "#### cleaning the movie_length column"
   ]
  },
  {
   "cell_type": "code",
   "execution_count": null,
   "metadata": {
    "hidden": true
   },
   "outputs": [],
   "source": [
    "#removing [''] from the length of movie\n",
    "df['movie_length']=df['movie_length'].str.replace('[',' ')\n",
    "df['movie_length']=df['movie_length'].str.replace(']',' ')\n",
    "df['movie_length']=df['movie_length'].str.replace('\\'',' ')\n",
    "df['movie_length'].isnull().sum()#checking for missing value"
   ]
  },
  {
   "cell_type": "markdown",
   "metadata": {
    "heading_collapsed": true
   },
   "source": [
    "#### cleaning the num_of_comments column"
   ]
  },
  {
   "cell_type": "code",
   "execution_count": null,
   "metadata": {
    "hidden": true
   },
   "outputs": [],
   "source": [
    "#removing [''] from the length of movie\n",
    "#seems we are going to be removing [''] from most columns, here is a function\n",
    "def rmbracket(columns): # defining a function\n",
    "    columns=columns.str.replace('[',' ')\n",
    "    columns=columns.str.replace(']',' ')\n",
    "    columns=columns.str.replace('\\'',' ')\n",
    "    return columns\n",
    "\n",
    "df['num_of_comments']=rmbracket(df['num_of_comments'])#calling a function\n",
    "\n",
    "df['num_of_comments'].isnull().sum() #check for invalid values\n",
    "df['num_of_comments']=df['num_of_comments'].astype(int) #changes the data type from object to integer type"
   ]
  },
  {
   "cell_type": "markdown",
   "metadata": {
    "heading_collapsed": true
   },
   "source": [
    "#### cleaning the genres column"
   ]
  },
  {
   "cell_type": "code",
   "execution_count": null,
   "metadata": {
    "hidden": true
   },
   "outputs": [],
   "source": [
    "#removing [''] from the length of genres\n",
    "\n",
    "df['genres']=rmbracket(df['genres'])#calling a function"
   ]
  },
  {
   "cell_type": "markdown",
   "metadata": {
    "heading_collapsed": true
   },
   "source": [
    "#### cleaning the release_date column"
   ]
  },
  {
   "cell_type": "code",
   "execution_count": null,
   "metadata": {
    "hidden": true
   },
   "outputs": [],
   "source": [
    "df['release_date']=df['release_date'].str.replace('Release Date:', ' ') #removes the comma"
   ]
  },
  {
   "cell_type": "code",
   "execution_count": null,
   "metadata": {
    "hidden": true
   },
   "outputs": [],
   "source": [
    "df['release_date']=pd.to_datetime(df['release_date'], errors='coerce') #covert to time series data type"
   ]
  },
  {
   "cell_type": "code",
   "execution_count": null,
   "metadata": {
    "hidden": true
   },
   "outputs": [],
   "source": [
    "df['release_date'].isnull().sum() #check for numbers of null values\n",
    "df=df.dropna() #removes null vlaues"
   ]
  },
  {
   "cell_type": "markdown",
   "metadata": {
    "heading_collapsed": true
   },
   "source": [
    "#### cleaning the stars column"
   ]
  },
  {
   "cell_type": "code",
   "execution_count": null,
   "metadata": {
    "hidden": true
   },
   "outputs": [],
   "source": [
    "#removing [''] from the length of stars\n",
    "\n",
    "df['stars']=rmbracket(df['stars'])#calling a function"
   ]
  },
  {
   "cell_type": "markdown",
   "metadata": {
    "heading_collapsed": true
   },
   "source": [
    "#### cleaning the language​ column"
   ]
  },
  {
   "cell_type": "code",
   "execution_count": null,
   "metadata": {
    "hidden": true
   },
   "outputs": [],
   "source": [
    "#removing [''] from the length of stars\n",
    "\n",
    "df['language']=rmbracket(df['language'])#calling a function\n",
    "df['language']=df['language'].str.replace('\\\\xa0', ' ')"
   ]
  },
  {
   "cell_type": "markdown",
   "metadata": {
    "heading_collapsed": true
   },
   "source": [
    "#### cleaning the subtitle column"
   ]
  },
  {
   "cell_type": "code",
   "execution_count": null,
   "metadata": {
    "hidden": true
   },
   "outputs": [],
   "source": [
    "#removing [''] from the length of stars\n",
    "\n",
    "df['subtitle']=rmbracket(df['subtitle'])#calling a function"
   ]
  },
  {
   "cell_type": "markdown",
   "metadata": {},
   "source": [
    "#### cleaning summary"
   ]
  },
  {
   "cell_type": "code",
   "execution_count": null,
   "metadata": {},
   "outputs": [],
   "source": [
    "#saving the new dataframe\n",
    "df.to_csv(\"./Data/cleaned_netnaija_movie.csv\")\n",
    "df.to_excel('./Data/cleaned_netnaija_movie.xlsx')"
   ]
  },
  {
   "cell_type": "code",
   "execution_count": null,
   "metadata": {},
   "outputs": [],
   "source": [
    "df.head(5)"
   ]
  },
  {
   "cell_type": "code",
   "execution_count": null,
   "metadata": {},
   "outputs": [],
   "source": [
    "#number of roows and columns after cleaning\n",
    "\n",
    "print('number of rows are:', df.shape[0]) #number of row\n",
    "print('number of columns are:', df.shape[1]) #number of columns"
   ]
  },
  {
   "cell_type": "code",
   "execution_count": null,
   "metadata": {},
   "outputs": [],
   "source": [
    "df.info()"
   ]
  },
  {
   "cell_type": "code",
   "execution_count": null,
   "metadata": {},
   "outputs": [],
   "source": [
    "#TOP 10 MOVIE LANGUAGE\n",
    "lang=df['language'].value_counts().nlargest(10)\n",
    "lang"
   ]
  },
  {
   "cell_type": "code",
   "execution_count": null,
   "metadata": {},
   "outputs": [],
   "source": [
    "%matplotlib inline\n",
    "\n",
    "#values\n",
    "counts = lang\n",
    "language = lang.index\n",
    "\n",
    "#styling\n",
    "plt.style.use('fivethirtyeight')\n",
    "\n",
    "fig=plt.figure(figsize=(18,10))\n",
    "#labeling\n",
    "plt.xlabel('language', fontsize=20)\n",
    "plt.ylabel('counts',fontsize=20)\n",
    "plt.title('language counts',fontsize=38)\n",
    "plt.xticks(rotation=90)\n",
    "\n",
    "#to change the color of the highest and smallest\n",
    "color=['maroon' if (bar==min(counts) or bar==max(counts)) else 'grey' for bar in counts]\n",
    "\n",
    "#ploting\n",
    "plt.barh(language,counts, color=color)\n",
    "\n",
    "#to save file\n",
    "#plt.savefig('plot.png')\n",
    "\n",
    "#show graph\n",
    "plt.show()\n",
    "\n",
    "\n"
   ]
  },
  {
   "cell_type": "code",
   "execution_count": null,
   "metadata": {},
   "outputs": [],
   "source": [
    "\n",
    "English=(1900/2567)*100\n",
    "Unknown_lang=(86/2567)*100\n",
    "Others=(100-English)\n",
    "print(English)\n",
    "print(Unknown_lang)\n",
    "print(Others)"
   ]
  },
  {
   "cell_type": "code",
   "execution_count": null,
   "metadata": {},
   "outputs": [],
   "source": [
    "%matplotlib inline\n",
    "\n",
    "fig = plt.figure(figsize=(7,7))\n",
    "#values\n",
    "values= [English,Unknown_lang, Others]\n",
    "\n",
    "#styling\n",
    "plt.style.use('fivethirtyeight')\n",
    "\n",
    "#labeling\n",
    "color=['#003f5c', '#ffa600', '#bc5090']\n",
    "label = ['English', 'Unknown_lang', 'Others']\n",
    "explode= [0,0.05,0]\n",
    "plt.title('language in percentage')\n",
    "\n",
    "\n",
    "#plotting\n",
    "plt.pie(values, labels=label, colors=color, explode=explode)\n",
    "\n",
    "\n",
    "print('English: ', English)\n",
    "print(\"Unknown_lang: \", Unknown_lang)\n",
    "print('Others :', Others)\n",
    "#to save file\n",
    "#plt.savefig('plot.png')\n",
    "\n",
    "#show graph\n",
    "plt.show()"
   ]
  },
  {
   "cell_type": "markdown",
   "metadata": {},
   "source": [
    "---"
   ]
  },
  {
   "cell_type": "markdown",
   "metadata": {},
   "source": [
    "\n"
   ]
  },
  {
   "cell_type": "code",
   "execution_count": null,
   "metadata": {},
   "outputs": [],
   "source": []
  }
 ],
 "metadata": {
  "kernelspec": {
   "display_name": "Python 3",
   "language": "python",
   "name": "python3"
  },
  "language_info": {
   "codemirror_mode": {
    "name": "ipython",
    "version": 3
   },
   "file_extension": ".py",
   "mimetype": "text/x-python",
   "name": "python",
   "nbconvert_exporter": "python",
   "pygments_lexer": "ipython3",
   "version": "3.7.6"
  }
 },
 "nbformat": 4,
 "nbformat_minor": 4
}
