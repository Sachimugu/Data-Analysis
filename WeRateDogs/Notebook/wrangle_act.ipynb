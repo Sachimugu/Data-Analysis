{
 "cells": [
  {
   "cell_type": "markdown",
   "id": "1f7a70d2",
   "metadata": {},
   "source": [
    "# WeRateDogs Twitter Data Wrangling"
   ]
  },
  {
   "cell_type": "markdown",
   "id": "10c1c19c",
   "metadata": {},
   "source": [
    "\n",
    "#### Introduction\n",
    "\n",
    "Real-world data rarely comes clean. Using Python and its libraries, you will gather data from a variety of sources and in a variety of formats, assess its quality and tidiness, then clean it. This is called data wrangling. You will document your wrangling efforts in a Jupyter Notebook, plus showcase them through analyses and visualizations using Python (and its libraries) and/or SQL.\n",
    "\n",
    "The dataset that you will be wrangling (and analyzing and visualizing) is the tweet archive of Twitter user @dog_rates, also known as WeRateDogs. WeRateDogs is a Twitter account that rates people's dogs with a humorous comment about the dog. These ratings almost always have a denominator of 10. The numerators, though? Almost always greater than 10. 11/10, 12/10, 13/10, etc. Why? Because \"they're good dogs Brent.\" WeRateDogs has over 4 million followers and has received international media coverage.\n",
    "\n",
    "WeRateDogs downloaded their Twitter archive and sent it to Udacity via email exclusively for you to use in this project. This archive contains basic tweet data (tweet ID, timestamp, text, etc.) for all 5000+ of their tweets as they stood on August 1, 2017. More on this soon.\n",
    "\n",
    "The goal of this project is to wrangle data from WeRateDogs Twitter's account using Python and document the whole process in a Jupyter Notebook named wrangle_act.ipynb i.e. this notebook. My aim is to wrangle this data for interesting and trustworthy analyses using visualizations\n",
    "> Perform data wrangling (gathering, assessing and cleaning) on provided thee sources of data.\n",
    "> Store, analyze, and visualize the wrangled data.\n",
    "> Reporting on 1) data wrangling efforts and 2) data analyses and visualizations (in separate documents).\n"
   ]
  },
  {
   "cell_type": "markdown",
   "id": "1fccd50a",
   "metadata": {},
   "source": [
    "### Table of Contents\n",
    "- Project Objectives\n",
    "- Step 1: Gathering Data\n",
    "- Step 2: Assessing Data\n",
    "-  Step 3: Cleaning Data\n",
    "-  Analysis and Visualization\n",
    "\n"
   ]
  },
  {
   "cell_type": "markdown",
   "id": "6455c3bb",
   "metadata": {},
   "source": [
    "## Gathering Data"
   ]
  },
  {
   "cell_type": "code",
   "execution_count": 1,
   "id": "b5d3dbbe",
   "metadata": {},
   "outputs": [],
   "source": [
    "#import library\n",
    "import pandas as pd\n",
    "import numpy as np\n",
    "import requests\n",
    "import json\n",
    "import matplotlib.pyplot as plt"
   ]
  },
  {
   "cell_type": "markdown",
   "id": "9e24ddf6",
   "metadata": {},
   "source": [
    "### Twitter Archive Data"
   ]
  },
  {
   "cell_type": "code",
   "execution_count": 2,
   "id": "f8b8fa6c",
   "metadata": {},
   "outputs": [],
   "source": [
    "#reads in twitter archives\n",
    "weRateDogs_Archives = pd.read_csv('twitter-archive-enhanced.csv')"
   ]
  },
  {
   "cell_type": "code",
   "execution_count": 3,
   "id": "0ed7c5df",
   "metadata": {},
   "outputs": [
    {
     "data": {
      "text/html": [
       "<div>\n",
       "<style scoped>\n",
       "    .dataframe tbody tr th:only-of-type {\n",
       "        vertical-align: middle;\n",
       "    }\n",
       "\n",
       "    .dataframe tbody tr th {\n",
       "        vertical-align: top;\n",
       "    }\n",
       "\n",
       "    .dataframe thead th {\n",
       "        text-align: right;\n",
       "    }\n",
       "</style>\n",
       "<table border=\"1\" class=\"dataframe\">\n",
       "  <thead>\n",
       "    <tr style=\"text-align: right;\">\n",
       "      <th></th>\n",
       "      <th>tweet_id</th>\n",
       "      <th>in_reply_to_status_id</th>\n",
       "      <th>in_reply_to_user_id</th>\n",
       "      <th>timestamp</th>\n",
       "      <th>source</th>\n",
       "      <th>text</th>\n",
       "      <th>retweeted_status_id</th>\n",
       "      <th>retweeted_status_user_id</th>\n",
       "      <th>retweeted_status_timestamp</th>\n",
       "      <th>expanded_urls</th>\n",
       "      <th>rating_numerator</th>\n",
       "      <th>rating_denominator</th>\n",
       "      <th>name</th>\n",
       "      <th>doggo</th>\n",
       "      <th>floofer</th>\n",
       "      <th>pupper</th>\n",
       "      <th>puppo</th>\n",
       "    </tr>\n",
       "  </thead>\n",
       "  <tbody>\n",
       "    <tr>\n",
       "      <th>0</th>\n",
       "      <td>892420643555336193</td>\n",
       "      <td>NaN</td>\n",
       "      <td>NaN</td>\n",
       "      <td>2017-08-01 16:23:56 +0000</td>\n",
       "      <td>&lt;a href=\"http://twitter.com/download/iphone\" r...</td>\n",
       "      <td>This is Phineas. He's a mystical boy. Only eve...</td>\n",
       "      <td>NaN</td>\n",
       "      <td>NaN</td>\n",
       "      <td>NaN</td>\n",
       "      <td>https://twitter.com/dog_rates/status/892420643...</td>\n",
       "      <td>13</td>\n",
       "      <td>10</td>\n",
       "      <td>Phineas</td>\n",
       "      <td>None</td>\n",
       "      <td>None</td>\n",
       "      <td>None</td>\n",
       "      <td>None</td>\n",
       "    </tr>\n",
       "    <tr>\n",
       "      <th>1</th>\n",
       "      <td>892177421306343426</td>\n",
       "      <td>NaN</td>\n",
       "      <td>NaN</td>\n",
       "      <td>2017-08-01 00:17:27 +0000</td>\n",
       "      <td>&lt;a href=\"http://twitter.com/download/iphone\" r...</td>\n",
       "      <td>This is Tilly. She's just checking pup on you....</td>\n",
       "      <td>NaN</td>\n",
       "      <td>NaN</td>\n",
       "      <td>NaN</td>\n",
       "      <td>https://twitter.com/dog_rates/status/892177421...</td>\n",
       "      <td>13</td>\n",
       "      <td>10</td>\n",
       "      <td>Tilly</td>\n",
       "      <td>None</td>\n",
       "      <td>None</td>\n",
       "      <td>None</td>\n",
       "      <td>None</td>\n",
       "    </tr>\n",
       "    <tr>\n",
       "      <th>2</th>\n",
       "      <td>891815181378084864</td>\n",
       "      <td>NaN</td>\n",
       "      <td>NaN</td>\n",
       "      <td>2017-07-31 00:18:03 +0000</td>\n",
       "      <td>&lt;a href=\"http://twitter.com/download/iphone\" r...</td>\n",
       "      <td>This is Archie. He is a rare Norwegian Pouncin...</td>\n",
       "      <td>NaN</td>\n",
       "      <td>NaN</td>\n",
       "      <td>NaN</td>\n",
       "      <td>https://twitter.com/dog_rates/status/891815181...</td>\n",
       "      <td>12</td>\n",
       "      <td>10</td>\n",
       "      <td>Archie</td>\n",
       "      <td>None</td>\n",
       "      <td>None</td>\n",
       "      <td>None</td>\n",
       "      <td>None</td>\n",
       "    </tr>\n",
       "  </tbody>\n",
       "</table>\n",
       "</div>"
      ],
      "text/plain": [
       "             tweet_id  in_reply_to_status_id  in_reply_to_user_id  \\\n",
       "0  892420643555336193                    NaN                  NaN   \n",
       "1  892177421306343426                    NaN                  NaN   \n",
       "2  891815181378084864                    NaN                  NaN   \n",
       "\n",
       "                   timestamp  \\\n",
       "0  2017-08-01 16:23:56 +0000   \n",
       "1  2017-08-01 00:17:27 +0000   \n",
       "2  2017-07-31 00:18:03 +0000   \n",
       "\n",
       "                                              source  \\\n",
       "0  <a href=\"http://twitter.com/download/iphone\" r...   \n",
       "1  <a href=\"http://twitter.com/download/iphone\" r...   \n",
       "2  <a href=\"http://twitter.com/download/iphone\" r...   \n",
       "\n",
       "                                                text  retweeted_status_id  \\\n",
       "0  This is Phineas. He's a mystical boy. Only eve...                  NaN   \n",
       "1  This is Tilly. She's just checking pup on you....                  NaN   \n",
       "2  This is Archie. He is a rare Norwegian Pouncin...                  NaN   \n",
       "\n",
       "   retweeted_status_user_id retweeted_status_timestamp  \\\n",
       "0                       NaN                        NaN   \n",
       "1                       NaN                        NaN   \n",
       "2                       NaN                        NaN   \n",
       "\n",
       "                                       expanded_urls  rating_numerator  \\\n",
       "0  https://twitter.com/dog_rates/status/892420643...                13   \n",
       "1  https://twitter.com/dog_rates/status/892177421...                13   \n",
       "2  https://twitter.com/dog_rates/status/891815181...                12   \n",
       "\n",
       "   rating_denominator     name doggo floofer pupper puppo  \n",
       "0                  10  Phineas  None    None   None  None  \n",
       "1                  10    Tilly  None    None   None  None  \n",
       "2                  10   Archie  None    None   None  None  "
      ]
     },
     "execution_count": 3,
     "metadata": {},
     "output_type": "execute_result"
    }
   ],
   "source": [
    "weRateDogs_Archives.head(3)"
   ]
  },
  {
   "cell_type": "markdown",
   "id": "51b51f2e",
   "metadata": {},
   "source": [
    "### Image Predictions Data"
   ]
  },
  {
   "cell_type": "code",
   "execution_count": 4,
   "id": "d41d8740",
   "metadata": {},
   "outputs": [],
   "source": [
    "#import library\n",
    "from pathlib import Path as path #for working with path\n",
    "import requests #for downloading "
   ]
  },
  {
   "cell_type": "code",
   "execution_count": 5,
   "id": "e4ee6cec",
   "metadata": {},
   "outputs": [],
   "source": [
    "\n",
    "#link and filename\n",
    "link = 'https://d17h27t6h515a5.cloudfront.net/topher/2017/August/599fd2ad_image-predictions/image-predictions.tsv'\n",
    "fileName = 'image-predictions.tsv'"
   ]
  },
  {
   "cell_type": "code",
   "execution_count": 6,
   "id": "656418d3",
   "metadata": {},
   "outputs": [
    {
     "data": {
      "text/plain": [
       "335079"
      ]
     },
     "execution_count": 6,
     "metadata": {},
     "output_type": "execute_result"
    }
   ],
   "source": [
    "p=path.cwd() / fileName # path\n",
    "response=requests.get(link) # download image prediction with requests\n",
    "p.write_bytes(response.content)# save data to path"
   ]
  },
  {
   "cell_type": "code",
   "execution_count": 7,
   "id": "9954f3e8",
   "metadata": {},
   "outputs": [],
   "source": [
    "# Load the 'image-predictions.tsv' file into a dataframe\n",
    "imagePredictions = pd.read_csv('image-predictions.tsv', sep='\\t')"
   ]
  },
  {
   "cell_type": "code",
   "execution_count": 8,
   "id": "8fc822c3",
   "metadata": {},
   "outputs": [
    {
     "data": {
      "text/html": [
       "<div>\n",
       "<style scoped>\n",
       "    .dataframe tbody tr th:only-of-type {\n",
       "        vertical-align: middle;\n",
       "    }\n",
       "\n",
       "    .dataframe tbody tr th {\n",
       "        vertical-align: top;\n",
       "    }\n",
       "\n",
       "    .dataframe thead th {\n",
       "        text-align: right;\n",
       "    }\n",
       "</style>\n",
       "<table border=\"1\" class=\"dataframe\">\n",
       "  <thead>\n",
       "    <tr style=\"text-align: right;\">\n",
       "      <th></th>\n",
       "      <th>tweet_id</th>\n",
       "      <th>jpg_url</th>\n",
       "      <th>img_num</th>\n",
       "      <th>p1</th>\n",
       "      <th>p1_conf</th>\n",
       "      <th>p1_dog</th>\n",
       "      <th>p2</th>\n",
       "      <th>p2_conf</th>\n",
       "      <th>p2_dog</th>\n",
       "      <th>p3</th>\n",
       "      <th>p3_conf</th>\n",
       "      <th>p3_dog</th>\n",
       "    </tr>\n",
       "  </thead>\n",
       "  <tbody>\n",
       "    <tr>\n",
       "      <th>0</th>\n",
       "      <td>666020888022790149</td>\n",
       "      <td>https://pbs.twimg.com/media/CT4udn0WwAA0aMy.jpg</td>\n",
       "      <td>1</td>\n",
       "      <td>Welsh_springer_spaniel</td>\n",
       "      <td>0.465074</td>\n",
       "      <td>True</td>\n",
       "      <td>collie</td>\n",
       "      <td>0.156665</td>\n",
       "      <td>True</td>\n",
       "      <td>Shetland_sheepdog</td>\n",
       "      <td>0.061428</td>\n",
       "      <td>True</td>\n",
       "    </tr>\n",
       "    <tr>\n",
       "      <th>1</th>\n",
       "      <td>666029285002620928</td>\n",
       "      <td>https://pbs.twimg.com/media/CT42GRgUYAA5iDo.jpg</td>\n",
       "      <td>1</td>\n",
       "      <td>redbone</td>\n",
       "      <td>0.506826</td>\n",
       "      <td>True</td>\n",
       "      <td>miniature_pinscher</td>\n",
       "      <td>0.074192</td>\n",
       "      <td>True</td>\n",
       "      <td>Rhodesian_ridgeback</td>\n",
       "      <td>0.072010</td>\n",
       "      <td>True</td>\n",
       "    </tr>\n",
       "    <tr>\n",
       "      <th>2</th>\n",
       "      <td>666033412701032449</td>\n",
       "      <td>https://pbs.twimg.com/media/CT4521TWwAEvMyu.jpg</td>\n",
       "      <td>1</td>\n",
       "      <td>German_shepherd</td>\n",
       "      <td>0.596461</td>\n",
       "      <td>True</td>\n",
       "      <td>malinois</td>\n",
       "      <td>0.138584</td>\n",
       "      <td>True</td>\n",
       "      <td>bloodhound</td>\n",
       "      <td>0.116197</td>\n",
       "      <td>True</td>\n",
       "    </tr>\n",
       "  </tbody>\n",
       "</table>\n",
       "</div>"
      ],
      "text/plain": [
       "             tweet_id                                          jpg_url  \\\n",
       "0  666020888022790149  https://pbs.twimg.com/media/CT4udn0WwAA0aMy.jpg   \n",
       "1  666029285002620928  https://pbs.twimg.com/media/CT42GRgUYAA5iDo.jpg   \n",
       "2  666033412701032449  https://pbs.twimg.com/media/CT4521TWwAEvMyu.jpg   \n",
       "\n",
       "   img_num                      p1   p1_conf  p1_dog                  p2  \\\n",
       "0        1  Welsh_springer_spaniel  0.465074    True              collie   \n",
       "1        1                 redbone  0.506826    True  miniature_pinscher   \n",
       "2        1         German_shepherd  0.596461    True            malinois   \n",
       "\n",
       "    p2_conf  p2_dog                   p3   p3_conf  p3_dog  \n",
       "0  0.156665    True    Shetland_sheepdog  0.061428    True  \n",
       "1  0.074192    True  Rhodesian_ridgeback  0.072010    True  \n",
       "2  0.138584    True           bloodhound  0.116197    True  "
      ]
     },
     "execution_count": 8,
     "metadata": {},
     "output_type": "execute_result"
    }
   ],
   "source": [
    "#head\n",
    "imagePredictions.head(3)"
   ]
  },
  {
   "cell_type": "markdown",
   "id": "5e5b9313",
   "metadata": {},
   "source": [
    "### API Tweets Data"
   ]
  },
  {
   "cell_type": "code",
   "execution_count": 9,
   "id": "b42a149f",
   "metadata": {},
   "outputs": [],
   "source": [
    "p = path.cwd() / 'tweet-json.txt' # create path p\n",
    "data = [json.loads(line) for line in open(p)] # load in each json data in tweet-json.txt"
   ]
  },
  {
   "cell_type": "code",
   "execution_count": 10,
   "id": "74490d8a",
   "metadata": {},
   "outputs": [],
   "source": [
    "# initialse empty lists\n",
    "date=[]\n",
    "tweet_id = []\n",
    "retweet_count= []\n",
    "favorite_count= []\n",
    "followers_count= []\n",
    "verified= []"
   ]
  },
  {
   "cell_type": "code",
   "execution_count": 11,
   "id": "08ebfa42",
   "metadata": {},
   "outputs": [],
   "source": [
    "# loop through data and get created_at id retweet_count favorite_count followers_count verified and append to the above empty list\n",
    "for x in data:\n",
    "    date.append(x['created_at'])\n",
    "    tweet_id.append(x['id'])\n",
    "    retweet_count.append(x['retweet_count'])\n",
    "    favorite_count.append(x['favorite_count'])\n",
    "    followers_count.append(x['user']['followers_count']),\n",
    "    verified.append(x['user']['verified'])"
   ]
  },
  {
   "cell_type": "code",
   "execution_count": 12,
   "id": "f2f22ab9",
   "metadata": {},
   "outputs": [],
   "source": [
    "# createa dataframe\n",
    "apiTweets=pd.DataFrame({\n",
    "'date':date,\n",
    "'tweet_id':tweet_id,\n",
    "'retweet_count':retweet_count,\n",
    "'favorite_count':favorite_count,\n",
    "'followers_count':followers_count,\n",
    "'verified':verified})"
   ]
  },
  {
   "cell_type": "markdown",
   "id": "10c929ee",
   "metadata": {},
   "source": [
    "## Assessing Data"
   ]
  },
  {
   "cell_type": "code",
   "execution_count": 13,
   "id": "c744e7e0",
   "metadata": {},
   "outputs": [
    {
     "data": {
      "text/html": [
       "<div>\n",
       "<style scoped>\n",
       "    .dataframe tbody tr th:only-of-type {\n",
       "        vertical-align: middle;\n",
       "    }\n",
       "\n",
       "    .dataframe tbody tr th {\n",
       "        vertical-align: top;\n",
       "    }\n",
       "\n",
       "    .dataframe thead th {\n",
       "        text-align: right;\n",
       "    }\n",
       "</style>\n",
       "<table border=\"1\" class=\"dataframe\">\n",
       "  <thead>\n",
       "    <tr style=\"text-align: right;\">\n",
       "      <th></th>\n",
       "      <th>tweet_id</th>\n",
       "      <th>in_reply_to_status_id</th>\n",
       "      <th>in_reply_to_user_id</th>\n",
       "      <th>timestamp</th>\n",
       "      <th>source</th>\n",
       "      <th>text</th>\n",
       "      <th>retweeted_status_id</th>\n",
       "      <th>retweeted_status_user_id</th>\n",
       "      <th>retweeted_status_timestamp</th>\n",
       "      <th>expanded_urls</th>\n",
       "      <th>rating_numerator</th>\n",
       "      <th>rating_denominator</th>\n",
       "      <th>name</th>\n",
       "      <th>doggo</th>\n",
       "      <th>floofer</th>\n",
       "      <th>pupper</th>\n",
       "      <th>puppo</th>\n",
       "    </tr>\n",
       "  </thead>\n",
       "  <tbody>\n",
       "    <tr>\n",
       "      <th>577</th>\n",
       "      <td>800855607700029440</td>\n",
       "      <td>NaN</td>\n",
       "      <td>NaN</td>\n",
       "      <td>2016-11-22 00:17:10 +0000</td>\n",
       "      <td>&lt;a href=\"http://twitter.com/download/iphone\" r...</td>\n",
       "      <td>RT @Lin_Manuel: 11/10 would recommend. https:/...</td>\n",
       "      <td>8.008540e+17</td>\n",
       "      <td>79923701.0</td>\n",
       "      <td>2016-11-22 00:10:52 +0000</td>\n",
       "      <td>https://twitter.com/littlewiewel/status/800852...</td>\n",
       "      <td>11</td>\n",
       "      <td>10</td>\n",
       "      <td>None</td>\n",
       "      <td>None</td>\n",
       "      <td>None</td>\n",
       "      <td>None</td>\n",
       "      <td>None</td>\n",
       "    </tr>\n",
       "    <tr>\n",
       "      <th>517</th>\n",
       "      <td>810896069567610880</td>\n",
       "      <td>NaN</td>\n",
       "      <td>NaN</td>\n",
       "      <td>2016-12-19 17:14:23 +0000</td>\n",
       "      <td>&lt;a href=\"http://twitter.com/download/iphone\" r...</td>\n",
       "      <td>This is Hunter. He just found out he needs bra...</td>\n",
       "      <td>NaN</td>\n",
       "      <td>NaN</td>\n",
       "      <td>NaN</td>\n",
       "      <td>https://twitter.com/dog_rates/status/810896069...</td>\n",
       "      <td>11</td>\n",
       "      <td>10</td>\n",
       "      <td>Hunter</td>\n",
       "      <td>None</td>\n",
       "      <td>None</td>\n",
       "      <td>None</td>\n",
       "      <td>None</td>\n",
       "    </tr>\n",
       "    <tr>\n",
       "      <th>2280</th>\n",
       "      <td>667393430834667520</td>\n",
       "      <td>NaN</td>\n",
       "      <td>NaN</td>\n",
       "      <td>2015-11-19 17:26:08 +0000</td>\n",
       "      <td>&lt;a href=\"http://twitter.com/download/iphone\" r...</td>\n",
       "      <td>This is Fwed. He is a Canadian Asian Taylormad...</td>\n",
       "      <td>NaN</td>\n",
       "      <td>NaN</td>\n",
       "      <td>NaN</td>\n",
       "      <td>https://twitter.com/dog_rates/status/667393430...</td>\n",
       "      <td>8</td>\n",
       "      <td>10</td>\n",
       "      <td>Fwed</td>\n",
       "      <td>None</td>\n",
       "      <td>None</td>\n",
       "      <td>None</td>\n",
       "      <td>None</td>\n",
       "    </tr>\n",
       "    <tr>\n",
       "      <th>916</th>\n",
       "      <td>756998049151549440</td>\n",
       "      <td>NaN</td>\n",
       "      <td>NaN</td>\n",
       "      <td>2016-07-23 23:42:53 +0000</td>\n",
       "      <td>&lt;a href=\"http://twitter.com/download/iphone\" r...</td>\n",
       "      <td>This is Oliver. He's an English Creamschnitzel...</td>\n",
       "      <td>NaN</td>\n",
       "      <td>NaN</td>\n",
       "      <td>NaN</td>\n",
       "      <td>https://twitter.com/dog_rates/status/756998049...</td>\n",
       "      <td>11</td>\n",
       "      <td>10</td>\n",
       "      <td>Oliver</td>\n",
       "      <td>None</td>\n",
       "      <td>None</td>\n",
       "      <td>None</td>\n",
       "      <td>None</td>\n",
       "    </tr>\n",
       "    <tr>\n",
       "      <th>912</th>\n",
       "      <td>757596066325864448</td>\n",
       "      <td>NaN</td>\n",
       "      <td>NaN</td>\n",
       "      <td>2016-07-25 15:19:12 +0000</td>\n",
       "      <td>&lt;a href=\"http://twitter.com/download/iphone\" r...</td>\n",
       "      <td>Here's another picture without a dog in it. Id...</td>\n",
       "      <td>NaN</td>\n",
       "      <td>NaN</td>\n",
       "      <td>NaN</td>\n",
       "      <td>https://twitter.com/dog_rates/status/757596066...</td>\n",
       "      <td>4</td>\n",
       "      <td>10</td>\n",
       "      <td>None</td>\n",
       "      <td>None</td>\n",
       "      <td>None</td>\n",
       "      <td>None</td>\n",
       "      <td>None</td>\n",
       "    </tr>\n",
       "  </tbody>\n",
       "</table>\n",
       "</div>"
      ],
      "text/plain": [
       "                tweet_id  in_reply_to_status_id  in_reply_to_user_id  \\\n",
       "577   800855607700029440                    NaN                  NaN   \n",
       "517   810896069567610880                    NaN                  NaN   \n",
       "2280  667393430834667520                    NaN                  NaN   \n",
       "916   756998049151549440                    NaN                  NaN   \n",
       "912   757596066325864448                    NaN                  NaN   \n",
       "\n",
       "                      timestamp  \\\n",
       "577   2016-11-22 00:17:10 +0000   \n",
       "517   2016-12-19 17:14:23 +0000   \n",
       "2280  2015-11-19 17:26:08 +0000   \n",
       "916   2016-07-23 23:42:53 +0000   \n",
       "912   2016-07-25 15:19:12 +0000   \n",
       "\n",
       "                                                 source  \\\n",
       "577   <a href=\"http://twitter.com/download/iphone\" r...   \n",
       "517   <a href=\"http://twitter.com/download/iphone\" r...   \n",
       "2280  <a href=\"http://twitter.com/download/iphone\" r...   \n",
       "916   <a href=\"http://twitter.com/download/iphone\" r...   \n",
       "912   <a href=\"http://twitter.com/download/iphone\" r...   \n",
       "\n",
       "                                                   text  retweeted_status_id  \\\n",
       "577   RT @Lin_Manuel: 11/10 would recommend. https:/...         8.008540e+17   \n",
       "517   This is Hunter. He just found out he needs bra...                  NaN   \n",
       "2280  This is Fwed. He is a Canadian Asian Taylormad...                  NaN   \n",
       "916   This is Oliver. He's an English Creamschnitzel...                  NaN   \n",
       "912   Here's another picture without a dog in it. Id...                  NaN   \n",
       "\n",
       "      retweeted_status_user_id retweeted_status_timestamp  \\\n",
       "577                 79923701.0  2016-11-22 00:10:52 +0000   \n",
       "517                        NaN                        NaN   \n",
       "2280                       NaN                        NaN   \n",
       "916                        NaN                        NaN   \n",
       "912                        NaN                        NaN   \n",
       "\n",
       "                                          expanded_urls  rating_numerator  \\\n",
       "577   https://twitter.com/littlewiewel/status/800852...                11   \n",
       "517   https://twitter.com/dog_rates/status/810896069...                11   \n",
       "2280  https://twitter.com/dog_rates/status/667393430...                 8   \n",
       "916   https://twitter.com/dog_rates/status/756998049...                11   \n",
       "912   https://twitter.com/dog_rates/status/757596066...                 4   \n",
       "\n",
       "      rating_denominator    name doggo floofer pupper puppo  \n",
       "577                   10    None  None    None   None  None  \n",
       "517                   10  Hunter  None    None   None  None  \n",
       "2280                  10    Fwed  None    None   None  None  \n",
       "916                   10  Oliver  None    None   None  None  \n",
       "912                   10    None  None    None   None  None  "
      ]
     },
     "execution_count": 13,
     "metadata": {},
     "output_type": "execute_result"
    }
   ],
   "source": [
    "# show five random smaple\n",
    "weRateDogs_Archives.sample(5)"
   ]
  },
  {
   "cell_type": "code",
   "execution_count": 14,
   "id": "d0874bbe",
   "metadata": {},
   "outputs": [
    {
     "name": "stdout",
     "output_type": "stream",
     "text": [
      "<class 'pandas.core.frame.DataFrame'>\n",
      "RangeIndex: 2356 entries, 0 to 2355\n",
      "Data columns (total 17 columns):\n",
      " #   Column                      Non-Null Count  Dtype  \n",
      "---  ------                      --------------  -----  \n",
      " 0   tweet_id                    2356 non-null   int64  \n",
      " 1   in_reply_to_status_id       78 non-null     float64\n",
      " 2   in_reply_to_user_id         78 non-null     float64\n",
      " 3   timestamp                   2356 non-null   object \n",
      " 4   source                      2356 non-null   object \n",
      " 5   text                        2356 non-null   object \n",
      " 6   retweeted_status_id         181 non-null    float64\n",
      " 7   retweeted_status_user_id    181 non-null    float64\n",
      " 8   retweeted_status_timestamp  181 non-null    object \n",
      " 9   expanded_urls               2297 non-null   object \n",
      " 10  rating_numerator            2356 non-null   int64  \n",
      " 11  rating_denominator          2356 non-null   int64  \n",
      " 12  name                        2356 non-null   object \n",
      " 13  doggo                       2356 non-null   object \n",
      " 14  floofer                     2356 non-null   object \n",
      " 15  pupper                      2356 non-null   object \n",
      " 16  puppo                       2356 non-null   object \n",
      "dtypes: float64(4), int64(3), object(10)\n",
      "memory usage: 313.0+ KB\n"
     ]
    }
   ],
   "source": [
    "#info\n",
    "weRateDogs_Archives.info()"
   ]
  },
  {
   "cell_type": "code",
   "execution_count": 15,
   "id": "c9c29e5e",
   "metadata": {
    "scrolled": true
   },
   "outputs": [
    {
     "data": {
      "text/plain": [
       "tweet_id                         0\n",
       "in_reply_to_status_id         2278\n",
       "in_reply_to_user_id           2278\n",
       "timestamp                        0\n",
       "source                           0\n",
       "text                             0\n",
       "retweeted_status_id           2175\n",
       "retweeted_status_user_id      2175\n",
       "retweeted_status_timestamp    2175\n",
       "expanded_urls                   59\n",
       "rating_numerator                 0\n",
       "rating_denominator               0\n",
       "name                             0\n",
       "doggo                            0\n",
       "floofer                          0\n",
       "pupper                           0\n",
       "puppo                            0\n",
       "dtype: int64"
      ]
     },
     "execution_count": 15,
     "metadata": {},
     "output_type": "execute_result"
    }
   ],
   "source": [
    "# show nan in each column\n",
    "weRateDogs_Archives.isnull().sum()"
   ]
  },
  {
   "cell_type": "code",
   "execution_count": 16,
   "id": "80a52421",
   "metadata": {},
   "outputs": [
    {
     "data": {
      "text/plain": [
       "0"
      ]
     },
     "execution_count": 16,
     "metadata": {},
     "output_type": "execute_result"
    }
   ],
   "source": [
    "#show number of duplicate\n",
    "weRateDogs_Archives.duplicated().sum()"
   ]
  },
  {
   "cell_type": "code",
   "execution_count": 17,
   "id": "ebb54325",
   "metadata": {
    "scrolled": true
   },
   "outputs": [
    {
     "data": {
      "text/html": [
       "<div>\n",
       "<style scoped>\n",
       "    .dataframe tbody tr th:only-of-type {\n",
       "        vertical-align: middle;\n",
       "    }\n",
       "\n",
       "    .dataframe tbody tr th {\n",
       "        vertical-align: top;\n",
       "    }\n",
       "\n",
       "    .dataframe thead th {\n",
       "        text-align: right;\n",
       "    }\n",
       "</style>\n",
       "<table border=\"1\" class=\"dataframe\">\n",
       "  <thead>\n",
       "    <tr style=\"text-align: right;\">\n",
       "      <th></th>\n",
       "      <th>tweet_id</th>\n",
       "      <th>in_reply_to_status_id</th>\n",
       "      <th>in_reply_to_user_id</th>\n",
       "      <th>retweeted_status_id</th>\n",
       "      <th>retweeted_status_user_id</th>\n",
       "      <th>rating_numerator</th>\n",
       "      <th>rating_denominator</th>\n",
       "    </tr>\n",
       "  </thead>\n",
       "  <tbody>\n",
       "    <tr>\n",
       "      <th>count</th>\n",
       "      <td>2.356000e+03</td>\n",
       "      <td>7.800000e+01</td>\n",
       "      <td>7.800000e+01</td>\n",
       "      <td>1.810000e+02</td>\n",
       "      <td>1.810000e+02</td>\n",
       "      <td>2356.000000</td>\n",
       "      <td>2356.000000</td>\n",
       "    </tr>\n",
       "    <tr>\n",
       "      <th>mean</th>\n",
       "      <td>7.427716e+17</td>\n",
       "      <td>7.455079e+17</td>\n",
       "      <td>2.014171e+16</td>\n",
       "      <td>7.720400e+17</td>\n",
       "      <td>1.241698e+16</td>\n",
       "      <td>13.126486</td>\n",
       "      <td>10.455433</td>\n",
       "    </tr>\n",
       "    <tr>\n",
       "      <th>std</th>\n",
       "      <td>6.856705e+16</td>\n",
       "      <td>7.582492e+16</td>\n",
       "      <td>1.252797e+17</td>\n",
       "      <td>6.236928e+16</td>\n",
       "      <td>9.599254e+16</td>\n",
       "      <td>45.876648</td>\n",
       "      <td>6.745237</td>\n",
       "    </tr>\n",
       "    <tr>\n",
       "      <th>min</th>\n",
       "      <td>6.660209e+17</td>\n",
       "      <td>6.658147e+17</td>\n",
       "      <td>1.185634e+07</td>\n",
       "      <td>6.661041e+17</td>\n",
       "      <td>7.832140e+05</td>\n",
       "      <td>0.000000</td>\n",
       "      <td>0.000000</td>\n",
       "    </tr>\n",
       "    <tr>\n",
       "      <th>25%</th>\n",
       "      <td>6.783989e+17</td>\n",
       "      <td>6.757419e+17</td>\n",
       "      <td>3.086374e+08</td>\n",
       "      <td>7.186315e+17</td>\n",
       "      <td>4.196984e+09</td>\n",
       "      <td>10.000000</td>\n",
       "      <td>10.000000</td>\n",
       "    </tr>\n",
       "    <tr>\n",
       "      <th>50%</th>\n",
       "      <td>7.196279e+17</td>\n",
       "      <td>7.038708e+17</td>\n",
       "      <td>4.196984e+09</td>\n",
       "      <td>7.804657e+17</td>\n",
       "      <td>4.196984e+09</td>\n",
       "      <td>11.000000</td>\n",
       "      <td>10.000000</td>\n",
       "    </tr>\n",
       "    <tr>\n",
       "      <th>75%</th>\n",
       "      <td>7.993373e+17</td>\n",
       "      <td>8.257804e+17</td>\n",
       "      <td>4.196984e+09</td>\n",
       "      <td>8.203146e+17</td>\n",
       "      <td>4.196984e+09</td>\n",
       "      <td>12.000000</td>\n",
       "      <td>10.000000</td>\n",
       "    </tr>\n",
       "    <tr>\n",
       "      <th>max</th>\n",
       "      <td>8.924206e+17</td>\n",
       "      <td>8.862664e+17</td>\n",
       "      <td>8.405479e+17</td>\n",
       "      <td>8.874740e+17</td>\n",
       "      <td>7.874618e+17</td>\n",
       "      <td>1776.000000</td>\n",
       "      <td>170.000000</td>\n",
       "    </tr>\n",
       "  </tbody>\n",
       "</table>\n",
       "</div>"
      ],
      "text/plain": [
       "           tweet_id  in_reply_to_status_id  in_reply_to_user_id  \\\n",
       "count  2.356000e+03           7.800000e+01         7.800000e+01   \n",
       "mean   7.427716e+17           7.455079e+17         2.014171e+16   \n",
       "std    6.856705e+16           7.582492e+16         1.252797e+17   \n",
       "min    6.660209e+17           6.658147e+17         1.185634e+07   \n",
       "25%    6.783989e+17           6.757419e+17         3.086374e+08   \n",
       "50%    7.196279e+17           7.038708e+17         4.196984e+09   \n",
       "75%    7.993373e+17           8.257804e+17         4.196984e+09   \n",
       "max    8.924206e+17           8.862664e+17         8.405479e+17   \n",
       "\n",
       "       retweeted_status_id  retweeted_status_user_id  rating_numerator  \\\n",
       "count         1.810000e+02              1.810000e+02       2356.000000   \n",
       "mean          7.720400e+17              1.241698e+16         13.126486   \n",
       "std           6.236928e+16              9.599254e+16         45.876648   \n",
       "min           6.661041e+17              7.832140e+05          0.000000   \n",
       "25%           7.186315e+17              4.196984e+09         10.000000   \n",
       "50%           7.804657e+17              4.196984e+09         11.000000   \n",
       "75%           8.203146e+17              4.196984e+09         12.000000   \n",
       "max           8.874740e+17              7.874618e+17       1776.000000   \n",
       "\n",
       "       rating_denominator  \n",
       "count         2356.000000  \n",
       "mean            10.455433  \n",
       "std              6.745237  \n",
       "min              0.000000  \n",
       "25%             10.000000  \n",
       "50%             10.000000  \n",
       "75%             10.000000  \n",
       "max            170.000000  "
      ]
     },
     "execution_count": 17,
     "metadata": {},
     "output_type": "execute_result"
    }
   ],
   "source": [
    "#decribe numerical columns\n",
    "weRateDogs_Archives.describe()"
   ]
  },
  {
   "cell_type": "code",
   "execution_count": 18,
   "id": "7147f390",
   "metadata": {
    "scrolled": true
   },
   "outputs": [
    {
     "data": {
      "text/html": [
       "<div>\n",
       "<style scoped>\n",
       "    .dataframe tbody tr th:only-of-type {\n",
       "        vertical-align: middle;\n",
       "    }\n",
       "\n",
       "    .dataframe tbody tr th {\n",
       "        vertical-align: top;\n",
       "    }\n",
       "\n",
       "    .dataframe thead th {\n",
       "        text-align: right;\n",
       "    }\n",
       "</style>\n",
       "<table border=\"1\" class=\"dataframe\">\n",
       "  <thead>\n",
       "    <tr style=\"text-align: right;\">\n",
       "      <th></th>\n",
       "      <th>tweet_id</th>\n",
       "      <th>jpg_url</th>\n",
       "      <th>img_num</th>\n",
       "      <th>p1</th>\n",
       "      <th>p1_conf</th>\n",
       "      <th>p1_dog</th>\n",
       "      <th>p2</th>\n",
       "      <th>p2_conf</th>\n",
       "      <th>p2_dog</th>\n",
       "      <th>p3</th>\n",
       "      <th>p3_conf</th>\n",
       "      <th>p3_dog</th>\n",
       "    </tr>\n",
       "  </thead>\n",
       "  <tbody>\n",
       "    <tr>\n",
       "      <th>1979</th>\n",
       "      <td>870804317367881728</td>\n",
       "      <td>https://pbs.twimg.com/media/DBW35ZsVoAEWZUU.jpg</td>\n",
       "      <td>1</td>\n",
       "      <td>home_theater</td>\n",
       "      <td>0.168290</td>\n",
       "      <td>False</td>\n",
       "      <td>sandbar</td>\n",
       "      <td>0.098040</td>\n",
       "      <td>False</td>\n",
       "      <td>television</td>\n",
       "      <td>0.079729</td>\n",
       "      <td>False</td>\n",
       "    </tr>\n",
       "    <tr>\n",
       "      <th>871</th>\n",
       "      <td>697943111201378304</td>\n",
       "      <td>https://pbs.twimg.com/media/Ca-XjfiUsAAUa8f.jpg</td>\n",
       "      <td>1</td>\n",
       "      <td>Great_Dane</td>\n",
       "      <td>0.126924</td>\n",
       "      <td>True</td>\n",
       "      <td>Greater_Swiss_Mountain_dog</td>\n",
       "      <td>0.110037</td>\n",
       "      <td>True</td>\n",
       "      <td>German_short-haired_pointer</td>\n",
       "      <td>0.090816</td>\n",
       "      <td>True</td>\n",
       "    </tr>\n",
       "    <tr>\n",
       "      <th>1574</th>\n",
       "      <td>795464331001561088</td>\n",
       "      <td>https://pbs.twimg.com/ext_tw_video_thumb/79546...</td>\n",
       "      <td>1</td>\n",
       "      <td>golden_retriever</td>\n",
       "      <td>0.193082</td>\n",
       "      <td>True</td>\n",
       "      <td>Chesapeake_Bay_retriever</td>\n",
       "      <td>0.157927</td>\n",
       "      <td>True</td>\n",
       "      <td>soft-coated_wheaten_terrier</td>\n",
       "      <td>0.124684</td>\n",
       "      <td>True</td>\n",
       "    </tr>\n",
       "    <tr>\n",
       "      <th>884</th>\n",
       "      <td>698953797952008193</td>\n",
       "      <td>https://pbs.twimg.com/media/CbMuxV5WEAAIBjy.jpg</td>\n",
       "      <td>1</td>\n",
       "      <td>Italian_greyhound</td>\n",
       "      <td>0.382378</td>\n",
       "      <td>True</td>\n",
       "      <td>redbone</td>\n",
       "      <td>0.102255</td>\n",
       "      <td>True</td>\n",
       "      <td>shower_cap</td>\n",
       "      <td>0.076834</td>\n",
       "      <td>False</td>\n",
       "    </tr>\n",
       "    <tr>\n",
       "      <th>424</th>\n",
       "      <td>674063288070742018</td>\n",
       "      <td>https://pbs.twimg.com/media/CVrA-rIWEAANxwQ.jpg</td>\n",
       "      <td>1</td>\n",
       "      <td>ostrich</td>\n",
       "      <td>0.661176</td>\n",
       "      <td>False</td>\n",
       "      <td>bearskin</td>\n",
       "      <td>0.214879</td>\n",
       "      <td>False</td>\n",
       "      <td>swab</td>\n",
       "      <td>0.064456</td>\n",
       "      <td>False</td>\n",
       "    </tr>\n",
       "  </tbody>\n",
       "</table>\n",
       "</div>"
      ],
      "text/plain": [
       "                tweet_id                                            jpg_url  \\\n",
       "1979  870804317367881728    https://pbs.twimg.com/media/DBW35ZsVoAEWZUU.jpg   \n",
       "871   697943111201378304    https://pbs.twimg.com/media/Ca-XjfiUsAAUa8f.jpg   \n",
       "1574  795464331001561088  https://pbs.twimg.com/ext_tw_video_thumb/79546...   \n",
       "884   698953797952008193    https://pbs.twimg.com/media/CbMuxV5WEAAIBjy.jpg   \n",
       "424   674063288070742018    https://pbs.twimg.com/media/CVrA-rIWEAANxwQ.jpg   \n",
       "\n",
       "      img_num                 p1   p1_conf  p1_dog  \\\n",
       "1979        1       home_theater  0.168290   False   \n",
       "871         1         Great_Dane  0.126924    True   \n",
       "1574        1   golden_retriever  0.193082    True   \n",
       "884         1  Italian_greyhound  0.382378    True   \n",
       "424         1            ostrich  0.661176   False   \n",
       "\n",
       "                              p2   p2_conf  p2_dog  \\\n",
       "1979                     sandbar  0.098040   False   \n",
       "871   Greater_Swiss_Mountain_dog  0.110037    True   \n",
       "1574    Chesapeake_Bay_retriever  0.157927    True   \n",
       "884                      redbone  0.102255    True   \n",
       "424                     bearskin  0.214879   False   \n",
       "\n",
       "                               p3   p3_conf  p3_dog  \n",
       "1979                   television  0.079729   False  \n",
       "871   German_short-haired_pointer  0.090816    True  \n",
       "1574  soft-coated_wheaten_terrier  0.124684    True  \n",
       "884                    shower_cap  0.076834   False  \n",
       "424                          swab  0.064456   False  "
      ]
     },
     "execution_count": 18,
     "metadata": {},
     "output_type": "execute_result"
    }
   ],
   "source": [
    "# show five random smaple\n",
    "imagePredictions.sample(5)"
   ]
  },
  {
   "cell_type": "code",
   "execution_count": 19,
   "id": "766206de",
   "metadata": {
    "scrolled": true
   },
   "outputs": [
    {
     "name": "stdout",
     "output_type": "stream",
     "text": [
      "<class 'pandas.core.frame.DataFrame'>\n",
      "RangeIndex: 2075 entries, 0 to 2074\n",
      "Data columns (total 12 columns):\n",
      " #   Column    Non-Null Count  Dtype  \n",
      "---  ------    --------------  -----  \n",
      " 0   tweet_id  2075 non-null   int64  \n",
      " 1   jpg_url   2075 non-null   object \n",
      " 2   img_num   2075 non-null   int64  \n",
      " 3   p1        2075 non-null   object \n",
      " 4   p1_conf   2075 non-null   float64\n",
      " 5   p1_dog    2075 non-null   bool   \n",
      " 6   p2        2075 non-null   object \n",
      " 7   p2_conf   2075 non-null   float64\n",
      " 8   p2_dog    2075 non-null   bool   \n",
      " 9   p3        2075 non-null   object \n",
      " 10  p3_conf   2075 non-null   float64\n",
      " 11  p3_dog    2075 non-null   bool   \n",
      "dtypes: bool(3), float64(3), int64(2), object(4)\n",
      "memory usage: 152.1+ KB\n"
     ]
    }
   ],
   "source": [
    "#info\n",
    "imagePredictions.info()"
   ]
  },
  {
   "cell_type": "code",
   "execution_count": 20,
   "id": "59ad3f1b",
   "metadata": {},
   "outputs": [
    {
     "data": {
      "text/html": [
       "<div>\n",
       "<style scoped>\n",
       "    .dataframe tbody tr th:only-of-type {\n",
       "        vertical-align: middle;\n",
       "    }\n",
       "\n",
       "    .dataframe tbody tr th {\n",
       "        vertical-align: top;\n",
       "    }\n",
       "\n",
       "    .dataframe thead th {\n",
       "        text-align: right;\n",
       "    }\n",
       "</style>\n",
       "<table border=\"1\" class=\"dataframe\">\n",
       "  <thead>\n",
       "    <tr style=\"text-align: right;\">\n",
       "      <th></th>\n",
       "      <th>tweet_id</th>\n",
       "      <th>img_num</th>\n",
       "      <th>p1_conf</th>\n",
       "      <th>p2_conf</th>\n",
       "      <th>p3_conf</th>\n",
       "    </tr>\n",
       "  </thead>\n",
       "  <tbody>\n",
       "    <tr>\n",
       "      <th>count</th>\n",
       "      <td>2.075000e+03</td>\n",
       "      <td>2075.000000</td>\n",
       "      <td>2075.000000</td>\n",
       "      <td>2.075000e+03</td>\n",
       "      <td>2.075000e+03</td>\n",
       "    </tr>\n",
       "    <tr>\n",
       "      <th>mean</th>\n",
       "      <td>7.384514e+17</td>\n",
       "      <td>1.203855</td>\n",
       "      <td>0.594548</td>\n",
       "      <td>1.345886e-01</td>\n",
       "      <td>6.032417e-02</td>\n",
       "    </tr>\n",
       "    <tr>\n",
       "      <th>std</th>\n",
       "      <td>6.785203e+16</td>\n",
       "      <td>0.561875</td>\n",
       "      <td>0.271174</td>\n",
       "      <td>1.006657e-01</td>\n",
       "      <td>5.090593e-02</td>\n",
       "    </tr>\n",
       "    <tr>\n",
       "      <th>min</th>\n",
       "      <td>6.660209e+17</td>\n",
       "      <td>1.000000</td>\n",
       "      <td>0.044333</td>\n",
       "      <td>1.011300e-08</td>\n",
       "      <td>1.740170e-10</td>\n",
       "    </tr>\n",
       "    <tr>\n",
       "      <th>25%</th>\n",
       "      <td>6.764835e+17</td>\n",
       "      <td>1.000000</td>\n",
       "      <td>0.364412</td>\n",
       "      <td>5.388625e-02</td>\n",
       "      <td>1.622240e-02</td>\n",
       "    </tr>\n",
       "    <tr>\n",
       "      <th>50%</th>\n",
       "      <td>7.119988e+17</td>\n",
       "      <td>1.000000</td>\n",
       "      <td>0.588230</td>\n",
       "      <td>1.181810e-01</td>\n",
       "      <td>4.944380e-02</td>\n",
       "    </tr>\n",
       "    <tr>\n",
       "      <th>75%</th>\n",
       "      <td>7.932034e+17</td>\n",
       "      <td>1.000000</td>\n",
       "      <td>0.843855</td>\n",
       "      <td>1.955655e-01</td>\n",
       "      <td>9.180755e-02</td>\n",
       "    </tr>\n",
       "    <tr>\n",
       "      <th>max</th>\n",
       "      <td>8.924206e+17</td>\n",
       "      <td>4.000000</td>\n",
       "      <td>1.000000</td>\n",
       "      <td>4.880140e-01</td>\n",
       "      <td>2.734190e-01</td>\n",
       "    </tr>\n",
       "  </tbody>\n",
       "</table>\n",
       "</div>"
      ],
      "text/plain": [
       "           tweet_id      img_num      p1_conf       p2_conf       p3_conf\n",
       "count  2.075000e+03  2075.000000  2075.000000  2.075000e+03  2.075000e+03\n",
       "mean   7.384514e+17     1.203855     0.594548  1.345886e-01  6.032417e-02\n",
       "std    6.785203e+16     0.561875     0.271174  1.006657e-01  5.090593e-02\n",
       "min    6.660209e+17     1.000000     0.044333  1.011300e-08  1.740170e-10\n",
       "25%    6.764835e+17     1.000000     0.364412  5.388625e-02  1.622240e-02\n",
       "50%    7.119988e+17     1.000000     0.588230  1.181810e-01  4.944380e-02\n",
       "75%    7.932034e+17     1.000000     0.843855  1.955655e-01  9.180755e-02\n",
       "max    8.924206e+17     4.000000     1.000000  4.880140e-01  2.734190e-01"
      ]
     },
     "execution_count": 20,
     "metadata": {},
     "output_type": "execute_result"
    }
   ],
   "source": [
    "#decribe numerical columns\n",
    "imagePredictions.describe()"
   ]
  },
  {
   "cell_type": "code",
   "execution_count": 21,
   "id": "440ae4cd",
   "metadata": {},
   "outputs": [
    {
     "data": {
      "text/plain": [
       "0"
      ]
     },
     "execution_count": 21,
     "metadata": {},
     "output_type": "execute_result"
    }
   ],
   "source": [
    "#show number of duplicate\n",
    "imagePredictions.duplicated().sum()"
   ]
  },
  {
   "cell_type": "code",
   "execution_count": 22,
   "id": "6c95c818",
   "metadata": {
    "scrolled": true
   },
   "outputs": [
    {
     "name": "stdout",
     "output_type": "stream",
     "text": [
      "<class 'pandas.core.frame.DataFrame'>\n",
      "RangeIndex: 2354 entries, 0 to 2353\n",
      "Data columns (total 6 columns):\n",
      " #   Column           Non-Null Count  Dtype \n",
      "---  ------           --------------  ----- \n",
      " 0   date             2354 non-null   object\n",
      " 1   tweet_id         2354 non-null   int64 \n",
      " 2   retweet_count    2354 non-null   int64 \n",
      " 3   favorite_count   2354 non-null   int64 \n",
      " 4   followers_count  2354 non-null   int64 \n",
      " 5   verified         2354 non-null   bool  \n",
      "dtypes: bool(1), int64(4), object(1)\n",
      "memory usage: 94.4+ KB\n"
     ]
    }
   ],
   "source": [
    "#info\n",
    "apiTweets.info()"
   ]
  },
  {
   "cell_type": "code",
   "execution_count": 23,
   "id": "3d2d2818",
   "metadata": {
    "scrolled": true
   },
   "outputs": [
    {
     "data": {
      "text/html": [
       "<div>\n",
       "<style scoped>\n",
       "    .dataframe tbody tr th:only-of-type {\n",
       "        vertical-align: middle;\n",
       "    }\n",
       "\n",
       "    .dataframe tbody tr th {\n",
       "        vertical-align: top;\n",
       "    }\n",
       "\n",
       "    .dataframe thead th {\n",
       "        text-align: right;\n",
       "    }\n",
       "</style>\n",
       "<table border=\"1\" class=\"dataframe\">\n",
       "  <thead>\n",
       "    <tr style=\"text-align: right;\">\n",
       "      <th></th>\n",
       "      <th>date</th>\n",
       "      <th>tweet_id</th>\n",
       "      <th>retweet_count</th>\n",
       "      <th>favorite_count</th>\n",
       "      <th>followers_count</th>\n",
       "      <th>verified</th>\n",
       "    </tr>\n",
       "  </thead>\n",
       "  <tbody>\n",
       "    <tr>\n",
       "      <th>1228</th>\n",
       "      <td>Fri Mar 25 17:03:49 +0000 2016</td>\n",
       "      <td>713411074226274305</td>\n",
       "      <td>1440</td>\n",
       "      <td>4802</td>\n",
       "      <td>3200947</td>\n",
       "      <td>True</td>\n",
       "    </tr>\n",
       "    <tr>\n",
       "      <th>2311</th>\n",
       "      <td>Tue Nov 17 22:06:57 +0000 2015</td>\n",
       "      <td>666739327293083650</td>\n",
       "      <td>71</td>\n",
       "      <td>244</td>\n",
       "      <td>3201018</td>\n",
       "      <td>True</td>\n",
       "    </tr>\n",
       "    <tr>\n",
       "      <th>1534</th>\n",
       "      <td>Wed Jan 20 20:21:00 +0000 2016</td>\n",
       "      <td>689905486972461056</td>\n",
       "      <td>787</td>\n",
       "      <td>2651</td>\n",
       "      <td>3200950</td>\n",
       "      <td>True</td>\n",
       "    </tr>\n",
       "    <tr>\n",
       "      <th>1205</th>\n",
       "      <td>Fri Apr 01 02:51:22 +0000 2016</td>\n",
       "      <td>715733265223708672</td>\n",
       "      <td>1920</td>\n",
       "      <td>5093</td>\n",
       "      <td>3200945</td>\n",
       "      <td>True</td>\n",
       "    </tr>\n",
       "    <tr>\n",
       "      <th>1441</th>\n",
       "      <td>Mon Feb 08 17:17:22 +0000 2016</td>\n",
       "      <td>696744641916489729</td>\n",
       "      <td>1069</td>\n",
       "      <td>2293</td>\n",
       "      <td>3200950</td>\n",
       "      <td>True</td>\n",
       "    </tr>\n",
       "  </tbody>\n",
       "</table>\n",
       "</div>"
      ],
      "text/plain": [
       "                                date            tweet_id  retweet_count  \\\n",
       "1228  Fri Mar 25 17:03:49 +0000 2016  713411074226274305           1440   \n",
       "2311  Tue Nov 17 22:06:57 +0000 2015  666739327293083650             71   \n",
       "1534  Wed Jan 20 20:21:00 +0000 2016  689905486972461056            787   \n",
       "1205  Fri Apr 01 02:51:22 +0000 2016  715733265223708672           1920   \n",
       "1441  Mon Feb 08 17:17:22 +0000 2016  696744641916489729           1069   \n",
       "\n",
       "      favorite_count  followers_count  verified  \n",
       "1228            4802          3200947      True  \n",
       "2311             244          3201018      True  \n",
       "1534            2651          3200950      True  \n",
       "1205            5093          3200945      True  \n",
       "1441            2293          3200950      True  "
      ]
     },
     "execution_count": 23,
     "metadata": {},
     "output_type": "execute_result"
    }
   ],
   "source": [
    "# show five random smaple\n",
    "apiTweets.sample(5)"
   ]
  },
  {
   "cell_type": "code",
   "execution_count": 24,
   "id": "823d32ad",
   "metadata": {},
   "outputs": [
    {
     "data": {
      "text/plain": [
       "date               0\n",
       "tweet_id           0\n",
       "retweet_count      0\n",
       "favorite_count     0\n",
       "followers_count    0\n",
       "verified           0\n",
       "dtype: int64"
      ]
     },
     "execution_count": 24,
     "metadata": {},
     "output_type": "execute_result"
    }
   ],
   "source": [
    "# show nan in each column\n",
    "apiTweets.isnull().sum()"
   ]
  },
  {
   "cell_type": "code",
   "execution_count": 25,
   "id": "8de3f2f3",
   "metadata": {},
   "outputs": [
    {
     "data": {
      "text/html": [
       "<div>\n",
       "<style scoped>\n",
       "    .dataframe tbody tr th:only-of-type {\n",
       "        vertical-align: middle;\n",
       "    }\n",
       "\n",
       "    .dataframe tbody tr th {\n",
       "        vertical-align: top;\n",
       "    }\n",
       "\n",
       "    .dataframe thead th {\n",
       "        text-align: right;\n",
       "    }\n",
       "</style>\n",
       "<table border=\"1\" class=\"dataframe\">\n",
       "  <thead>\n",
       "    <tr style=\"text-align: right;\">\n",
       "      <th></th>\n",
       "      <th>tweet_id</th>\n",
       "      <th>retweet_count</th>\n",
       "      <th>favorite_count</th>\n",
       "      <th>followers_count</th>\n",
       "    </tr>\n",
       "  </thead>\n",
       "  <tbody>\n",
       "    <tr>\n",
       "      <th>count</th>\n",
       "      <td>2.354000e+03</td>\n",
       "      <td>2354.000000</td>\n",
       "      <td>2354.000000</td>\n",
       "      <td>2.354000e+03</td>\n",
       "    </tr>\n",
       "    <tr>\n",
       "      <th>mean</th>\n",
       "      <td>7.426978e+17</td>\n",
       "      <td>3164.797366</td>\n",
       "      <td>8080.968564</td>\n",
       "      <td>3.200942e+06</td>\n",
       "    </tr>\n",
       "    <tr>\n",
       "      <th>std</th>\n",
       "      <td>6.852812e+16</td>\n",
       "      <td>5284.770364</td>\n",
       "      <td>11814.771334</td>\n",
       "      <td>4.457302e+01</td>\n",
       "    </tr>\n",
       "    <tr>\n",
       "      <th>min</th>\n",
       "      <td>6.660209e+17</td>\n",
       "      <td>0.000000</td>\n",
       "      <td>0.000000</td>\n",
       "      <td>3.200799e+06</td>\n",
       "    </tr>\n",
       "    <tr>\n",
       "      <th>25%</th>\n",
       "      <td>6.783975e+17</td>\n",
       "      <td>624.500000</td>\n",
       "      <td>1415.000000</td>\n",
       "      <td>3.200898e+06</td>\n",
       "    </tr>\n",
       "    <tr>\n",
       "      <th>50%</th>\n",
       "      <td>7.194596e+17</td>\n",
       "      <td>1473.500000</td>\n",
       "      <td>3603.500000</td>\n",
       "      <td>3.200945e+06</td>\n",
       "    </tr>\n",
       "    <tr>\n",
       "      <th>75%</th>\n",
       "      <td>7.993058e+17</td>\n",
       "      <td>3652.000000</td>\n",
       "      <td>10122.250000</td>\n",
       "      <td>3.200953e+06</td>\n",
       "    </tr>\n",
       "    <tr>\n",
       "      <th>max</th>\n",
       "      <td>8.924206e+17</td>\n",
       "      <td>79515.000000</td>\n",
       "      <td>132810.000000</td>\n",
       "      <td>3.201018e+06</td>\n",
       "    </tr>\n",
       "  </tbody>\n",
       "</table>\n",
       "</div>"
      ],
      "text/plain": [
       "           tweet_id  retweet_count  favorite_count  followers_count\n",
       "count  2.354000e+03    2354.000000     2354.000000     2.354000e+03\n",
       "mean   7.426978e+17    3164.797366     8080.968564     3.200942e+06\n",
       "std    6.852812e+16    5284.770364    11814.771334     4.457302e+01\n",
       "min    6.660209e+17       0.000000        0.000000     3.200799e+06\n",
       "25%    6.783975e+17     624.500000     1415.000000     3.200898e+06\n",
       "50%    7.194596e+17    1473.500000     3603.500000     3.200945e+06\n",
       "75%    7.993058e+17    3652.000000    10122.250000     3.200953e+06\n",
       "max    8.924206e+17   79515.000000   132810.000000     3.201018e+06"
      ]
     },
     "execution_count": 25,
     "metadata": {},
     "output_type": "execute_result"
    }
   ],
   "source": [
    "#decribe numerical columns\n",
    "apiTweets.describe()"
   ]
  },
  {
   "cell_type": "markdown",
   "id": "c489866c",
   "metadata": {},
   "source": [
    "### Quality Issues \n",
    "**WeRateDogs_Achives**\n",
    "1. missing records\n",
    "2. timestamp should be in datetime format and not object\n",
    "3. source columns contain html link tags\n",
    "4. the denominator has a max value of 170\n",
    "**ImagePredictions**\n",
    "\n",
    "5. p1, p2, and p3 ave lowercase given names\n",
    "6. img_num are not use full\n",
    "**ApiTweets**\n",
    "\n",
    "7. datetime should be of datatime datatype and not object\n",
    "8. tweet_id should be string instead of int"
   ]
  },
  {
   "cell_type": "markdown",
   "id": "64dce02e",
   "metadata": {},
   "source": [
    "### Tidiness Issues\n",
    "1. Combine the 4 dog stage columns into a single column in the archive table\n",
    "2. merge WeRateDogs_Achives, imagePredictions and apiTweets tables"
   ]
  },
  {
   "cell_type": "markdown",
   "id": "f1453317",
   "metadata": {},
   "source": [
    "## Cleaning Data"
   ]
  },
  {
   "cell_type": "code",
   "execution_count": 26,
   "id": "dbd5af44",
   "metadata": {},
   "outputs": [],
   "source": [
    "# Make copies to preserve the original datasets\n",
    "df1_clean = weRateDogs_Archives.copy()\n",
    "df2_clean = imagePredictions.copy()\n",
    "df3_clean = apiTweets.copy()"
   ]
  },
  {
   "cell_type": "markdown",
   "id": "de598ce3",
   "metadata": {},
   "source": [
    "**1. Define**\n",
    "\n",
    " Handle missing records in WeRateDogs_Achives in in_reply_to_status_id in_reply_to_user_id retweeted_status_id retweeted_status_user_id retweeted_status_timestamp"
   ]
  },
  {
   "cell_type": "markdown",
   "id": "5ef6175e",
   "metadata": {},
   "source": [
    "**Code**"
   ]
  },
  {
   "cell_type": "code",
   "execution_count": 27,
   "id": "3110fa02",
   "metadata": {},
   "outputs": [
    {
     "data": {
      "text/plain": [
       "tweet_id                         0\n",
       "in_reply_to_status_id         2278\n",
       "in_reply_to_user_id           2278\n",
       "timestamp                        0\n",
       "source                           0\n",
       "text                             0\n",
       "retweeted_status_id           2175\n",
       "retweeted_status_user_id      2175\n",
       "retweeted_status_timestamp    2175\n",
       "expanded_urls                   59\n",
       "rating_numerator                 0\n",
       "rating_denominator               0\n",
       "name                             0\n",
       "doggo                            0\n",
       "floofer                          0\n",
       "pupper                           0\n",
       "puppo                            0\n",
       "dtype: int64"
      ]
     },
     "execution_count": 27,
     "metadata": {},
     "output_type": "execute_result"
    }
   ],
   "source": [
    "# show nan in each column\n",
    "df1_clean.isnull().sum()"
   ]
  },
  {
   "cell_type": "code",
   "execution_count": 28,
   "id": "35991e04",
   "metadata": {},
   "outputs": [],
   "source": [
    "#drop nan filled columns\n",
    "df1_clean=df1_clean.drop(columns=['in_reply_to_status_id','in_reply_to_user_id','retweeted_status_id',\n",
    "                 'retweeted_status_user_id','retweeted_status_timestamp'])"
   ]
  },
  {
   "cell_type": "markdown",
   "id": "771bd081",
   "metadata": {},
   "source": [
    "**Test**"
   ]
  },
  {
   "cell_type": "code",
   "execution_count": 29,
   "id": "cdf2f3de",
   "metadata": {
    "scrolled": true
   },
   "outputs": [
    {
     "data": {
      "text/plain": [
       "tweet_id               0\n",
       "timestamp              0\n",
       "source                 0\n",
       "text                   0\n",
       "expanded_urls         59\n",
       "rating_numerator       0\n",
       "rating_denominator     0\n",
       "name                   0\n",
       "doggo                  0\n",
       "floofer                0\n",
       "pupper                 0\n",
       "puppo                  0\n",
       "dtype: int64"
      ]
     },
     "execution_count": 29,
     "metadata": {},
     "output_type": "execute_result"
    }
   ],
   "source": [
    "df1_clean.isnull().sum()"
   ]
  },
  {
   "cell_type": "markdown",
   "id": "62610cd7",
   "metadata": {},
   "source": [
    "**2. Define**\n",
    "\n",
    "Timestamp should be in datetime format and not object"
   ]
  },
  {
   "cell_type": "markdown",
   "id": "a73cccbe",
   "metadata": {},
   "source": [
    "**Code**"
   ]
  },
  {
   "cell_type": "code",
   "execution_count": 30,
   "id": "f20d2568",
   "metadata": {},
   "outputs": [],
   "source": [
    "#convert timestamps to datetime\n",
    "df1_clean['timestamp']= pd.to_datetime(df1_clean['timestamp'])"
   ]
  },
  {
   "cell_type": "markdown",
   "id": "fa542b22",
   "metadata": {},
   "source": [
    "**Test**"
   ]
  },
  {
   "cell_type": "code",
   "execution_count": 31,
   "id": "c2d24697",
   "metadata": {},
   "outputs": [
    {
     "data": {
      "text/plain": [
       "datetime64[ns, UTC]"
      ]
     },
     "execution_count": 31,
     "metadata": {},
     "output_type": "execute_result"
    }
   ],
   "source": [
    "df1_clean['timestamp'].dtypes"
   ]
  },
  {
   "cell_type": "markdown",
   "id": "b1549163",
   "metadata": {},
   "source": [
    "**3. Define**\n",
    "\n",
    "Source columns containing html link tags should be removed"
   ]
  },
  {
   "cell_type": "markdown",
   "id": "d3f7fb0c",
   "metadata": {},
   "source": [
    "**Code**"
   ]
  },
  {
   "cell_type": "code",
   "execution_count": 32,
   "id": "1a0a794a",
   "metadata": {
    "scrolled": true
   },
   "outputs": [
    {
     "data": {
      "text/plain": [
       "<a href=\"http://twitter.com/download/iphone\" rel=\"nofollow\">Twitter for iPhone</a>     2221\n",
       "<a href=\"http://vine.co\" rel=\"nofollow\">Vine - Make a Scene</a>                          91\n",
       "<a href=\"http://twitter.com\" rel=\"nofollow\">Twitter Web Client</a>                       33\n",
       "<a href=\"https://about.twitter.com/products/tweetdeck\" rel=\"nofollow\">TweetDeck</a>      11\n",
       "Name: source, dtype: int64"
      ]
     },
     "execution_count": 32,
     "metadata": {},
     "output_type": "execute_result"
    }
   ],
   "source": [
    "#values conts\n",
    "df1_clean['source'].value_counts()"
   ]
  },
  {
   "cell_type": "code",
   "execution_count": 33,
   "id": "bd8961a3",
   "metadata": {},
   "outputs": [],
   "source": [
    "#extract without html tags\n",
    "extract=df1_clean['source'].str.extract('(<.*>)(.*)(<.*)')"
   ]
  },
  {
   "cell_type": "code",
   "execution_count": 34,
   "id": "c23a36ae",
   "metadata": {},
   "outputs": [],
   "source": [
    "#saves back in to source\n",
    "df1_clean['source']=extract[1]"
   ]
  },
  {
   "cell_type": "markdown",
   "id": "cafcf473",
   "metadata": {},
   "source": [
    "**Test**"
   ]
  },
  {
   "cell_type": "code",
   "execution_count": 35,
   "id": "64cfe2e4",
   "metadata": {},
   "outputs": [
    {
     "data": {
      "text/plain": [
       "Twitter for iPhone     2221\n",
       "Vine - Make a Scene      91\n",
       "Twitter Web Client       33\n",
       "TweetDeck                11\n",
       "Name: source, dtype: int64"
      ]
     },
     "execution_count": 35,
     "metadata": {},
     "output_type": "execute_result"
    }
   ],
   "source": [
    "df1_clean['source'].value_counts()"
   ]
  },
  {
   "cell_type": "markdown",
   "id": "0966ce40",
   "metadata": {},
   "source": [
    "**4. Define**\n",
    "\n",
    "convert rating_denominator greater than 10 to 10\n"
   ]
  },
  {
   "cell_type": "markdown",
   "id": "40c938be",
   "metadata": {},
   "source": [
    "**Code**"
   ]
  },
  {
   "cell_type": "code",
   "execution_count": 36,
   "id": "8de79e83",
   "metadata": {},
   "outputs": [],
   "source": [
    "# convert all rating_denominator greater than 10 to 10\n",
    "df1_clean['rating_denominator']=df1_clean['rating_denominator'].mask(df1_clean['rating_denominator']>10, 10)"
   ]
  },
  {
   "cell_type": "markdown",
   "id": "bf2f595b",
   "metadata": {},
   "source": [
    "**Test**"
   ]
  },
  {
   "cell_type": "code",
   "execution_count": 37,
   "id": "98e2b0a9",
   "metadata": {
    "scrolled": true
   },
   "outputs": [
    {
     "data": {
      "text/plain": [
       "10"
      ]
     },
     "execution_count": 37,
     "metadata": {},
     "output_type": "execute_result"
    }
   ],
   "source": [
    "df1_clean['rating_denominator'].max()"
   ]
  },
  {
   "cell_type": "markdown",
   "id": "0a8c4420",
   "metadata": {},
   "source": [
    "**5. Define**\n",
    "\n",
    "p1, p2, and p3 having lowercase  names should all have uppercas"
   ]
  },
  {
   "cell_type": "markdown",
   "id": "5e78b01a",
   "metadata": {},
   "source": [
    "**code**"
   ]
  },
  {
   "cell_type": "code",
   "execution_count": 38,
   "id": "7da6050d",
   "metadata": {},
   "outputs": [],
   "source": [
    "# Capitalize first letters\n",
    "df2_clean['p1'] = [item.capitalize() for item in df2_clean['p1']]\n",
    "df2_clean['p2'] = [item.capitalize() for item in df2_clean['p2']]\n",
    "df2_clean['p3'] = [item.capitalize() for item in df2_clean['p3']]"
   ]
  },
  {
   "cell_type": "markdown",
   "id": "3b1d2dce",
   "metadata": {},
   "source": [
    "**Test**"
   ]
  },
  {
   "cell_type": "code",
   "execution_count": 39,
   "id": "766791c2",
   "metadata": {},
   "outputs": [
    {
     "data": {
      "text/html": [
       "<div>\n",
       "<style scoped>\n",
       "    .dataframe tbody tr th:only-of-type {\n",
       "        vertical-align: middle;\n",
       "    }\n",
       "\n",
       "    .dataframe tbody tr th {\n",
       "        vertical-align: top;\n",
       "    }\n",
       "\n",
       "    .dataframe thead th {\n",
       "        text-align: right;\n",
       "    }\n",
       "</style>\n",
       "<table border=\"1\" class=\"dataframe\">\n",
       "  <thead>\n",
       "    <tr style=\"text-align: right;\">\n",
       "      <th></th>\n",
       "      <th>p1</th>\n",
       "      <th>p2</th>\n",
       "      <th>p3</th>\n",
       "    </tr>\n",
       "  </thead>\n",
       "  <tbody>\n",
       "    <tr>\n",
       "      <th>0</th>\n",
       "      <td>Welsh_springer_spaniel</td>\n",
       "      <td>Collie</td>\n",
       "      <td>Shetland_sheepdog</td>\n",
       "    </tr>\n",
       "    <tr>\n",
       "      <th>1</th>\n",
       "      <td>Redbone</td>\n",
       "      <td>Miniature_pinscher</td>\n",
       "      <td>Rhodesian_ridgeback</td>\n",
       "    </tr>\n",
       "    <tr>\n",
       "      <th>2</th>\n",
       "      <td>German_shepherd</td>\n",
       "      <td>Malinois</td>\n",
       "      <td>Bloodhound</td>\n",
       "    </tr>\n",
       "    <tr>\n",
       "      <th>3</th>\n",
       "      <td>Rhodesian_ridgeback</td>\n",
       "      <td>Redbone</td>\n",
       "      <td>Miniature_pinscher</td>\n",
       "    </tr>\n",
       "    <tr>\n",
       "      <th>4</th>\n",
       "      <td>Miniature_pinscher</td>\n",
       "      <td>Rottweiler</td>\n",
       "      <td>Doberman</td>\n",
       "    </tr>\n",
       "  </tbody>\n",
       "</table>\n",
       "</div>"
      ],
      "text/plain": [
       "                       p1                  p2                   p3\n",
       "0  Welsh_springer_spaniel              Collie    Shetland_sheepdog\n",
       "1                 Redbone  Miniature_pinscher  Rhodesian_ridgeback\n",
       "2         German_shepherd            Malinois           Bloodhound\n",
       "3     Rhodesian_ridgeback             Redbone   Miniature_pinscher\n",
       "4      Miniature_pinscher          Rottweiler             Doberman"
      ]
     },
     "execution_count": 39,
     "metadata": {},
     "output_type": "execute_result"
    }
   ],
   "source": [
    "df2_clean[['p1','p2','p3']].head()"
   ]
  },
  {
   "cell_type": "markdown",
   "id": "1f973f99",
   "metadata": {},
   "source": [
    "**6. Define**\n",
    "\n",
    "Remove img_num not usefull"
   ]
  },
  {
   "cell_type": "markdown",
   "id": "5c0474ab",
   "metadata": {},
   "source": [
    "**Code**"
   ]
  },
  {
   "cell_type": "code",
   "execution_count": 40,
   "id": "ec6f62b2",
   "metadata": {},
   "outputs": [],
   "source": [
    "#drop img column\n",
    "df2_clean=df2_clean.drop('img_num', axis =1)"
   ]
  },
  {
   "cell_type": "markdown",
   "id": "eaa9d13f",
   "metadata": {},
   "source": [
    "**Test**"
   ]
  },
  {
   "cell_type": "code",
   "execution_count": 41,
   "id": "441b354f",
   "metadata": {},
   "outputs": [
    {
     "data": {
      "text/plain": [
       "Index(['tweet_id', 'jpg_url', 'p1', 'p1_conf', 'p1_dog', 'p2', 'p2_conf',\n",
       "       'p2_dog', 'p3', 'p3_conf', 'p3_dog'],\n",
       "      dtype='object')"
      ]
     },
     "execution_count": 41,
     "metadata": {},
     "output_type": "execute_result"
    }
   ],
   "source": [
    "df2_clean.columns"
   ]
  },
  {
   "cell_type": "markdown",
   "id": "e5f2e046",
   "metadata": {},
   "source": [
    "**7. Define**\n",
    "\n",
    "date should be of datatime datatype not object\n"
   ]
  },
  {
   "cell_type": "markdown",
   "id": "d8cecbc1",
   "metadata": {},
   "source": [
    "**Code**"
   ]
  },
  {
   "cell_type": "code",
   "execution_count": 42,
   "id": "ecb6807b",
   "metadata": {},
   "outputs": [],
   "source": [
    "#change dtypes to datetime\n",
    "df3_clean['date']=pd.to_datetime(df3_clean['date'])"
   ]
  },
  {
   "cell_type": "markdown",
   "id": "1dd2560b",
   "metadata": {},
   "source": [
    "**Test**"
   ]
  },
  {
   "cell_type": "code",
   "execution_count": 43,
   "id": "17c57408",
   "metadata": {},
   "outputs": [
    {
     "data": {
      "text/plain": [
       "datetime64[ns, UTC]"
      ]
     },
     "execution_count": 43,
     "metadata": {},
     "output_type": "execute_result"
    }
   ],
   "source": [
    "df3_clean['date'].dtypes"
   ]
  },
  {
   "cell_type": "markdown",
   "id": "65e30b88",
   "metadata": {},
   "source": [
    "**8. Define**\n",
    "\n",
    "tweet_id for the 3 datasets should be string instead of int"
   ]
  },
  {
   "cell_type": "markdown",
   "id": "86c2dc29",
   "metadata": {},
   "source": [
    "**Code**"
   ]
  },
  {
   "cell_type": "code",
   "execution_count": 44,
   "id": "552d8c44",
   "metadata": {},
   "outputs": [],
   "source": [
    "#change dtypes to strinds\n",
    "df1_clean['tweet_id']=df3_clean['tweet_id'].astype(str)\n",
    "df2_clean['tweet_id']=df3_clean['tweet_id'].astype(str)\n",
    "df3_clean['tweet_id']=df3_clean['tweet_id'].astype(str)"
   ]
  },
  {
   "cell_type": "markdown",
   "id": "e49d4dcf",
   "metadata": {},
   "source": [
    "**Test**"
   ]
  },
  {
   "cell_type": "code",
   "execution_count": 45,
   "id": "e095a8ce",
   "metadata": {
    "scrolled": true
   },
   "outputs": [
    {
     "name": "stdout",
     "output_type": "stream",
     "text": [
      "object object object\n"
     ]
    }
   ],
   "source": [
    "print(df1_clean['tweet_id'].dtypes, df2_clean['tweet_id'].dtypes, df3_clean['tweet_id'].dtypes)"
   ]
  },
  {
   "cell_type": "markdown",
   "id": "5664bcf6",
   "metadata": {},
   "source": [
    "**9. Define**\n",
    "\n",
    "Combine the 4 dog stage columns"
   ]
  },
  {
   "cell_type": "markdown",
   "id": "e551abe4",
   "metadata": {},
   "source": [
    "**Code**"
   ]
  },
  {
   "cell_type": "code",
   "execution_count": 46,
   "id": "346da1a0",
   "metadata": {},
   "outputs": [],
   "source": [
    "#Firstly, we need to convert Nones and np.NaN to empty string '' for all columns\n",
    "df1_clean.doggo.replace('None', '', inplace=True)\n",
    "df1_clean.doggo.replace(np.NaN, '', inplace=True)\n",
    "df1_clean.floofer.replace('None', '', inplace=True)\n",
    "df1_clean.floofer.replace(np.NaN, '', inplace=True)\n",
    "df1_clean.pupper.replace('None', '', inplace=True)\n",
    "df1_clean.pupper.replace(np.NaN, '', inplace=True)\n",
    "df1_clean.puppo.replace('None', '', inplace=True)\n",
    "df1_clean.puppo.replace(np.NaN, '', inplace=True)"
   ]
  },
  {
   "cell_type": "code",
   "execution_count": 47,
   "id": "5cc315bc",
   "metadata": {},
   "outputs": [],
   "source": [
    "#Then we get the columns combined\n",
    "df1_clean['dog_stages'] = df1_clean.text.str.extract('(doggo|floofer|pupper|puppo)', expand = True)\n",
    "df1_clean['dog_stages'] = df1_clean.doggo + df1_clean.floofer + df1_clean.pupper + df1_clean.puppo"
   ]
  },
  {
   "cell_type": "code",
   "execution_count": 48,
   "id": "425073bb",
   "metadata": {},
   "outputs": [],
   "source": [
    "#Now we can delete the useless four columns\n",
    "df1_clean.drop(['doggo','floofer','pupper','puppo'], axis=1, inplace = True)"
   ]
  },
  {
   "cell_type": "markdown",
   "id": "d9573e5c",
   "metadata": {},
   "source": [
    "**Test**"
   ]
  },
  {
   "cell_type": "code",
   "execution_count": 49,
   "id": "104518fd",
   "metadata": {
    "scrolled": false
   },
   "outputs": [
    {
     "data": {
      "text/plain": [
       "                1976\n",
       "pupper           245\n",
       "doggo             83\n",
       "puppo             29\n",
       "doggopupper       12\n",
       "floofer            9\n",
       "doggopuppo         1\n",
       "doggofloofer       1\n",
       "Name: dog_stages, dtype: int64"
      ]
     },
     "execution_count": 49,
     "metadata": {},
     "output_type": "execute_result"
    }
   ],
   "source": [
    "df1_clean['dog_stages'].value_counts()"
   ]
  },
  {
   "cell_type": "markdown",
   "id": "fbbfb98c",
   "metadata": {},
   "source": [
    "**10. Define**\n",
    "\n",
    " Merge WeRateDogs_Achives, imagePredictions and apiTweets tables"
   ]
  },
  {
   "cell_type": "markdown",
   "id": "9527f313",
   "metadata": {},
   "source": [
    "**Code**"
   ]
  },
  {
   "cell_type": "code",
   "execution_count": 50,
   "id": "7a7e95e8",
   "metadata": {},
   "outputs": [],
   "source": [
    "#merg df1 and to df2 then merge both to df3\n",
    "newdf = pd.merge(df1_clean, df2_clean, on='tweet_id')\n",
    "newdf = pd.merge(newdf, df3_clean, on='tweet_id' )"
   ]
  },
  {
   "cell_type": "markdown",
   "id": "68add50b",
   "metadata": {},
   "source": [
    "**Test**"
   ]
  },
  {
   "cell_type": "code",
   "execution_count": 51,
   "id": "0f95d82d",
   "metadata": {},
   "outputs": [
    {
     "data": {
      "text/html": [
       "<div>\n",
       "<style scoped>\n",
       "    .dataframe tbody tr th:only-of-type {\n",
       "        vertical-align: middle;\n",
       "    }\n",
       "\n",
       "    .dataframe tbody tr th {\n",
       "        vertical-align: top;\n",
       "    }\n",
       "\n",
       "    .dataframe thead th {\n",
       "        text-align: right;\n",
       "    }\n",
       "</style>\n",
       "<table border=\"1\" class=\"dataframe\">\n",
       "  <thead>\n",
       "    <tr style=\"text-align: right;\">\n",
       "      <th></th>\n",
       "      <th>tweet_id</th>\n",
       "      <th>timestamp</th>\n",
       "      <th>source</th>\n",
       "      <th>text</th>\n",
       "      <th>expanded_urls</th>\n",
       "      <th>rating_numerator</th>\n",
       "      <th>rating_denominator</th>\n",
       "      <th>name</th>\n",
       "      <th>dog_stages</th>\n",
       "      <th>jpg_url</th>\n",
       "      <th>...</th>\n",
       "      <th>p2_conf</th>\n",
       "      <th>p2_dog</th>\n",
       "      <th>p3</th>\n",
       "      <th>p3_conf</th>\n",
       "      <th>p3_dog</th>\n",
       "      <th>date</th>\n",
       "      <th>retweet_count</th>\n",
       "      <th>favorite_count</th>\n",
       "      <th>followers_count</th>\n",
       "      <th>verified</th>\n",
       "    </tr>\n",
       "  </thead>\n",
       "  <tbody>\n",
       "    <tr>\n",
       "      <th>0</th>\n",
       "      <td>892420643555336193</td>\n",
       "      <td>2017-08-01 16:23:56+00:00</td>\n",
       "      <td>Twitter for iPhone</td>\n",
       "      <td>This is Phineas. He's a mystical boy. Only eve...</td>\n",
       "      <td>https://twitter.com/dog_rates/status/892420643...</td>\n",
       "      <td>13</td>\n",
       "      <td>10</td>\n",
       "      <td>Phineas</td>\n",
       "      <td></td>\n",
       "      <td>https://pbs.twimg.com/media/CT4udn0WwAA0aMy.jpg</td>\n",
       "      <td>...</td>\n",
       "      <td>0.156665</td>\n",
       "      <td>True</td>\n",
       "      <td>Shetland_sheepdog</td>\n",
       "      <td>0.061428</td>\n",
       "      <td>True</td>\n",
       "      <td>2017-08-01 16:23:56+00:00</td>\n",
       "      <td>8853</td>\n",
       "      <td>39467</td>\n",
       "      <td>3200889</td>\n",
       "      <td>True</td>\n",
       "    </tr>\n",
       "    <tr>\n",
       "      <th>1</th>\n",
       "      <td>892177421306343426</td>\n",
       "      <td>2017-08-01 00:17:27+00:00</td>\n",
       "      <td>Twitter for iPhone</td>\n",
       "      <td>This is Tilly. She's just checking pup on you....</td>\n",
       "      <td>https://twitter.com/dog_rates/status/892177421...</td>\n",
       "      <td>13</td>\n",
       "      <td>10</td>\n",
       "      <td>Tilly</td>\n",
       "      <td></td>\n",
       "      <td>https://pbs.twimg.com/media/CT42GRgUYAA5iDo.jpg</td>\n",
       "      <td>...</td>\n",
       "      <td>0.074192</td>\n",
       "      <td>True</td>\n",
       "      <td>Rhodesian_ridgeback</td>\n",
       "      <td>0.072010</td>\n",
       "      <td>True</td>\n",
       "      <td>2017-08-01 00:17:27+00:00</td>\n",
       "      <td>6514</td>\n",
       "      <td>33819</td>\n",
       "      <td>3200889</td>\n",
       "      <td>True</td>\n",
       "    </tr>\n",
       "    <tr>\n",
       "      <th>2</th>\n",
       "      <td>891815181378084864</td>\n",
       "      <td>2017-07-31 00:18:03+00:00</td>\n",
       "      <td>Twitter for iPhone</td>\n",
       "      <td>This is Archie. He is a rare Norwegian Pouncin...</td>\n",
       "      <td>https://twitter.com/dog_rates/status/891815181...</td>\n",
       "      <td>12</td>\n",
       "      <td>10</td>\n",
       "      <td>Archie</td>\n",
       "      <td></td>\n",
       "      <td>https://pbs.twimg.com/media/CT4521TWwAEvMyu.jpg</td>\n",
       "      <td>...</td>\n",
       "      <td>0.138584</td>\n",
       "      <td>True</td>\n",
       "      <td>Bloodhound</td>\n",
       "      <td>0.116197</td>\n",
       "      <td>True</td>\n",
       "      <td>2017-07-31 00:18:03+00:00</td>\n",
       "      <td>4328</td>\n",
       "      <td>25461</td>\n",
       "      <td>3200889</td>\n",
       "      <td>True</td>\n",
       "    </tr>\n",
       "  </tbody>\n",
       "</table>\n",
       "<p>3 rows × 24 columns</p>\n",
       "</div>"
      ],
      "text/plain": [
       "             tweet_id                 timestamp              source  \\\n",
       "0  892420643555336193 2017-08-01 16:23:56+00:00  Twitter for iPhone   \n",
       "1  892177421306343426 2017-08-01 00:17:27+00:00  Twitter for iPhone   \n",
       "2  891815181378084864 2017-07-31 00:18:03+00:00  Twitter for iPhone   \n",
       "\n",
       "                                                text  \\\n",
       "0  This is Phineas. He's a mystical boy. Only eve...   \n",
       "1  This is Tilly. She's just checking pup on you....   \n",
       "2  This is Archie. He is a rare Norwegian Pouncin...   \n",
       "\n",
       "                                       expanded_urls  rating_numerator  \\\n",
       "0  https://twitter.com/dog_rates/status/892420643...                13   \n",
       "1  https://twitter.com/dog_rates/status/892177421...                13   \n",
       "2  https://twitter.com/dog_rates/status/891815181...                12   \n",
       "\n",
       "   rating_denominator     name dog_stages  \\\n",
       "0                  10  Phineas              \n",
       "1                  10    Tilly              \n",
       "2                  10   Archie              \n",
       "\n",
       "                                           jpg_url  ...   p2_conf  p2_dog  \\\n",
       "0  https://pbs.twimg.com/media/CT4udn0WwAA0aMy.jpg  ...  0.156665    True   \n",
       "1  https://pbs.twimg.com/media/CT42GRgUYAA5iDo.jpg  ...  0.074192    True   \n",
       "2  https://pbs.twimg.com/media/CT4521TWwAEvMyu.jpg  ...  0.138584    True   \n",
       "\n",
       "                    p3   p3_conf  p3_dog                      date  \\\n",
       "0    Shetland_sheepdog  0.061428    True 2017-08-01 16:23:56+00:00   \n",
       "1  Rhodesian_ridgeback  0.072010    True 2017-08-01 00:17:27+00:00   \n",
       "2           Bloodhound  0.116197    True 2017-07-31 00:18:03+00:00   \n",
       "\n",
       "  retweet_count  favorite_count  followers_count verified  \n",
       "0          8853           39467          3200889     True  \n",
       "1          6514           33819          3200889     True  \n",
       "2          4328           25461          3200889     True  \n",
       "\n",
       "[3 rows x 24 columns]"
      ]
     },
     "execution_count": 51,
     "metadata": {},
     "output_type": "execute_result"
    }
   ],
   "source": [
    "newdf.head(3)"
   ]
  },
  {
   "cell_type": "markdown",
   "id": "5340b495",
   "metadata": {},
   "source": [
    "## Storing Data"
   ]
  },
  {
   "cell_type": "code",
   "execution_count": 52,
   "id": "14f14cd2",
   "metadata": {},
   "outputs": [],
   "source": [
    "#save the dataset\n",
    "newdf.to_csv('twitter_archive_master.csv', index=False)"
   ]
  },
  {
   "cell_type": "markdown",
   "id": "31f9a966",
   "metadata": {},
   "source": [
    "## Analyzing and Visualizing Data"
   ]
  },
  {
   "cell_type": "code",
   "execution_count": 53,
   "id": "9c092e72",
   "metadata": {},
   "outputs": [],
   "source": [
    "import seaborn as sns"
   ]
  },
  {
   "cell_type": "code",
   "execution_count": 54,
   "id": "8a79ea30",
   "metadata": {},
   "outputs": [],
   "source": [
    "# reads the data in\n",
    "df=pd.read_csv('twitter_archive_master.csv')"
   ]
  },
  {
   "cell_type": "code",
   "execution_count": 55,
   "id": "319cc44e",
   "metadata": {
    "scrolled": true
   },
   "outputs": [
    {
     "data": {
      "text/plain": [
       "Index(['tweet_id', 'timestamp', 'source', 'text', 'expanded_urls',\n",
       "       'rating_numerator', 'rating_denominator', 'name', 'dog_stages',\n",
       "       'jpg_url', 'p1', 'p1_conf', 'p1_dog', 'p2', 'p2_conf', 'p2_dog', 'p3',\n",
       "       'p3_conf', 'p3_dog', 'date', 'retweet_count', 'favorite_count',\n",
       "       'followers_count', 'verified'],\n",
       "      dtype='object')"
      ]
     },
     "execution_count": 55,
     "metadata": {},
     "output_type": "execute_result"
    }
   ],
   "source": [
    "df.columns"
   ]
  },
  {
   "cell_type": "markdown",
   "id": "7a1d3f46",
   "metadata": {},
   "source": [
    "## **One Visualisation**"
   ]
  },
  {
   "cell_type": "code",
   "execution_count": 56,
   "id": "99533f00",
   "metadata": {},
   "outputs": [],
   "source": [
    "#set dtype to datetime\n",
    "df['timestamp'] = pd.to_datetime(df['timestamp'])\n",
    "#set index as Upload_date\n",
    "df=df.set_index(df['timestamp'])\n",
    "#resamples by year\n",
    "year_counts=df['timestamp'].resample('Y').count()"
   ]
  },
  {
   "cell_type": "code",
   "execution_count": 57,
   "id": "d3c079d8",
   "metadata": {
    "scrolled": false
   },
   "outputs": [
    {
     "data": {
      "image/png": "[encoded data removed]",
      "text/plain": [
       "<Figure size 720x360 with 1 Axes>"
      ]
     },
     "metadata": {
      "needs_background": "light"
     },
     "output_type": "display_data"
    }
   ],
   "source": [
    "#bar graph\n",
    "fig = plt.figure(figsize=(10,5))\n",
    "sns.barplot(x=year_counts.index.year, y=year_counts, color='#4fabbc' )\n",
    "plt.ylabel('Counts',fontsize=12)\n",
    "plt.xlabel('Year',fontsize=12)\n",
    "plt.title('Total Tweets by Year',fontsize=16)\n",
    "plt.xticks(rotation=60);"
   ]
  },
  {
   "cell_type": "markdown",
   "id": "b4823983",
   "metadata": {},
   "source": [
    "```2016``` has the number of tweets among other years"
   ]
  },
  {
   "cell_type": "markdown",
   "id": "5b99defd",
   "metadata": {},
   "source": [
    "## **Three Insights**"
   ]
  },
  {
   "cell_type": "markdown",
   "id": "e5251c47",
   "metadata": {},
   "source": [
    "### 1. What is the average rating for dogs?"
   ]
  },
  {
   "cell_type": "code",
   "execution_count": 58,
   "id": "a2b2367c",
   "metadata": {
    "scrolled": true
   },
   "outputs": [
    {
     "data": {
      "text/plain": [
       "13.697349397590362"
      ]
     },
     "execution_count": 58,
     "metadata": {},
     "output_type": "execute_result"
    }
   ],
   "source": [
    "df['rating_numerator'].mean()"
   ]
  },
  {
   "cell_type": "markdown",
   "id": "6b1751e6",
   "metadata": {},
   "source": [
    "The average rating for dogs is ```13.7```"
   ]
  },
  {
   "cell_type": "markdown",
   "id": "b7f9d97f",
   "metadata": {},
   "source": [
    "### 2. What is the average rating for each dog stage?"
   ]
  },
  {
   "cell_type": "code",
   "execution_count": 59,
   "id": "f19b5acf",
   "metadata": {
    "scrolled": true
   },
   "outputs": [
    {
     "data": {
      "text/html": [
       "<div>\n",
       "<style scoped>\n",
       "    .dataframe tbody tr th:only-of-type {\n",
       "        vertical-align: middle;\n",
       "    }\n",
       "\n",
       "    .dataframe tbody tr th {\n",
       "        vertical-align: top;\n",
       "    }\n",
       "\n",
       "    .dataframe thead th {\n",
       "        text-align: right;\n",
       "    }\n",
       "</style>\n",
       "<table border=\"1\" class=\"dataframe\">\n",
       "  <thead>\n",
       "    <tr style=\"text-align: right;\">\n",
       "      <th></th>\n",
       "      <th>dog_stages</th>\n",
       "      <th>rating_numerator</th>\n",
       "    </tr>\n",
       "  </thead>\n",
       "  <tbody>\n",
       "    <tr>\n",
       "      <th>0</th>\n",
       "      <td>doggo</td>\n",
       "      <td>11.879518</td>\n",
       "    </tr>\n",
       "    <tr>\n",
       "      <th>1</th>\n",
       "      <td>doggofloofer</td>\n",
       "      <td>11.000000</td>\n",
       "    </tr>\n",
       "    <tr>\n",
       "      <th>2</th>\n",
       "      <td>doggopupper</td>\n",
       "      <td>11.250000</td>\n",
       "    </tr>\n",
       "    <tr>\n",
       "      <th>3</th>\n",
       "      <td>doggopuppo</td>\n",
       "      <td>13.000000</td>\n",
       "    </tr>\n",
       "    <tr>\n",
       "      <th>4</th>\n",
       "      <td>floofer</td>\n",
       "      <td>11.888889</td>\n",
       "    </tr>\n",
       "    <tr>\n",
       "      <th>5</th>\n",
       "      <td>pupper</td>\n",
       "      <td>10.853061</td>\n",
       "    </tr>\n",
       "    <tr>\n",
       "      <th>6</th>\n",
       "      <td>puppo</td>\n",
       "      <td>12.103448</td>\n",
       "    </tr>\n",
       "  </tbody>\n",
       "</table>\n",
       "</div>"
      ],
      "text/plain": [
       "     dog_stages  rating_numerator\n",
       "0         doggo         11.879518\n",
       "1  doggofloofer         11.000000\n",
       "2   doggopupper         11.250000\n",
       "3    doggopuppo         13.000000\n",
       "4       floofer         11.888889\n",
       "5        pupper         10.853061\n",
       "6         puppo         12.103448"
      ]
     },
     "execution_count": 59,
     "metadata": {},
     "output_type": "execute_result"
    }
   ],
   "source": [
    "#group by dog stage for average rating mean\n",
    "df.groupby(by='dog_stages', as_index=False).mean()[['dog_stages','rating_numerator']]"
   ]
  },
  {
   "cell_type": "markdown",
   "id": "9ca90e7c",
   "metadata": {},
   "source": [
    "```Doggopuppo``` stage has the average rating of ```13``` while the ```Pupper``` has the average rating of ```10.9```"
   ]
  },
  {
   "cell_type": "markdown",
   "id": "3480c6e1",
   "metadata": {},
   "source": [
    "### 3. what are the top five dog breed with the highest average ratings"
   ]
  },
  {
   "cell_type": "code",
   "execution_count": 60,
   "id": "b0493adc",
   "metadata": {},
   "outputs": [
    {
     "data": {
      "text/html": [
       "<div>\n",
       "<style scoped>\n",
       "    .dataframe tbody tr th:only-of-type {\n",
       "        vertical-align: middle;\n",
       "    }\n",
       "\n",
       "    .dataframe tbody tr th {\n",
       "        vertical-align: top;\n",
       "    }\n",
       "\n",
       "    .dataframe thead th {\n",
       "        text-align: right;\n",
       "    }\n",
       "</style>\n",
       "<table border=\"1\" class=\"dataframe\">\n",
       "  <thead>\n",
       "    <tr style=\"text-align: right;\">\n",
       "      <th></th>\n",
       "      <th>p3</th>\n",
       "      <th>rating_numerator</th>\n",
       "    </tr>\n",
       "  </thead>\n",
       "  <tbody>\n",
       "    <tr>\n",
       "      <th>22</th>\n",
       "      <td>Banana</td>\n",
       "      <td>420.000000</td>\n",
       "    </tr>\n",
       "    <tr>\n",
       "      <th>44</th>\n",
       "      <td>Black-footed_ferret</td>\n",
       "      <td>363.800000</td>\n",
       "    </tr>\n",
       "    <tr>\n",
       "      <th>305</th>\n",
       "      <td>Rottweiler</td>\n",
       "      <td>105.700000</td>\n",
       "    </tr>\n",
       "    <tr>\n",
       "      <th>327</th>\n",
       "      <td>Shower_curtain</td>\n",
       "      <td>68.333333</td>\n",
       "    </tr>\n",
       "    <tr>\n",
       "      <th>297</th>\n",
       "      <td>Redbone</td>\n",
       "      <td>68.285714</td>\n",
       "    </tr>\n",
       "  </tbody>\n",
       "</table>\n",
       "</div>"
      ],
      "text/plain": [
       "                      p3  rating_numerator\n",
       "22                Banana        420.000000\n",
       "44   Black-footed_ferret        363.800000\n",
       "305           Rottweiler        105.700000\n",
       "327       Shower_curtain         68.333333\n",
       "297              Redbone         68.285714"
      ]
     },
     "execution_count": 60,
     "metadata": {},
     "output_type": "execute_result"
    }
   ],
   "source": [
    "#group by p3\n",
    "bread_rating=df.groupby(by='p3', as_index=False).mean()[['p3','rating_numerator']]\n",
    "#top five ratings\n",
    "bread_rating.nlargest(5,'rating_numerator',)"
   ]
  },
  {
   "cell_type": "markdown",
   "id": "967da70b",
   "metadata": {},
   "source": [
    "Top five breeds with highest average ratings are ```Banana Black-footed_ferret Rottweiler Shower_curtain Redbone```"
   ]
  },
  {
   "cell_type": "code",
   "execution_count": null,
   "id": "ddc33517",
   "metadata": {},
   "outputs": [],
   "source": []
  }
 ],
 "metadata": {
  "kernelspec": {
   "display_name": "Python 3 (ipykernel)",
   "language": "python",
   "name": "python3"
  },
  "language_info": {
   "codemirror_mode": {
    "name": "ipython",
    "version": 3
   },
   "file_extension": ".py",
   "mimetype": "text/x-python",
   "name": "python",
   "nbconvert_exporter": "python",
   "pygments_lexer": "ipython3",
   "version": "3.10.0"
  }
 },
 "nbformat": 4,
 "nbformat_minor": 5
}
