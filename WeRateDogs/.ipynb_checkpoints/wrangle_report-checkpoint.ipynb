{
 "cells": [
  {
   "cell_type": "markdown",
   "id": "979088fd",
   "metadata": {},
   "source": [
    "# Wrangle Report\n",
    "<hr>\n",
    "\n",
    "## Introduction\n",
    "\n",
    "   The dataset tat is wrangled in the project is that of twitter users at dog rates. the purpose of the project was to practise data wrangling skills which is part of te udacity data analysis program. \n",
    "\n",
    "   The WeRateDogs Twitter project goals included:\n",
    "1. Wrangling the twitter data through the following processes:\n",
    "    - Gathering Data\n",
    "    - Assessing Data\n",
    "    - Cleaning Data\n",
    "2. Storing, analyzing and visualizing your wrangled data\n",
    "3. Reporting on the data wrangling efforts and data analyse and visualization\n",
    "\n",
    "## Process\n",
    "**Gathering data**\n",
    "\n",
    "   Data was gathered from three source\n",
    "1. Twitter archive file: the twitter_archive_enhanced.csv was provided by\n",
    "Udacity and downloaded manually\n",
    "2. The tweet image predictions, i.e., what breed of is present in each tweet\n",
    "according to a neural network. This file (image_predictions.tsv) is hosted\n",
    "on Udacity's servers and was downloaded programmatically using the\n",
    "Requests library and URL information\n",
    "3. Twitter API and Python's Tweepy library to gather each tweet's retweet count and\n",
    "favorite (\"like\") count at minimum, and any additional data I find interesting.\n",
    "\n",
    "**Assessing Data**\n",
    "\n",
    "   The data was assessed visualy and programitial for both quality issues an tidines some of the tidiness and quality issues found are \n",
    "\n",
    "1. missing records\n",
    "2. timestamp should be in datetime format and not object\n",
    "3. source columns contain html link tags\n",
    "4. the denominator has a max value of 170\n",
    "5. p1, p2, and p3 ave lowercase given names\n",
    "6. img_num are not use full\n",
    "7. datetime should be of datatime datatype and not object\n",
    "8. tweet_id should be string instead of int\n",
    "9. Combine the 4 dog stage columns into a single column in the archive table\n",
    "10. merge WeRateDogs_Achives, imagePredictions and apiTweets tables\n",
    "\n",
    "**Cleaning Data**\n",
    "\n",
    "   Issues found wile assessing data were cleaned following the define code test method\n",
    "1. Define: defines the problem\n",
    "2. code : show the working code to solving the define problem\n",
    "3. Test : show the cleaned output\n",
    "\n",
    "## Conclusion\n",
    "\n",
    "Data wrangling is a core skill that whoever handles data should be familiar with.\n",
    "I have used Python programming language and some of its packages. There are\n",
    "several advantages of this tool (as compared to e.g. Excel) that is used by many\n",
    "data scientists (including the guys at Facebook). Overall, this project was completed successfully and I’m extremely pleased with the new skills I acquired\n",
    "    \n",
    " "
   ]
  },
  {
   "cell_type": "code",
   "execution_count": null,
   "id": "d8910b99",
   "metadata": {},
   "outputs": [],
   "source": []
  }
 ],
 "metadata": {
  "kernelspec": {
   "display_name": "Python 3 (ipykernel)",
   "language": "python",
   "name": "python3"
  },
  "language_info": {
   "codemirror_mode": {
    "name": "ipython",
    "version": 3
   },
   "file_extension": ".py",
   "mimetype": "text/x-python",
   "name": "python",
   "nbconvert_exporter": "python",
   "pygments_lexer": "ipython3",
   "version": "3.10.0"
  }
 },
 "nbformat": 4,
 "nbformat_minor": 5
}
